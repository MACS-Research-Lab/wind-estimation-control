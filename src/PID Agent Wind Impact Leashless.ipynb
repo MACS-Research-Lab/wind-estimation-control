{
 "cells": [
  {
   "cell_type": "markdown",
   "id": "38e419f2-c4dc-435f-8218-732577a45803",
   "metadata": {},
   "source": [
    "# Wind Impact on PID Leashless Agent Performance\n",
    "\n",
    "How robust is the PID without the safety leash to all wind?"
   ]
  },
  {
   "cell_type": "code",
   "execution_count": 1,
   "id": "1edcd168-276a-4926-8039-ebc03390ee43",
   "metadata": {},
   "outputs": [],
   "source": [
    "import matplotlib.pyplot as plt\n",
    "import numpy as np\n",
    "import pandas as pd\n",
    "from tqdm import tqdm\n",
    "\n",
    "from utilities import get_agent\n",
    "from environments import OctorotorEnvSelector\n",
    "from systems.pid_agent import PIDAgent\n",
    "from multirotor.helpers import DataLog"
   ]
  },
  {
   "cell_type": "code",
   "execution_count": 2,
   "id": "b8bd04f1-74e7-4eaf-a8bc-c5f414948a24",
   "metadata": {},
   "outputs": [],
   "source": [
    "best_agent = PIDAgent()\n",
    "\n",
    "best_params = {'steps_u':1, 'scaling_factor':0, 'window_distance':1000}"
   ]
  },
  {
   "cell_type": "code",
   "execution_count": 3,
   "id": "7582ffaa-d1fd-4923-920c-0c046c235991",
   "metadata": {},
   "outputs": [
    {
     "data": {
      "text/plain": [
       "{'steps_u': 1, 'scaling_factor': 0, 'window_distance': 1000}"
      ]
     },
     "execution_count": 3,
     "metadata": {},
     "output_type": "execute_result"
    }
   ],
   "source": [
    "best_params"
   ]
  },
  {
   "cell_type": "code",
   "execution_count": 4,
   "id": "b7c8e6e1-5bca-4dd2-999c-3d7006979e7f",
   "metadata": {
    "editable": true,
    "slideshow": {
     "slide_type": ""
    },
    "tags": []
   },
   "outputs": [],
   "source": [
    "env_selector = OctorotorEnvSelector()\n",
    "square_wpts = np.array([[100,0,30], [100,100,30], [0,100,30], [0,0,30]])"
   ]
  },
  {
   "cell_type": "code",
   "execution_count": 5,
   "id": "a0d9847f-79fe-4c7a-889f-5733a30cc5b9",
   "metadata": {},
   "outputs": [],
   "source": [
    "def get_tte(initial_pos: tuple, waypoints: np.ndarray, x: np.ndarray, y:np.ndarray, z:np.ndarray) -> np.ndarray:\n",
    "        \"\"\"\n",
    "        Calculates the trajectory tracking error. \n",
    "        The distance between the current point and the vector between previous and next wp. Uses ||v1 x v2|| / ||v1||.\n",
    "\n",
    "        Parameters\n",
    "        ----------\n",
    "        initial_pos : tuple  \n",
    "            the initial position of the UAV.\n",
    "        waypoints : np.ndarray \n",
    "            the reference positions at each point in time.\n",
    "        x : np.ndarray \n",
    "            the x positions of the UAV.\n",
    "        y : np.ndarray \n",
    "            the y positions of the UAV.\n",
    "        z : np.ndarray\n",
    "            the z positions of the UAV.\n",
    "\n",
    "        Returns\n",
    "        -------\n",
    "        np.ndarray \n",
    "            the trajectory tracking error at each point in time.\n",
    "        \"\"\"\n",
    "        ttes = []\n",
    "        prev = initial_pos\n",
    "        for i, waypoint in enumerate(waypoints):\n",
    "            if i > 0 and not np.array_equal(waypoints[i-1], waypoints[i]):\n",
    "                prev = waypoints[i-1]\n",
    "\n",
    "            v1 = waypoint - prev\n",
    "            v2 = np.array([x[i],y[i],z[i]]) - prev\n",
    "            tte = np.linalg.norm(np.cross(v1, v2)) / (np.linalg.norm(v1) + 1e-6)\n",
    "            ttes.append(tte)\n",
    "                \n",
    "        return np.array(ttes)"
   ]
  },
  {
   "cell_type": "code",
   "execution_count": 23,
   "id": "a4ac0dd5-49ad-44d5-9a0a-c12cf75121c1",
   "metadata": {},
   "outputs": [],
   "source": [
    "def toc(tte: np.ndarray):\n",
    "    corridor = 2\n",
    "    return best_params['steps_u'] * len(tte[tte > corridor]) / 100"
   ]
  },
  {
   "cell_type": "code",
   "execution_count": 24,
   "id": "81bce838-92c0-49a5-91d4-fa8032876474",
   "metadata": {},
   "outputs": [],
   "source": [
    "def completed_mission(waypoints: np.ndarray, x: np.ndarray, y: np.ndarray, z: np.ndarray, radius: float = 0.65):\n",
    "        for waypoint in waypoints:\n",
    "            reached_waypoint = False\n",
    "\n",
    "            for position in zip(x,y,z):\n",
    "                dist = np.linalg.norm(waypoint - position)\n",
    "\n",
    "                if dist <= radius:\n",
    "                    reached_waypoint = True\n",
    "                    break\n",
    "\n",
    "            if not reached_waypoint:\n",
    "                return False\n",
    "            \n",
    "        return True"
   ]
  },
  {
   "cell_type": "code",
   "execution_count": 25,
   "id": "b22b1d5f-5f9e-4969-a678-ec6a62417c15",
   "metadata": {},
   "outputs": [],
   "source": [
    "def run_trajectory(env_selector, wind_ranges: np.ndarray, agent, params):\n",
    "    env = env_selector.get_env(\"default\", params, wind_ranges, square_wpts, start_alt=30, has_turbulence=True)\n",
    "    done = False\n",
    "    state = np.array(env.reset(), dtype=np.float32)\n",
    "    log = DataLog(env.base_env.vehicle,\n",
    "                      other_vars=('reward', 'next_wp'))\n",
    "    while not done:\n",
    "        action = agent.predict(state, deterministic=True)[0]\n",
    "        state, reward, done, info = env.step(action)\n",
    "        state = np.array(state, dtype=np.float32)\n",
    "        log.log(reward=reward, next_wp=env.base_env.next_waypt)\n",
    "\n",
    "    log.done_logging()\n",
    "    return log, info"
   ]
  },
  {
   "cell_type": "code",
   "execution_count": 36,
   "id": "590c0c39-fe2a-4747-b716-0e9a508271c6",
   "metadata": {},
   "outputs": [],
   "source": [
    "wind_range_dict = {\n",
    "    'zero': [(0,0), (0,0), (0,0)],\n",
    "    'n5': [(0,0), (5,5), (0,0)],\n",
    "    'n7': [(0,0), (7,7), (0,0)],\n",
    "    'n10': [(0,0), (10,10), (0,0)],\n",
    "    'n12': [(0,0), (12,12), (0,0)],\n",
    "    's5': [(0,0), (-5,-5), (0,0)],\n",
    "    's7': [(0,0), (-7,-7), (0,0)],\n",
    "    's10': [(0,0), (-10,-10), (0,0)],\n",
    "    's12': [(0,0), (-12,-12), (0,0)],\n",
    "    'e5': [(5,5), (0,0), (0,0)],\n",
    "    'e7': [(7,7), (0,0), (0,0)],\n",
    "    'e10': [(10,10), (0,0), (0,0)],\n",
    "    'e12': [(12,12), (0,0), (0,0)],\n",
    "    'w5': [(-5,-5), (0,0), (0,0)],\n",
    "    'w7': [(-7,-7), (0,0), (0,0)],\n",
    "    'w10': [(-10,-10), (0,0), (0,0)],\n",
    "    'w12': [(-12,-12), (0,0), (0,0)],\n",
    "    'nw5': [(-3.53553391,-3.53553391), (3.53553391,3.53553391), (0,0)],\n",
    "    'nw7': [(-4.94974747,-4.94974747), (4.94974747,4.94974747), (0,0)],\n",
    "    'nw10': [(-7.07106781,-7.07106781), (7.07106781,7.07106781), (0,0)],\n",
    "    'sw5': [(-3.53553391,-3.53553391), (-3.53553391,-3.53553391), (0,0)],\n",
    "    'sw7': [(-4.94974747,-4.94974747), (-4.94974747,-4.94974747), (0,0)],\n",
    "    'sw10': [(-7.07106781,-7.07106781), (-7.07106781,-7.07106781), (0,0)],\n",
    "    'ne5': [(3.53553391,3.53553391), (3.53553391,3.53553391), (0,0)],\n",
    "    'ne7': [(4.94974747,4.94974747), (4.94974747,4.94974747), (0,0)],\n",
    "    'ne10': [(7.07106781,7.07106781), (7.07106781,7.07106781), (0,0)],\n",
    "    'se5': [(3.53553391,3.53553391), (-3.53553391,-3.53553391), (0,0)],\n",
    "    'se7': [(4.94974747,4.94974747), (-4.94974747,-4.94974747), (0,0)],\n",
    "    'se10': [(7.07106781,7.07106781), (-7.07106781,-7.07106781), (0,0)],\n",
    "}"
   ]
  },
  {
   "cell_type": "code",
   "execution_count": 37,
   "id": "621e7b9b-fec7-4d1e-b13a-ae0958de15cd",
   "metadata": {},
   "outputs": [],
   "source": [
    "wind_results = pd.DataFrame(columns=['Wind', 'Total TTE', 'Mean TTE', 'Completed Mission', 'Reward', 'Time Outside Corridor'])"
   ]
  },
  {
   "cell_type": "code",
   "execution_count": 38,
   "id": "3e454d27-e982-4dd4-8287-fa03b58eb7fd",
   "metadata": {},
   "outputs": [],
   "source": [
    "def run_wind_sweep(results, wind_dict, agent, params):\n",
    "    for wind in tqdm(wind_dict.keys()):\n",
    "        log, info = run_trajectory(env_selector, wind_dict[wind], agent, params)\n",
    "        traj_err = get_tte(np.array([0,0,30]), log.next_wp, log.x, log.y, log.z)\n",
    "        new_result = {\n",
    "            'Wind': wind,\n",
    "            'Mean TTE': np.mean(traj_err),\n",
    "            'Total TTE': np.sum(traj_err),\n",
    "            'Completed Mission': completed_mission(square_wpts, log.x, log.y, log.z, radius=5),\n",
    "            'Reward': np.sum(log.reward),\n",
    "            'Time Outside Corridor': toc(traj_err)\n",
    "        }\n",
    "        results = pd.concat([results, pd.DataFrame([new_result])], ignore_index=True)\n",
    "\n",
    "    return results"
   ]
  },
  {
   "cell_type": "code",
   "execution_count": 39,
   "id": "ab0bd35d-0c29-4ca0-83e4-1750cc418a4e",
   "metadata": {},
   "outputs": [
    {
     "name": "stderr",
     "output_type": "stream",
     "text": [
      "  0%|          | 0/4 [00:00<?, ?it/s]/tmp/ipykernel_2502476/755085242.py:13: FutureWarning: The behavior of DataFrame concatenation with empty or all-NA entries is deprecated. In a future version, this will no longer exclude empty or all-NA columns when determining the result dtypes. To retain the old behavior, exclude the relevant entries before the concat operation.\n",
      "  results = pd.concat([results, pd.DataFrame([new_result])], ignore_index=True)\n",
      "100%|██████████| 4/4 [01:33<00:00, 23.31s/it]\n"
     ]
    }
   ],
   "source": [
    "wind_results = run_wind_sweep(wind_results, wind_range_dict, best_agent, best_params)"
   ]
  },
  {
   "cell_type": "code",
   "execution_count": 30,
   "id": "b968877e-abae-4830-8e14-ee7b56049138",
   "metadata": {},
   "outputs": [],
   "source": [
    "wind_results.to_csv('./data/pid_noleash_wind.csv')"
   ]
  },
  {
   "cell_type": "code",
   "execution_count": 31,
   "id": "93a621fe-aca0-45e7-af83-d142072d28d3",
   "metadata": {},
   "outputs": [],
   "source": [
    "wind_results = pd.read_csv('./data/pid_noleash_wind.csv') "
   ]
  },
  {
   "cell_type": "code",
   "execution_count": 40,
   "id": "67f8afef-ed63-4e8b-8a14-bb4e70d7c03d",
   "metadata": {},
   "outputs": [
    {
     "data": {
      "text/html": [
       "<div>\n",
       "<style scoped>\n",
       "    .dataframe tbody tr th:only-of-type {\n",
       "        vertical-align: middle;\n",
       "    }\n",
       "\n",
       "    .dataframe tbody tr th {\n",
       "        vertical-align: top;\n",
       "    }\n",
       "\n",
       "    .dataframe thead th {\n",
       "        text-align: right;\n",
       "    }\n",
       "</style>\n",
       "<table border=\"1\" class=\"dataframe\">\n",
       "  <thead>\n",
       "    <tr style=\"text-align: right;\">\n",
       "      <th></th>\n",
       "      <th>Wind</th>\n",
       "      <th>Total TTE</th>\n",
       "      <th>Mean TTE</th>\n",
       "      <th>Completed Mission</th>\n",
       "      <th>Reward</th>\n",
       "      <th>Time Outside Corridor</th>\n",
       "    </tr>\n",
       "  </thead>\n",
       "  <tbody>\n",
       "    <tr>\n",
       "      <th>0</th>\n",
       "      <td>n12</td>\n",
       "      <td>1.067458e+06</td>\n",
       "      <td>71.159104</td>\n",
       "      <td>False</td>\n",
       "      <td>-215991.562500</td>\n",
       "      <td>148.59</td>\n",
       "    </tr>\n",
       "    <tr>\n",
       "      <th>1</th>\n",
       "      <td>s12</td>\n",
       "      <td>1.327908e+06</td>\n",
       "      <td>88.521326</td>\n",
       "      <td>False</td>\n",
       "      <td>-268081.687500</td>\n",
       "      <td>148.59</td>\n",
       "    </tr>\n",
       "    <tr>\n",
       "      <th>2</th>\n",
       "      <td>e12</td>\n",
       "      <td>7.226930e+02</td>\n",
       "      <td>0.048176</td>\n",
       "      <td>False</td>\n",
       "      <td>-2644.538818</td>\n",
       "      <td>0.00</td>\n",
       "    </tr>\n",
       "    <tr>\n",
       "      <th>3</th>\n",
       "      <td>w12</td>\n",
       "      <td>1.032537e+06</td>\n",
       "      <td>63.795951</td>\n",
       "      <td>False</td>\n",
       "      <td>-206506.546875</td>\n",
       "      <td>148.26</td>\n",
       "    </tr>\n",
       "  </tbody>\n",
       "</table>\n",
       "</div>"
      ],
      "text/plain": [
       "  Wind     Total TTE   Mean TTE Completed Mission         Reward  \\\n",
       "0  n12  1.067458e+06  71.159104             False -215991.562500   \n",
       "1  s12  1.327908e+06  88.521326             False -268081.687500   \n",
       "2  e12  7.226930e+02   0.048176             False   -2644.538818   \n",
       "3  w12  1.032537e+06  63.795951             False -206506.546875   \n",
       "\n",
       "   Time Outside Corridor  \n",
       "0                 148.59  \n",
       "1                 148.59  \n",
       "2                   0.00  \n",
       "3                 148.26  "
      ]
     },
     "execution_count": 40,
     "metadata": {},
     "output_type": "execute_result"
    }
   ],
   "source": [
    "wind_results"
   ]
  },
  {
   "cell_type": "code",
   "execution_count": 41,
   "id": "0e3bd4da-eb52-4268-98d9-6cd7de6099d0",
   "metadata": {},
   "outputs": [
    {
     "name": "stdout",
     "output_type": "stream",
     "text": [
      "Mean reward for 5 m/s:  nan\n",
      "Std reward for 5 m/s:  nan\n",
      "Mean reward for 7 m/s:  nan\n",
      "Std reward for 7 m/s:  nan\n",
      "Mean reward for 10 m/s:  nan\n",
      "Std reward for 10 m/s:  nan\n"
     ]
    }
   ],
   "source": [
    "print(\"Mean reward for 5 m/s: \", wind_results[wind_results['Wind'].str.contains(\"5\")]['Reward'].mean())\n",
    "print(\"Std reward for 5 m/s: \",wind_results[wind_results['Wind'].str.contains(\"5\")]['Reward'].std())\n",
    "print(\"Mean reward for 7 m/s: \", wind_results[wind_results['Wind'].str.contains(\"7\")]['Reward'].mean())\n",
    "print(\"Std reward for 7 m/s: \",wind_results[wind_results['Wind'].str.contains(\"7\")]['Reward'].std())\n",
    "print(\"Mean reward for 10 m/s: \", wind_results[wind_results['Wind'].str.contains(\"10\")]['Reward'].mean())\n",
    "print(\"Std reward for 10 m/s: \",wind_results[wind_results['Wind'].str.contains(\"10\")]['Reward'].std())"
   ]
  },
  {
   "cell_type": "code",
   "execution_count": 42,
   "id": "da072f07-9933-44da-ba9b-b3baf536c26d",
   "metadata": {},
   "outputs": [
    {
     "name": "stdout",
     "output_type": "stream",
     "text": [
      "Mean for 5 m/s:  nan\n",
      "Std for 5 m/s:  nan\n",
      "Mean for 7 m/s:  nan\n",
      "Std for 7 m/s:  nan\n",
      "Mean for 10 m/s:  nan\n",
      "Std for 10 m/s:  nan\n",
      "Mean for 12 m/s:  55.88113926430746\n",
      "Std for 12 m/s:  38.63833150433512\n"
     ]
    }
   ],
   "source": [
    "print(\"Mean for 5 m/s: \", wind_results[wind_results['Wind'].str.contains(\"5\")]['Mean TTE'].mean())\n",
    "print(\"Std for 5 m/s: \",wind_results[wind_results['Wind'].str.contains(\"5\")]['Mean TTE'].std())\n",
    "print(\"Mean for 7 m/s: \", wind_results[wind_results['Wind'].str.contains(\"7\")]['Mean TTE'].mean())\n",
    "print(\"Std for 7 m/s: \",wind_results[wind_results['Wind'].str.contains(\"7\")]['Mean TTE'].std())\n",
    "print(\"Mean for 10 m/s: \", wind_results[wind_results['Wind'].str.contains(\"10\")]['Mean TTE'].mean())\n",
    "print(\"Std for 10 m/s: \",wind_results[wind_results['Wind'].str.contains(\"10\")]['Mean TTE'].std())\n",
    "print(\"Mean for 12 m/s: \", wind_results[wind_results['Wind'].str.contains(\"12\")]['Mean TTE'].mean())\n",
    "print(\"Std for 12 m/s: \",wind_results[wind_results['Wind'].str.contains(\"12\")]['Mean TTE'].std())\n"
   ]
  },
  {
   "cell_type": "code",
   "execution_count": 35,
   "id": "b7e9548e-d7c5-42ea-9a3c-3ca981360703",
   "metadata": {},
   "outputs": [
    {
     "name": "stdout",
     "output_type": "stream",
     "text": [
      "Mean reward for 5 m/s:  9.09375\n",
      "Std reward for 5 m/s:  0.9442750431642559\n",
      "Mean reward for 7 m/s:  10.942499999999999\n",
      "Std reward for 7 m/s:  1.9119604747857257\n",
      "Mean reward for 10 m/s:  20.55875\n",
      "Std reward for 10 m/s:  4.285411923857829\n",
      "Mean reward for 12 m/s:  24.810000000000002\n",
      "Std reward for 12 m/s:  2.772219327542464\n"
     ]
    }
   ],
   "source": [
    "print(\"Mean reward for 5 m/s: \", wind_results[wind_results['Wind'].str.contains(\"5\")]['Time Outside Corridor'].mean())\n",
    "print(\"Std reward for 5 m/s: \",wind_results[wind_results['Wind'].str.contains(\"5\")]['Time Outside Corridor'].std())\n",
    "print(\"Mean reward for 7 m/s: \", wind_results[wind_results['Wind'].str.contains(\"7\")]['Time Outside Corridor'].mean())\n",
    "print(\"Std reward for 7 m/s: \",wind_results[wind_results['Wind'].str.contains(\"7\")]['Time Outside Corridor'].std())\n",
    "print(\"Mean reward for 10 m/s: \", wind_results[wind_results['Wind'].str.contains(\"10\")]['Time Outside Corridor'].mean())\n",
    "print(\"Std reward for 10 m/s: \",wind_results[wind_results['Wind'].str.contains(\"10\")]['Time Outside Corridor'].std())\n",
    "print(\"Mean reward for 12 m/s: \", wind_results[wind_results['Wind'].str.contains(\"12\")]['Time Outside Corridor'].mean())\n",
    "print(\"Std reward for 12 m/s: \",wind_results[wind_results['Wind'].str.contains(\"12\")]['Time Outside Corridor'].std())"
   ]
  },
  {
   "cell_type": "code",
   "execution_count": 19,
   "id": "fa8c89b4-f996-49c2-beb3-63ccebcec1fc",
   "metadata": {},
   "outputs": [
    {
     "name": "stdout",
     "output_type": "stream",
     "text": [
      "Mean reward for 5 m/s:  1.0\n",
      "Std reward for 5 m/s:  0.0\n",
      "Mean reward for 7 m/s:  1.0\n",
      "Std reward for 7 m/s:  0.0\n",
      "Mean reward for 10 m/s:  1.0\n",
      "Std reward for 10 m/s:  0.0\n"
     ]
    }
   ],
   "source": [
    "print(\"Mean reward for 5 m/s: \", wind_results[wind_results['Wind'].str.contains(\"5\")]['Completed Mission'].mean())\n",
    "print(\"Std reward for 5 m/s: \",wind_results[wind_results['Wind'].str.contains(\"5\")]['Completed Mission'].std())\n",
    "print(\"Mean reward for 7 m/s: \", wind_results[wind_results['Wind'].str.contains(\"7\")]['Completed Mission'].mean())\n",
    "print(\"Std reward for 7 m/s: \",wind_results[wind_results['Wind'].str.contains(\"7\")]['Completed Mission'].std())\n",
    "print(\"Mean reward for 10 m/s: \", wind_results[wind_results['Wind'].str.contains(\"10\")]['Completed Mission'].mean())\n",
    "print(\"Std reward for 10 m/s: \",wind_results[wind_results['Wind'].str.contains(\"10\")]['Completed Mission'].std())"
   ]
  }
 ],
 "metadata": {
  "kernelspec": {
   "display_name": "Python 3 (ipykernel)",
   "language": "python",
   "name": "python3"
  },
  "language_info": {
   "codemirror_mode": {
    "name": "ipython",
    "version": 3
   },
   "file_extension": ".py",
   "mimetype": "text/x-python",
   "name": "python",
   "nbconvert_exporter": "python",
   "pygments_lexer": "ipython3",
   "version": "3.9.18"
  }
 },
 "nbformat": 4,
 "nbformat_minor": 5
}
