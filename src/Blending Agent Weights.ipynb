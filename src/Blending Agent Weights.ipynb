{
 "cells": [
  {
   "cell_type": "markdown",
   "id": "38e419f2-c4dc-435f-8218-732577a45803",
   "metadata": {},
   "source": [
    "# Wind Impact on Blending Agent Performance\n",
    "\n",
    "How robust is the RL architecture trained on to blend other RL policies to all wind?"
   ]
  },
  {
   "cell_type": "code",
   "execution_count": 12,
   "id": "1edcd168-276a-4926-8039-ebc03390ee43",
   "metadata": {},
   "outputs": [],
   "source": [
    "import matplotlib.pyplot as plt\n",
    "import numpy as np\n",
    "import pandas as pd\n",
    "from tqdm import tqdm\n",
    "\n",
    "from utilities import get_agent\n",
    "from environments import OctorotorEnvSelector\n",
    "from systems.pid_agent import PIDAgent\n",
    "from multirotor.helpers import DataLog\n",
    "from systems.long_blending import softmax"
   ]
  },
  {
   "cell_type": "code",
   "execution_count": 13,
   "id": "b8bd04f1-74e7-4eaf-a8bc-c5f414948a24",
   "metadata": {},
   "outputs": [
    {
     "name": "stderr",
     "output_type": "stream",
     "text": [
      "[I 2023-09-13 21:54:45,277] Using an existing study with name 'blending@softmax@scaled' instead of creating a new one.\n"
     ]
    }
   ],
   "source": [
    "study, best_agent, best_params = get_agent('blending@softmax@scaled', filepath='BlendingEnv')\n",
    "\n",
    "best_params['steps_u']=50\n",
    "best_params['scaling_factor']=5\n",
    "best_params['bounding_rect_length']=200\n",
    "best_params['window_distance']=10"
   ]
  },
  {
   "cell_type": "code",
   "execution_count": 14,
   "id": "b7c8e6e1-5bca-4dd2-999c-3d7006979e7f",
   "metadata": {
    "editable": true,
    "slideshow": {
     "slide_type": ""
    },
    "tags": []
   },
   "outputs": [],
   "source": [
    "env_selector = OctorotorEnvSelector()\n",
    "square_wpts = np.array([[100,0,0], [100,100,0], [0,100,0], [0,0,0]])"
   ]
  },
  {
   "cell_type": "code",
   "execution_count": 15,
   "id": "b22b1d5f-5f9e-4969-a678-ec6a62417c15",
   "metadata": {},
   "outputs": [],
   "source": [
    "def run_trajectory(env_selector, wind_ranges: np.ndarray, agent, params):\n",
    "    env = env_selector.get_env(\"blending\", params, wind_ranges, square_wpts)\n",
    "    done = False\n",
    "    state = np.array(env.reset(), dtype=np.float32)\n",
    "    log = DataLog(env.base_env.vehicle, env.base_env.ctrl,\n",
    "                      other_vars=('reward',))\n",
    "    weights = []\n",
    "    while not done:\n",
    "        action = agent.predict(state, deterministic=True)[0]\n",
    "        state, reward, done, info = env.step(action)\n",
    "        weights.append(softmax(action*5))\n",
    "        \n",
    "        state = np.array(state, dtype=np.float32)\n",
    "        log.log(reward=reward)\n",
    "\n",
    "    log.done_logging()\n",
    "    return log, info, np.mean(weights, axis=0), np.std(weights, axis=0)"
   ]
  },
  {
   "cell_type": "code",
   "execution_count": 16,
   "id": "621e7b9b-fec7-4d1e-b13a-ae0958de15cd",
   "metadata": {},
   "outputs": [],
   "source": [
    "average_weights = pd.DataFrame(columns=['Wind Speed', 'PID', 'PID Std', 'Mid', 'Mid Std', 'High', 'High Std'])"
   ]
  },
  {
   "cell_type": "code",
   "execution_count": 17,
   "id": "3e454d27-e982-4dd4-8287-fa03b58eb7fd",
   "metadata": {},
   "outputs": [],
   "source": [
    "def run_wind_sweep(results, agent, params):\n",
    "    for i in tqdm(range(10)):\n",
    "        log, info, avg_weights, std_weights = run_trajectory(env_selector,[(0,0),(-(i+1),-(i+1)),(0,0)], agent, params)\n",
    "        new_result = {\n",
    "            'Wind Speed': i+1,\n",
    "            'PID': avg_weights[0],\n",
    "            'PID Std': std_weights[0],\n",
    "            'Mid': avg_weights[1],\n",
    "            'Mid Std': std_weights[1],\n",
    "            'High': avg_weights[2],\n",
    "            'High Std': std_weights[2],\n",
    "        }\n",
    "        results = pd.concat([results, pd.DataFrame([new_result])], ignore_index=True)\n",
    "\n",
    "    return results"
   ]
  },
  {
   "cell_type": "code",
   "execution_count": 18,
   "id": "ab0bd35d-0c29-4ca0-83e4-1750cc418a4e",
   "metadata": {},
   "outputs": [
    {
     "name": "stderr",
     "output_type": "stream",
     "text": [
      "  0%|                                                                                | 0/10 [00:00<?, ?it/s][I 2023-09-13 21:54:45,426] Using an existing study with name 'highwind' instead of creating a new one.\n",
      "[I 2023-09-13 21:54:45,527] Using an existing study with name 'midwind' instead of creating a new one.\n",
      " 10%|███████▏                                                                | 1/10 [00:05<00:49,  5.52s/it][I 2023-09-13 21:54:50,933] Using an existing study with name 'highwind' instead of creating a new one.\n",
      "[I 2023-09-13 21:54:51,003] Using an existing study with name 'midwind' instead of creating a new one.\n",
      " 20%|██████████████▍                                                         | 2/10 [00:11<00:44,  5.53s/it][I 2023-09-13 21:54:56,478] Using an existing study with name 'highwind' instead of creating a new one.\n",
      "[I 2023-09-13 21:54:56,572] Using an existing study with name 'midwind' instead of creating a new one.\n",
      " 30%|█████████████████████▌                                                  | 3/10 [00:16<00:37,  5.43s/it][I 2023-09-13 21:55:01,773] Using an existing study with name 'highwind' instead of creating a new one.\n",
      "[I 2023-09-13 21:55:01,834] Using an existing study with name 'midwind' instead of creating a new one.\n",
      " 40%|████████████████████████████▊                                           | 4/10 [00:21<00:32,  5.37s/it][I 2023-09-13 21:55:07,042] Using an existing study with name 'highwind' instead of creating a new one.\n",
      "[I 2023-09-13 21:55:07,114] Using an existing study with name 'midwind' instead of creating a new one.\n",
      " 50%|████████████████████████████████████                                    | 5/10 [00:26<00:26,  5.35s/it][I 2023-09-13 21:55:12,365] Using an existing study with name 'highwind' instead of creating a new one.\n",
      "[I 2023-09-13 21:55:12,460] Using an existing study with name 'midwind' instead of creating a new one.\n",
      " 60%|███████████████████████████████████████████▏                            | 6/10 [00:32<00:21,  5.44s/it][I 2023-09-13 21:55:17,968] Using an existing study with name 'highwind' instead of creating a new one.\n",
      "[I 2023-09-13 21:55:18,040] Using an existing study with name 'midwind' instead of creating a new one.\n",
      " 70%|██████████████████████████████████████████████████▍                     | 7/10 [00:38<00:16,  5.44s/it][I 2023-09-13 21:55:23,445] Using an existing study with name 'highwind' instead of creating a new one.\n",
      "[I 2023-09-13 21:55:23,857] Using an existing study with name 'midwind' instead of creating a new one.\n",
      " 80%|█████████████████████████████████████████████████████████▌              | 8/10 [00:43<00:11,  5.61s/it][I 2023-09-13 21:55:29,384] Using an existing study with name 'highwind' instead of creating a new one.\n",
      "[I 2023-09-13 21:55:29,457] Using an existing study with name 'midwind' instead of creating a new one.\n",
      " 90%|████████████████████████████████████████████████████████████████▊       | 9/10 [00:49<00:05,  5.65s/it][I 2023-09-13 21:55:35,133] Using an existing study with name 'highwind' instead of creating a new one.\n",
      "[I 2023-09-13 21:55:35,207] Using an existing study with name 'midwind' instead of creating a new one.\n",
      "100%|███████████████████████████████████████████████████████████████████████| 10/10 [00:55<00:00,  5.59s/it]\n"
     ]
    }
   ],
   "source": [
    "average_weights = run_wind_sweep(average_weights, best_agent, best_params)"
   ]
  },
  {
   "cell_type": "code",
   "execution_count": 19,
   "id": "b968877e-abae-4830-8e14-ee7b56049138",
   "metadata": {},
   "outputs": [],
   "source": [
    "average_weights.to_csv('./data/weights_scaled.csv')"
   ]
  },
  {
   "cell_type": "code",
   "execution_count": 20,
   "id": "93a621fe-aca0-45e7-af83-d142072d28d3",
   "metadata": {},
   "outputs": [],
   "source": [
    "average_weights = pd.read_csv('./data/weights_scaled.csv') # or read cardinal_wind.csv for the Cardinal High agent"
   ]
  },
  {
   "cell_type": "code",
   "execution_count": 21,
   "id": "67f8afef-ed63-4e8b-8a14-bb4e70d7c03d",
   "metadata": {},
   "outputs": [
    {
     "data": {
      "text/html": [
       "<div>\n",
       "<style scoped>\n",
       "    .dataframe tbody tr th:only-of-type {\n",
       "        vertical-align: middle;\n",
       "    }\n",
       "\n",
       "    .dataframe tbody tr th {\n",
       "        vertical-align: top;\n",
       "    }\n",
       "\n",
       "    .dataframe thead th {\n",
       "        text-align: right;\n",
       "    }\n",
       "</style>\n",
       "<table border=\"1\" class=\"dataframe\">\n",
       "  <thead>\n",
       "    <tr style=\"text-align: right;\">\n",
       "      <th></th>\n",
       "      <th>Unnamed: 0</th>\n",
       "      <th>Wind Speed</th>\n",
       "      <th>PID</th>\n",
       "      <th>PID Std</th>\n",
       "      <th>Mid</th>\n",
       "      <th>Mid Std</th>\n",
       "      <th>High</th>\n",
       "      <th>High Std</th>\n",
       "    </tr>\n",
       "  </thead>\n",
       "  <tbody>\n",
       "    <tr>\n",
       "      <th>0</th>\n",
       "      <td>0</td>\n",
       "      <td>1</td>\n",
       "      <td>0.297354</td>\n",
       "      <td>0.033309</td>\n",
       "      <td>0.357713</td>\n",
       "      <td>0.016013</td>\n",
       "      <td>0.344933</td>\n",
       "      <td>0.022447</td>\n",
       "    </tr>\n",
       "    <tr>\n",
       "      <th>1</th>\n",
       "      <td>1</td>\n",
       "      <td>2</td>\n",
       "      <td>0.298867</td>\n",
       "      <td>0.033471</td>\n",
       "      <td>0.355906</td>\n",
       "      <td>0.015982</td>\n",
       "      <td>0.345227</td>\n",
       "      <td>0.022602</td>\n",
       "    </tr>\n",
       "    <tr>\n",
       "      <th>2</th>\n",
       "      <td>2</td>\n",
       "      <td>3</td>\n",
       "      <td>0.301358</td>\n",
       "      <td>0.033232</td>\n",
       "      <td>0.352949</td>\n",
       "      <td>0.015546</td>\n",
       "      <td>0.345693</td>\n",
       "      <td>0.022816</td>\n",
       "    </tr>\n",
       "    <tr>\n",
       "      <th>3</th>\n",
       "      <td>3</td>\n",
       "      <td>4</td>\n",
       "      <td>0.304994</td>\n",
       "      <td>0.033677</td>\n",
       "      <td>0.348575</td>\n",
       "      <td>0.015625</td>\n",
       "      <td>0.346432</td>\n",
       "      <td>0.023001</td>\n",
       "    </tr>\n",
       "    <tr>\n",
       "      <th>4</th>\n",
       "      <td>4</td>\n",
       "      <td>5</td>\n",
       "      <td>0.309644</td>\n",
       "      <td>0.033575</td>\n",
       "      <td>0.343230</td>\n",
       "      <td>0.015192</td>\n",
       "      <td>0.347127</td>\n",
       "      <td>0.023194</td>\n",
       "    </tr>\n",
       "    <tr>\n",
       "      <th>5</th>\n",
       "      <td>5</td>\n",
       "      <td>6</td>\n",
       "      <td>0.315325</td>\n",
       "      <td>0.033531</td>\n",
       "      <td>0.336742</td>\n",
       "      <td>0.014953</td>\n",
       "      <td>0.347933</td>\n",
       "      <td>0.023372</td>\n",
       "    </tr>\n",
       "    <tr>\n",
       "      <th>6</th>\n",
       "      <td>6</td>\n",
       "      <td>7</td>\n",
       "      <td>0.321818</td>\n",
       "      <td>0.033367</td>\n",
       "      <td>0.329464</td>\n",
       "      <td>0.014629</td>\n",
       "      <td>0.348718</td>\n",
       "      <td>0.023463</td>\n",
       "    </tr>\n",
       "    <tr>\n",
       "      <th>7</th>\n",
       "      <td>7</td>\n",
       "      <td>8</td>\n",
       "      <td>0.328924</td>\n",
       "      <td>0.032585</td>\n",
       "      <td>0.321321</td>\n",
       "      <td>0.013939</td>\n",
       "      <td>0.349755</td>\n",
       "      <td>0.023289</td>\n",
       "    </tr>\n",
       "    <tr>\n",
       "      <th>8</th>\n",
       "      <td>8</td>\n",
       "      <td>9</td>\n",
       "      <td>0.336641</td>\n",
       "      <td>0.031924</td>\n",
       "      <td>0.312735</td>\n",
       "      <td>0.013529</td>\n",
       "      <td>0.350625</td>\n",
       "      <td>0.023051</td>\n",
       "    </tr>\n",
       "    <tr>\n",
       "      <th>9</th>\n",
       "      <td>9</td>\n",
       "      <td>10</td>\n",
       "      <td>0.345007</td>\n",
       "      <td>0.030424</td>\n",
       "      <td>0.303748</td>\n",
       "      <td>0.012922</td>\n",
       "      <td>0.351244</td>\n",
       "      <td>0.022306</td>\n",
       "    </tr>\n",
       "  </tbody>\n",
       "</table>\n",
       "</div>"
      ],
      "text/plain": [
       "   Unnamed: 0  Wind Speed       PID   PID Std       Mid   Mid Std      High  \\\n",
       "0           0           1  0.297354  0.033309  0.357713  0.016013  0.344933   \n",
       "1           1           2  0.298867  0.033471  0.355906  0.015982  0.345227   \n",
       "2           2           3  0.301358  0.033232  0.352949  0.015546  0.345693   \n",
       "3           3           4  0.304994  0.033677  0.348575  0.015625  0.346432   \n",
       "4           4           5  0.309644  0.033575  0.343230  0.015192  0.347127   \n",
       "5           5           6  0.315325  0.033531  0.336742  0.014953  0.347933   \n",
       "6           6           7  0.321818  0.033367  0.329464  0.014629  0.348718   \n",
       "7           7           8  0.328924  0.032585  0.321321  0.013939  0.349755   \n",
       "8           8           9  0.336641  0.031924  0.312735  0.013529  0.350625   \n",
       "9           9          10  0.345007  0.030424  0.303748  0.012922  0.351244   \n",
       "\n",
       "   High Std  \n",
       "0  0.022447  \n",
       "1  0.022602  \n",
       "2  0.022816  \n",
       "3  0.023001  \n",
       "4  0.023194  \n",
       "5  0.023372  \n",
       "6  0.023463  \n",
       "7  0.023289  \n",
       "8  0.023051  \n",
       "9  0.022306  "
      ]
     },
     "execution_count": 21,
     "metadata": {},
     "output_type": "execute_result"
    }
   ],
   "source": [
    "average_weights"
   ]
  },
  {
   "cell_type": "code",
   "execution_count": 22,
   "id": "c8985c75-6716-4cb5-be1d-e8721b1e3398",
   "metadata": {},
   "outputs": [
    {
     "data": {
      "text/plain": [
       "array([0.18213798, 0.18213798, 0.63572403])"
      ]
     },
     "execution_count": 22,
     "metadata": {},
     "output_type": "execute_result"
    }
   ],
   "source": [
    "softmax((np.array([0,0,0.25]))*5)"
   ]
  }
 ],
 "metadata": {
  "kernelspec": {
   "display_name": "Python 3 (ipykernel)",
   "language": "python",
   "name": "python3"
  },
  "language_info": {
   "codemirror_mode": {
    "name": "ipython",
    "version": 3
   },
   "file_extension": ".py",
   "mimetype": "text/x-python",
   "name": "python",
   "nbconvert_exporter": "python",
   "pygments_lexer": "ipython3",
   "version": "3.9.17"
  }
 },
 "nbformat": 4,
 "nbformat_minor": 5
}
