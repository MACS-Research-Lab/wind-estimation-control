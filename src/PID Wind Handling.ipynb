{
 "cells": [
  {
   "cell_type": "markdown",
   "id": "38e419f2-c4dc-435f-8218-732577a45803",
   "metadata": {},
   "source": [
    "# Wind Impact on PID Leashless Agent Performance\n",
    "\n",
    "How robust is the PID without the safety leash to all wind?"
   ]
  },
  {
   "cell_type": "code",
   "execution_count": 1,
   "id": "1edcd168-276a-4926-8039-ebc03390ee43",
   "metadata": {},
   "outputs": [],
   "source": [
    "import matplotlib.pyplot as plt\n",
    "import numpy as np\n",
    "import pandas as pd\n",
    "from tqdm import tqdm\n",
    "\n",
    "from environments import OctorotorEnvSelector\n",
    "from systems.pid_agent import PIDAgent\n",
    "from multirotor.helpers import DataLog\n",
    "from trajectories import nasa_wp\n",
    "from parameters import pid_params"
   ]
  },
  {
   "cell_type": "code",
   "execution_count": 2,
   "id": "b8bd04f1-74e7-4eaf-a8bc-c5f414948a24",
   "metadata": {},
   "outputs": [],
   "source": [
    "best_agent = PIDAgent()\n",
    "pos_mult = 1\n",
    "vel_mult = 1\n",
    "pid_parameters = pid_params(\n",
    "    pos_p=[pos_mult*0.3, pos_mult*0.3, 0.2],\n",
    "    vel_p=[vel_mult*1, vel_mult*1, 100],\n",
    "    vel_i=[vel_mult*0.1, vel_mult*0.1, 0]\n",
    ")\n",
    "\n",
    "best_params = {'steps_u':1, 'scaling_factor':0, 'window_distance':1000, 'pid_parameters': pid_parameters}"
   ]
  },
  {
   "cell_type": "code",
   "execution_count": 3,
   "id": "b7c8e6e1-5bca-4dd2-999c-3d7006979e7f",
   "metadata": {
    "editable": true,
    "slideshow": {
     "slide_type": ""
    },
    "tags": []
   },
   "outputs": [],
   "source": [
    "env_selector = OctorotorEnvSelector()\n",
    "square_wpts = np.array([[100,0,30], [100,100,30], [0,100,30], [0,0,30]])\n",
    "triangle_wpts = np.array([[50,100,30], [-50, 100,30], [0,0,30]])\n"
   ]
  },
  {
   "cell_type": "code",
   "execution_count": 4,
   "id": "a0d9847f-79fe-4c7a-889f-5733a30cc5b9",
   "metadata": {},
   "outputs": [],
   "source": [
    "def get_tte(initial_pos: tuple, waypoints: np.ndarray, x: np.ndarray, y:np.ndarray, z:np.ndarray) -> np.ndarray:\n",
    "        \"\"\"\n",
    "        Calculates the trajectory tracking error. \n",
    "        The distance between the current point and the vector between previous and next wp. Uses ||v1 x v2|| / ||v1||.\n",
    "\n",
    "        Parameters\n",
    "        ----------\n",
    "        initial_pos : tuple  \n",
    "            the initial position of the UAV.\n",
    "        waypoints : np.ndarray \n",
    "            the reference positions at each point in time.\n",
    "        x : np.ndarray \n",
    "            the x positions of the UAV.\n",
    "        y : np.ndarray \n",
    "            the y positions of the UAV.\n",
    "        z : np.ndarray\n",
    "            the z positions of the UAV.\n",
    "\n",
    "        Returns\n",
    "        -------\n",
    "        np.ndarray \n",
    "            the trajectory tracking error at each point in time.\n",
    "        \"\"\"\n",
    "        ttes = []\n",
    "        prev = initial_pos\n",
    "        for i, waypoint in enumerate(waypoints):\n",
    "            if i > 0 and not np.array_equal(waypoints[i-1], waypoints[i]):\n",
    "                prev = waypoints[i-1]\n",
    "\n",
    "            v1 = waypoint - prev\n",
    "            v2 = np.array([x[i],y[i],z[i]]) - prev\n",
    "            tte = np.linalg.norm(np.cross(v1, v2)) / (np.linalg.norm(v1) + 1e-6)\n",
    "            ttes.append(tte)\n",
    "                \n",
    "        return np.array(ttes)"
   ]
  },
  {
   "cell_type": "code",
   "execution_count": 5,
   "id": "a4ac0dd5-49ad-44d5-9a0a-c12cf75121c1",
   "metadata": {},
   "outputs": [],
   "source": [
    "def toc(tte: np.ndarray):\n",
    "    corridor = 2\n",
    "    return best_params['steps_u'] * len(tte[tte > corridor]) / 100"
   ]
  },
  {
   "cell_type": "code",
   "execution_count": 6,
   "id": "81bce838-92c0-49a5-91d4-fa8032876474",
   "metadata": {},
   "outputs": [],
   "source": [
    "def completed_mission(waypoints: np.ndarray, x: np.ndarray, y: np.ndarray, z: np.ndarray, radius: float = 0.65):\n",
    "        for waypoint in waypoints:\n",
    "            reached_waypoint = False\n",
    "\n",
    "            for position in zip(x,y,z):\n",
    "                dist = np.linalg.norm(waypoint - position)\n",
    "\n",
    "                if dist <= radius:\n",
    "                    reached_waypoint = True\n",
    "                    break\n",
    "\n",
    "            if not reached_waypoint:\n",
    "                return False\n",
    "            \n",
    "        return True"
   ]
  },
  {
   "cell_type": "code",
   "execution_count": 7,
   "id": "b22b1d5f-5f9e-4969-a678-ec6a62417c15",
   "metadata": {},
   "outputs": [],
   "source": [
    "def run_trajectory(env_selector, wind_ranges: np.ndarray, agent, params):\n",
    "    wp = [(150,0,30)]\n",
    "    env = env_selector.get_env(\"default\", params, wind_ranges, square_wpts, start_alt=30, has_turbulence=True)\n",
    "    env.base_env.proximity = 2\n",
    "    # env.base_env.max_velocity = 10\n",
    "    \n",
    "    done = False\n",
    "    state = np.array(env.reset(), dtype=np.float32)\n",
    "    log = DataLog(env.base_env.vehicle,\n",
    "                      other_vars=('reward', 'next_wp', 'wind', 'motor', 'vel'))\n",
    "    while not done:\n",
    "        action = agent.predict(state, deterministic=True)[0]\n",
    "        state, reward, done, info = env.step(action)\n",
    "        state = np.array(state, dtype=np.float32)\n",
    "        log.log(reward=reward, next_wp=env.base_env.next_waypt, wind=env.base_env.wind_x, motor=env.base_env.vehicle.speeds, vel=env.base_env.vehicle.velocity)\n",
    "\n",
    "    log.done_logging()\n",
    "    return log, info"
   ]
  },
  {
   "cell_type": "code",
   "execution_count": 8,
   "id": "f77f273e",
   "metadata": {},
   "outputs": [],
   "source": [
    "wind_mag=12\n",
    "log, info = run_trajectory(env_selector, [(0,0),(wind_mag,wind_mag),(0,0)], best_agent, best_params)"
   ]
  },
  {
   "cell_type": "code",
   "execution_count": 9,
   "id": "e4eb52fa",
   "metadata": {},
   "outputs": [],
   "source": [
    "def save_video_data(log, tte):\n",
    "    X = log.x\n",
    "    Y = log.y\n",
    "    Z = log.z\n",
    "    \n",
    "    roll = log.roll\n",
    "    pitch = log.pitch\n",
    "    yaw = log.yaw\n",
    "    \n",
    "    wp_x = log.next_wp[:,0]\n",
    "    wp_y = log.next_wp[:,1]\n",
    "    wp_z = log.next_wp[:,2]\n",
    "    \n",
    "    data_array = np.vstack([X, Y, Z, roll, pitch, yaw, wp_x, wp_y, wp_z, tte]).T\n",
    "    df = pd.DataFrame(data_array, columns=[['X', 'Y', 'Z', 'Roll', 'Pitch', 'Yaw', 'WPX', 'WPY', 'WPZ', 'TTE']])\n",
    "    df.to_csv('./data/sample_data.csv')"
   ]
  },
  {
   "cell_type": "code",
   "execution_count": 10,
   "id": "98c72eed",
   "metadata": {},
   "outputs": [],
   "source": [
    "# save_video_data(log, get_tte([0,0,30], log.next_wp, log.x, log.y, log.z))"
   ]
  },
  {
   "cell_type": "code",
   "execution_count": 11,
   "id": "4771652d",
   "metadata": {},
   "outputs": [
    {
     "data": {
      "text/plain": [
       "<matplotlib.legend.Legend at 0x7f3554e1a9d0>"
      ]
     },
     "execution_count": 11,
     "metadata": {},
     "output_type": "execute_result"
    },
    {
     "data": {
      "image/png": "[encoded data removed]",
      "text/plain": [
       "<Figure size 640x480 with 1 Axes>"
      ]
     },
     "metadata": {},
     "output_type": "display_data"
    }
   ],
   "source": [
    "# Generate some example data\n",
    "x = np.linspace(np.min(log.x), np.max(log.x), 4)\n",
    "y = np.linspace(np.min(log.y), np.max(log.y), 4)\n",
    "X, Y = np.meshgrid(x, y)\n",
    "U = np.zeros_like(X)  # All arrows pointing right\n",
    "V = np.ones_like(Y)\n",
    "\n",
    "# Plot the vector field\n",
    "plt.quiver(X, Y, U, V, scale=15, color='blue', alpha=0.2, label=f'Wind Vector ({wind_mag}m/s)')\n",
    "\n",
    "plt.plot(log.x, log.y, label='UAV Position')\n",
    "# plt.xlim(90,110)\n",
    "# plt.ylim(-10,10)\n",
    "plt.axvline(x=98, ymin=0, ymax=100, linestyle=':', color='red')\n",
    "plt.axvline(x=102, ymin=0, ymax=100, linestyle=':', color='red')\n",
    "plt.axvline(x=-2, ymin=0, ymax=100, linestyle=':', color='red')\n",
    "plt.axvline(x=2, ymin=0, ymax=100, linestyle=':', color='red')\n",
    "\n",
    "plt.axhline(y=98, xmin=0, xmax=100, linestyle=':', color='red')\n",
    "plt.axhline(y=102, xmin=0, xmax=100, linestyle=':', color='red')\n",
    "plt.axhline(y=-2, xmin=0, xmax=100, linestyle=':', color='red')\n",
    "plt.axhline(y=2, xmin=0, xmax=100, linestyle=':', color='red', label='Safety Corridor (2m)')\n",
    "plt.title(\"PID Wind Rejection\")\n",
    "plt.xlabel(\"X Position (m)\")\n",
    "plt.ylabel(\"Y Position (m)\")\n",
    "plt.legend()"
   ]
  },
  {
   "cell_type": "code",
   "execution_count": 12,
   "id": "0424653c",
   "metadata": {},
   "outputs": [
    {
     "data": {
      "text/plain": [
       "20.22"
      ]
     },
     "execution_count": 12,
     "metadata": {},
     "output_type": "execute_result"
    }
   ],
   "source": [
    "toc(get_tte([0,0,30], log.next_wp, log.x, log.y, log.z))"
   ]
  },
  {
   "cell_type": "code",
   "execution_count": 13,
   "id": "54b2e61c",
   "metadata": {},
   "outputs": [
    {
     "data": {
      "text/plain": [
       "123.21"
      ]
     },
     "execution_count": 13,
     "metadata": {},
     "output_type": "execute_result"
    }
   ],
   "source": [
    "len(log.x) / 100"
   ]
  },
  {
   "cell_type": "code",
   "execution_count": 14,
   "id": "9923a4bb",
   "metadata": {},
   "outputs": [
    {
     "data": {
      "text/plain": [
       "4.708918196447295"
      ]
     },
     "execution_count": 14,
     "metadata": {},
     "output_type": "execute_result"
    }
   ],
   "source": [
    "np.max(get_tte([0,0,30], log.next_wp, log.x, log.y, log.z))"
   ]
  },
  {
   "cell_type": "code",
   "execution_count": 15,
   "id": "08339f86",
   "metadata": {},
   "outputs": [
    {
     "data": {
      "text/plain": [
       "123.21"
      ]
     },
     "execution_count": 15,
     "metadata": {},
     "output_type": "execute_result"
    }
   ],
   "source": [
    "len(log.t) / 100"
   ]
  },
  {
   "cell_type": "code",
   "execution_count": 16,
   "id": "e4b52cb8",
   "metadata": {},
   "outputs": [
    {
     "data": {
      "text/plain": [
       "[<matplotlib.lines.Line2D at 0x7f3554e8cfa0>]"
      ]
     },
     "execution_count": 16,
     "metadata": {},
     "output_type": "execute_result"
    },
    {
     "data": {
      "image/png": "[encoded data removed]",
      "text/plain": [
       "<Figure size 640x480 with 1 Axes>"
      ]
     },
     "metadata": {},
     "output_type": "display_data"
    }
   ],
   "source": [
    "plt.plot(log.vel[:,0])"
   ]
  },
  {
   "cell_type": "code",
   "execution_count": 17,
   "id": "50c1cb7d",
   "metadata": {},
   "outputs": [
    {
     "data": {
      "text/plain": [
       "12.250377"
      ]
     },
     "execution_count": 17,
     "metadata": {},
     "output_type": "execute_result"
    }
   ],
   "source": [
    "max(log.velocity[:,0])"
   ]
  },
  {
   "cell_type": "code",
   "execution_count": 18,
   "id": "3796f12e",
   "metadata": {},
   "outputs": [
    {
     "data": {
      "text/plain": [
       "[<matplotlib.lines.Line2D at 0x7f3656d58220>]"
      ]
     },
     "execution_count": 18,
     "metadata": {},
     "output_type": "execute_result"
    },
    {
     "data": {
      "image/png": "[encoded data removed]",
      "text/plain": [
       "<Figure size 640x480 with 1 Axes>"
      ]
     },
     "metadata": {},
     "output_type": "display_data"
    }
   ],
   "source": [
    "plt.plot(log.x)"
   ]
  },
  {
   "cell_type": "code",
   "execution_count": 19,
   "id": "590c0c39-fe2a-4747-b716-0e9a508271c6",
   "metadata": {},
   "outputs": [],
   "source": [
    "wind_range_dict = {\n",
    "    'zero': [(0,0), (0,0), (0,0)],\n",
    "    'n5': [(0,0), (5,5), (0,0)],\n",
    "    'n7': [(0,0), (7,7), (0,0)],\n",
    "    'n10': [(0,0), (10,10), (0,0)],\n",
    "    'n12': [(0,0), (12,12), (0,0)],\n",
    "    's5': [(0,0), (-5,-5), (0,0)],\n",
    "    's7': [(0,0), (-7,-7), (0,0)],\n",
    "    's10': [(0,0), (-10,-10), (0,0)],\n",
    "    's12': [(0,0), (-12,-12), (0,0)],\n",
    "    'e5': [(5,5), (0,0), (0,0)],\n",
    "    'e7': [(7,7), (0,0), (0,0)],\n",
    "    'e10': [(10,10), (0,0), (0,0)],\n",
    "    'e12': [(12,12), (0,0), (0,0)],\n",
    "    'w5': [(-5,-5), (0,0), (0,0)],\n",
    "    'w7': [(-7,-7), (0,0), (0,0)],\n",
    "    'w10': [(-10,-10), (0,0), (0,0)],\n",
    "    'w12': [(-12,-12), (0,0), (0,0)],\n",
    "    'nw5': [(-3.53553391,-3.53553391), (3.53553391,3.53553391), (0,0)],\n",
    "    'nw7': [(-4.94974747,-4.94974747), (4.94974747,4.94974747), (0,0)],\n",
    "    'nw10': [(-7.07106781,-7.07106781), (7.07106781,7.07106781), (0,0)],\n",
    "    'nw12': [(-8.5,-8.5), (8.5,8.5), (0,0)],\n",
    "    'sw5': [(-3.53553391,-3.53553391), (-3.53553391,-3.53553391), (0,0)],\n",
    "    'sw7': [(-4.94974747,-4.94974747), (-4.94974747,-4.94974747), (0,0)],\n",
    "    'sw10': [(-7.07106781,-7.07106781), (-7.07106781,-7.07106781), (0,0)],\n",
    "    'sw12': [(-8.5,-8.5), (-8.5,-8.5), (0,0)],\n",
    "    'ne5': [(3.53553391,3.53553391), (3.53553391,3.53553391), (0,0)],\n",
    "    'ne7': [(4.94974747,4.94974747), (4.94974747,4.94974747), (0,0)],\n",
    "    'ne10': [(7.07106781,7.07106781), (7.07106781,7.07106781), (0,0)],\n",
    "    'ne12': [(8.5,8.5), (8.5,8.5), (0,0)],\n",
    "    'se5': [(3.53553391,3.53553391), (-3.53553391,-3.53553391), (0,0)],\n",
    "    'se7': [(4.94974747,4.94974747), (-4.94974747,-4.94974747), (0,0)],\n",
    "    'se10': [(7.07106781,7.07106781), (-7.07106781,-7.07106781), (0,0)],\n",
    "    'se12': [(8.5,8.5), (-8.5,-8.5), (0,0)],\n",
    "}"
   ]
  },
  {
   "cell_type": "code",
   "execution_count": 20,
   "id": "621e7b9b-fec7-4d1e-b13a-ae0958de15cd",
   "metadata": {},
   "outputs": [],
   "source": [
    "wind_results = pd.DataFrame(columns=['Wind', 'Total TTE', 'Mean TTE', 'Max TTE', 'Completed Mission', 'Reward', 'Time Outside Corridor'])"
   ]
  },
  {
   "cell_type": "code",
   "execution_count": 21,
   "id": "3e454d27-e982-4dd4-8287-fa03b58eb7fd",
   "metadata": {},
   "outputs": [],
   "source": [
    "def run_wind_sweep(results, wind_dict, agent, params):\n",
    "    for wind in tqdm(wind_dict.keys()):\n",
    "        log, info = run_trajectory(env_selector, wind_dict[wind], agent, params)\n",
    "        traj_err = get_tte(np.array([0,0,30]), log.next_wp, log.x, log.y, log.z)\n",
    "        new_result = {\n",
    "            'Wind': wind,\n",
    "            'Mean TTE': np.mean(traj_err),\n",
    "            'Total TTE': np.sum(traj_err),\n",
    "            'Max TTE': np.max(traj_err),\n",
    "            'Completed Mission': completed_mission(square_wpts, log.x, log.y, log.z, radius=5),\n",
    "            'Reward': np.sum(log.reward),\n",
    "            'Time Outside Corridor': toc(traj_err)\n",
    "        }\n",
    "        results = pd.concat([results, pd.DataFrame([new_result])], ignore_index=True)\n",
    "\n",
    "    return results"
   ]
  },
  {
   "cell_type": "code",
   "execution_count": 22,
   "id": "ab0bd35d-0c29-4ca0-83e4-1750cc418a4e",
   "metadata": {},
   "outputs": [
    {
     "name": "stderr",
     "output_type": "stream",
     "text": [
      "  0%|          | 0/33 [00:00<?, ?it/s]/tmp/ipykernel_4141312/2507324404.py:14: FutureWarning: The behavior of DataFrame concatenation with empty or all-NA entries is deprecated. In a future version, this will no longer exclude empty or all-NA columns when determining the result dtypes. To retain the old behavior, exclude the relevant entries before the concat operation.\n",
      "  results = pd.concat([results, pd.DataFrame([new_result])], ignore_index=True)\n",
      "100%|██████████| 33/33 [06:54<00:00, 12.56s/it]\n"
     ]
    }
   ],
   "source": [
    "wind_results = run_wind_sweep(wind_results, wind_range_dict, best_agent, best_params)"
   ]
  },
  {
   "cell_type": "code",
   "execution_count": 23,
   "id": "b968877e-abae-4830-8e14-ee7b56049138",
   "metadata": {},
   "outputs": [],
   "source": [
    "wind_results.to_csv('./data/pid_noleash_wind.csv')"
   ]
  },
  {
   "cell_type": "code",
   "execution_count": 24,
   "id": "93a621fe-aca0-45e7-af83-d142072d28d3",
   "metadata": {},
   "outputs": [],
   "source": [
    "wind_results = pd.read_csv('./data/pid_noleash_wind.csv') "
   ]
  },
  {
   "cell_type": "code",
   "execution_count": 25,
   "id": "67f8afef-ed63-4e8b-8a14-bb4e70d7c03d",
   "metadata": {},
   "outputs": [
    {
     "data": {
      "text/html": [
       "<div>\n",
       "<style scoped>\n",
       "    .dataframe tbody tr th:only-of-type {\n",
       "        vertical-align: middle;\n",
       "    }\n",
       "\n",
       "    .dataframe tbody tr th {\n",
       "        vertical-align: top;\n",
       "    }\n",
       "\n",
       "    .dataframe thead th {\n",
       "        text-align: right;\n",
       "    }\n",
       "</style>\n",
       "<table border=\"1\" class=\"dataframe\">\n",
       "  <thead>\n",
       "    <tr style=\"text-align: right;\">\n",
       "      <th></th>\n",
       "      <th>Unnamed: 0</th>\n",
       "      <th>Wind</th>\n",
       "      <th>Total TTE</th>\n",
       "      <th>Mean TTE</th>\n",
       "      <th>Max TTE</th>\n",
       "      <th>Completed Mission</th>\n",
       "      <th>Reward</th>\n",
       "      <th>Time Outside Corridor</th>\n",
       "    </tr>\n",
       "  </thead>\n",
       "  <tbody>\n",
       "    <tr>\n",
       "      <th>0</th>\n",
       "      <td>0</td>\n",
       "      <td>zero</td>\n",
       "      <td>3052.123248</td>\n",
       "      <td>0.452099</td>\n",
       "      <td>1.996282</td>\n",
       "      <td>True</td>\n",
       "      <td>9390.7050</td>\n",
       "      <td>0.00</td>\n",
       "    </tr>\n",
       "    <tr>\n",
       "      <th>1</th>\n",
       "      <td>1</td>\n",
       "      <td>n5</td>\n",
       "      <td>3251.726609</td>\n",
       "      <td>0.470583</td>\n",
       "      <td>1.995474</td>\n",
       "      <td>True</td>\n",
       "      <td>9350.7560</td>\n",
       "      <td>0.00</td>\n",
       "    </tr>\n",
       "    <tr>\n",
       "      <th>2</th>\n",
       "      <td>2</td>\n",
       "      <td>n7</td>\n",
       "      <td>3994.212427</td>\n",
       "      <td>0.553598</td>\n",
       "      <td>1.993452</td>\n",
       "      <td>True</td>\n",
       "      <td>9202.1860</td>\n",
       "      <td>0.00</td>\n",
       "    </tr>\n",
       "    <tr>\n",
       "      <th>3</th>\n",
       "      <td>3</td>\n",
       "      <td>n10</td>\n",
       "      <td>7250.945175</td>\n",
       "      <td>0.868065</td>\n",
       "      <td>3.504885</td>\n",
       "      <td>True</td>\n",
       "      <td>8550.5430</td>\n",
       "      <td>11.75</td>\n",
       "    </tr>\n",
       "    <tr>\n",
       "      <th>4</th>\n",
       "      <td>4</td>\n",
       "      <td>n12</td>\n",
       "      <td>10039.205621</td>\n",
       "      <td>0.984719</td>\n",
       "      <td>4.830850</td>\n",
       "      <td>True</td>\n",
       "      <td>7992.6196</td>\n",
       "      <td>19.30</td>\n",
       "    </tr>\n",
       "    <tr>\n",
       "      <th>5</th>\n",
       "      <td>5</td>\n",
       "      <td>s5</td>\n",
       "      <td>3638.092674</td>\n",
       "      <td>0.522039</td>\n",
       "      <td>1.997009</td>\n",
       "      <td>True</td>\n",
       "      <td>9273.4920</td>\n",
       "      <td>0.00</td>\n",
       "    </tr>\n",
       "    <tr>\n",
       "      <th>6</th>\n",
       "      <td>6</td>\n",
       "      <td>s7</td>\n",
       "      <td>4802.393750</td>\n",
       "      <td>0.668485</td>\n",
       "      <td>2.347703</td>\n",
       "      <td>True</td>\n",
       "      <td>9040.5530</td>\n",
       "      <td>4.96</td>\n",
       "    </tr>\n",
       "    <tr>\n",
       "      <th>7</th>\n",
       "      <td>7</td>\n",
       "      <td>s10</td>\n",
       "      <td>7988.625694</td>\n",
       "      <td>0.968084</td>\n",
       "      <td>3.566078</td>\n",
       "      <td>True</td>\n",
       "      <td>8403.0470</td>\n",
       "      <td>14.71</td>\n",
       "    </tr>\n",
       "    <tr>\n",
       "      <th>8</th>\n",
       "      <td>8</td>\n",
       "      <td>s12</td>\n",
       "      <td>10897.406315</td>\n",
       "      <td>1.041021</td>\n",
       "      <td>4.896284</td>\n",
       "      <td>True</td>\n",
       "      <td>7821.0293</td>\n",
       "      <td>20.68</td>\n",
       "    </tr>\n",
       "    <tr>\n",
       "      <th>9</th>\n",
       "      <td>9</td>\n",
       "      <td>e5</td>\n",
       "      <td>3481.314230</td>\n",
       "      <td>0.504831</td>\n",
       "      <td>1.995926</td>\n",
       "      <td>True</td>\n",
       "      <td>9304.8650</td>\n",
       "      <td>0.00</td>\n",
       "    </tr>\n",
       "    <tr>\n",
       "      <th>10</th>\n",
       "      <td>10</td>\n",
       "      <td>e7</td>\n",
       "      <td>4354.203808</td>\n",
       "      <td>0.605171</td>\n",
       "      <td>2.210047</td>\n",
       "      <td>True</td>\n",
       "      <td>9130.2450</td>\n",
       "      <td>3.48</td>\n",
       "    </tr>\n",
       "    <tr>\n",
       "      <th>11</th>\n",
       "      <td>11</td>\n",
       "      <td>e10</td>\n",
       "      <td>7394.654129</td>\n",
       "      <td>0.907877</td>\n",
       "      <td>3.647827</td>\n",
       "      <td>True</td>\n",
       "      <td>8522.0080</td>\n",
       "      <td>13.01</td>\n",
       "    </tr>\n",
       "    <tr>\n",
       "      <th>12</th>\n",
       "      <td>12</td>\n",
       "      <td>e12</td>\n",
       "      <td>10590.268598</td>\n",
       "      <td>0.928889</td>\n",
       "      <td>5.478809</td>\n",
       "      <td>True</td>\n",
       "      <td>7882.7490</td>\n",
       "      <td>20.80</td>\n",
       "    </tr>\n",
       "    <tr>\n",
       "      <th>13</th>\n",
       "      <td>13</td>\n",
       "      <td>w5</td>\n",
       "      <td>3342.691384</td>\n",
       "      <td>0.482351</td>\n",
       "      <td>1.998033</td>\n",
       "      <td>True</td>\n",
       "      <td>9332.5990</td>\n",
       "      <td>0.00</td>\n",
       "    </tr>\n",
       "    <tr>\n",
       "      <th>14</th>\n",
       "      <td>14</td>\n",
       "      <td>w7</td>\n",
       "      <td>4525.724188</td>\n",
       "      <td>0.629797</td>\n",
       "      <td>2.285557</td>\n",
       "      <td>True</td>\n",
       "      <td>9095.9270</td>\n",
       "      <td>4.24</td>\n",
       "    </tr>\n",
       "    <tr>\n",
       "      <th>15</th>\n",
       "      <td>15</td>\n",
       "      <td>w10</td>\n",
       "      <td>7720.100279</td>\n",
       "      <td>0.941131</td>\n",
       "      <td>4.022731</td>\n",
       "      <td>True</td>\n",
       "      <td>8456.9180</td>\n",
       "      <td>14.61</td>\n",
       "    </tr>\n",
       "    <tr>\n",
       "      <th>16</th>\n",
       "      <td>16</td>\n",
       "      <td>w12</td>\n",
       "      <td>10057.396321</td>\n",
       "      <td>0.933141</td>\n",
       "      <td>5.468225</td>\n",
       "      <td>True</td>\n",
       "      <td>7989.3184</td>\n",
       "      <td>19.18</td>\n",
       "    </tr>\n",
       "    <tr>\n",
       "      <th>17</th>\n",
       "      <td>17</td>\n",
       "      <td>nw5</td>\n",
       "      <td>3122.913644</td>\n",
       "      <td>0.452334</td>\n",
       "      <td>1.995997</td>\n",
       "      <td>True</td>\n",
       "      <td>9376.5400</td>\n",
       "      <td>0.00</td>\n",
       "    </tr>\n",
       "    <tr>\n",
       "      <th>18</th>\n",
       "      <td>18</td>\n",
       "      <td>nw7</td>\n",
       "      <td>4333.279358</td>\n",
       "      <td>0.609892</td>\n",
       "      <td>1.993609</td>\n",
       "      <td>True</td>\n",
       "      <td>9134.4260</td>\n",
       "      <td>0.00</td>\n",
       "    </tr>\n",
       "    <tr>\n",
       "      <th>19</th>\n",
       "      <td>19</td>\n",
       "      <td>nw10</td>\n",
       "      <td>8944.880026</td>\n",
       "      <td>1.154178</td>\n",
       "      <td>2.279874</td>\n",
       "      <td>True</td>\n",
       "      <td>8211.9400</td>\n",
       "      <td>10.29</td>\n",
       "    </tr>\n",
       "    <tr>\n",
       "      <th>20</th>\n",
       "      <td>20</td>\n",
       "      <td>nw12</td>\n",
       "      <td>14071.351574</td>\n",
       "      <td>1.691268</td>\n",
       "      <td>3.265151</td>\n",
       "      <td>True</td>\n",
       "      <td>7186.5225</td>\n",
       "      <td>31.31</td>\n",
       "    </tr>\n",
       "    <tr>\n",
       "      <th>21</th>\n",
       "      <td>21</td>\n",
       "      <td>sw5</td>\n",
       "      <td>3420.071194</td>\n",
       "      <td>0.493232</td>\n",
       "      <td>1.995521</td>\n",
       "      <td>True</td>\n",
       "      <td>9317.1130</td>\n",
       "      <td>0.00</td>\n",
       "    </tr>\n",
       "    <tr>\n",
       "      <th>22</th>\n",
       "      <td>22</td>\n",
       "      <td>sw7</td>\n",
       "      <td>4724.709550</td>\n",
       "      <td>0.663769</td>\n",
       "      <td>1.992000</td>\n",
       "      <td>True</td>\n",
       "      <td>9056.1170</td>\n",
       "      <td>0.00</td>\n",
       "    </tr>\n",
       "    <tr>\n",
       "      <th>23</th>\n",
       "      <td>23</td>\n",
       "      <td>sw10</td>\n",
       "      <td>9417.969508</td>\n",
       "      <td>1.232235</td>\n",
       "      <td>2.463764</td>\n",
       "      <td>True</td>\n",
       "      <td>8117.2910</td>\n",
       "      <td>15.18</td>\n",
       "    </tr>\n",
       "    <tr>\n",
       "      <th>24</th>\n",
       "      <td>24</td>\n",
       "      <td>sw12</td>\n",
       "      <td>15044.279218</td>\n",
       "      <td>1.799340</td>\n",
       "      <td>3.315421</td>\n",
       "      <td>True</td>\n",
       "      <td>6991.8380</td>\n",
       "      <td>35.58</td>\n",
       "    </tr>\n",
       "    <tr>\n",
       "      <th>25</th>\n",
       "      <td>25</td>\n",
       "      <td>ne5</td>\n",
       "      <td>3364.133205</td>\n",
       "      <td>0.483839</td>\n",
       "      <td>1.999594</td>\n",
       "      <td>True</td>\n",
       "      <td>9328.3020</td>\n",
       "      <td>0.00</td>\n",
       "    </tr>\n",
       "    <tr>\n",
       "      <th>26</th>\n",
       "      <td>26</td>\n",
       "      <td>ne7</td>\n",
       "      <td>4553.004727</td>\n",
       "      <td>0.638929</td>\n",
       "      <td>1.992722</td>\n",
       "      <td>True</td>\n",
       "      <td>9090.4850</td>\n",
       "      <td>0.00</td>\n",
       "    </tr>\n",
       "    <tr>\n",
       "      <th>27</th>\n",
       "      <td>27</td>\n",
       "      <td>ne10</td>\n",
       "      <td>8575.507716</td>\n",
       "      <td>1.116167</td>\n",
       "      <td>2.309208</td>\n",
       "      <td>True</td>\n",
       "      <td>8285.8010</td>\n",
       "      <td>4.73</td>\n",
       "    </tr>\n",
       "    <tr>\n",
       "      <th>28</th>\n",
       "      <td>28</td>\n",
       "      <td>ne12</td>\n",
       "      <td>14593.270189</td>\n",
       "      <td>1.751683</td>\n",
       "      <td>3.691009</td>\n",
       "      <td>True</td>\n",
       "      <td>7082.1370</td>\n",
       "      <td>30.13</td>\n",
       "    </tr>\n",
       "    <tr>\n",
       "      <th>29</th>\n",
       "      <td>29</td>\n",
       "      <td>se5</td>\n",
       "      <td>3766.795419</td>\n",
       "      <td>0.543079</td>\n",
       "      <td>1.995809</td>\n",
       "      <td>True</td>\n",
       "      <td>9247.7390</td>\n",
       "      <td>0.00</td>\n",
       "    </tr>\n",
       "    <tr>\n",
       "      <th>30</th>\n",
       "      <td>30</td>\n",
       "      <td>se7</td>\n",
       "      <td>4656.469130</td>\n",
       "      <td>0.659837</td>\n",
       "      <td>1.991376</td>\n",
       "      <td>True</td>\n",
       "      <td>9069.7820</td>\n",
       "      <td>0.00</td>\n",
       "    </tr>\n",
       "    <tr>\n",
       "      <th>31</th>\n",
       "      <td>31</td>\n",
       "      <td>se10</td>\n",
       "      <td>10055.631775</td>\n",
       "      <td>1.303894</td>\n",
       "      <td>2.416372</td>\n",
       "      <td>True</td>\n",
       "      <td>7989.7427</td>\n",
       "      <td>18.58</td>\n",
       "    </tr>\n",
       "    <tr>\n",
       "      <th>32</th>\n",
       "      <td>32</td>\n",
       "      <td>se12</td>\n",
       "      <td>16018.830376</td>\n",
       "      <td>1.901119</td>\n",
       "      <td>3.667833</td>\n",
       "      <td>True</td>\n",
       "      <td>6796.9014</td>\n",
       "      <td>35.75</td>\n",
       "    </tr>\n",
       "  </tbody>\n",
       "</table>\n",
       "</div>"
      ],
      "text/plain": [
       "    Unnamed: 0  Wind     Total TTE  Mean TTE   Max TTE  Completed Mission  \\\n",
       "0            0  zero   3052.123248  0.452099  1.996282               True   \n",
       "1            1    n5   3251.726609  0.470583  1.995474               True   \n",
       "2            2    n7   3994.212427  0.553598  1.993452               True   \n",
       "3            3   n10   7250.945175  0.868065  3.504885               True   \n",
       "4            4   n12  10039.205621  0.984719  4.830850               True   \n",
       "5            5    s5   3638.092674  0.522039  1.997009               True   \n",
       "6            6    s7   4802.393750  0.668485  2.347703               True   \n",
       "7            7   s10   7988.625694  0.968084  3.566078               True   \n",
       "8            8   s12  10897.406315  1.041021  4.896284               True   \n",
       "9            9    e5   3481.314230  0.504831  1.995926               True   \n",
       "10          10    e7   4354.203808  0.605171  2.210047               True   \n",
       "11          11   e10   7394.654129  0.907877  3.647827               True   \n",
       "12          12   e12  10590.268598  0.928889  5.478809               True   \n",
       "13          13    w5   3342.691384  0.482351  1.998033               True   \n",
       "14          14    w7   4525.724188  0.629797  2.285557               True   \n",
       "15          15   w10   7720.100279  0.941131  4.022731               True   \n",
       "16          16   w12  10057.396321  0.933141  5.468225               True   \n",
       "17          17   nw5   3122.913644  0.452334  1.995997               True   \n",
       "18          18   nw7   4333.279358  0.609892  1.993609               True   \n",
       "19          19  nw10   8944.880026  1.154178  2.279874               True   \n",
       "20          20  nw12  14071.351574  1.691268  3.265151               True   \n",
       "21          21   sw5   3420.071194  0.493232  1.995521               True   \n",
       "22          22   sw7   4724.709550  0.663769  1.992000               True   \n",
       "23          23  sw10   9417.969508  1.232235  2.463764               True   \n",
       "24          24  sw12  15044.279218  1.799340  3.315421               True   \n",
       "25          25   ne5   3364.133205  0.483839  1.999594               True   \n",
       "26          26   ne7   4553.004727  0.638929  1.992722               True   \n",
       "27          27  ne10   8575.507716  1.116167  2.309208               True   \n",
       "28          28  ne12  14593.270189  1.751683  3.691009               True   \n",
       "29          29   se5   3766.795419  0.543079  1.995809               True   \n",
       "30          30   se7   4656.469130  0.659837  1.991376               True   \n",
       "31          31  se10  10055.631775  1.303894  2.416372               True   \n",
       "32          32  se12  16018.830376  1.901119  3.667833               True   \n",
       "\n",
       "       Reward  Time Outside Corridor  \n",
       "0   9390.7050                   0.00  \n",
       "1   9350.7560                   0.00  \n",
       "2   9202.1860                   0.00  \n",
       "3   8550.5430                  11.75  \n",
       "4   7992.6196                  19.30  \n",
       "5   9273.4920                   0.00  \n",
       "6   9040.5530                   4.96  \n",
       "7   8403.0470                  14.71  \n",
       "8   7821.0293                  20.68  \n",
       "9   9304.8650                   0.00  \n",
       "10  9130.2450                   3.48  \n",
       "11  8522.0080                  13.01  \n",
       "12  7882.7490                  20.80  \n",
       "13  9332.5990                   0.00  \n",
       "14  9095.9270                   4.24  \n",
       "15  8456.9180                  14.61  \n",
       "16  7989.3184                  19.18  \n",
       "17  9376.5400                   0.00  \n",
       "18  9134.4260                   0.00  \n",
       "19  8211.9400                  10.29  \n",
       "20  7186.5225                  31.31  \n",
       "21  9317.1130                   0.00  \n",
       "22  9056.1170                   0.00  \n",
       "23  8117.2910                  15.18  \n",
       "24  6991.8380                  35.58  \n",
       "25  9328.3020                   0.00  \n",
       "26  9090.4850                   0.00  \n",
       "27  8285.8010                   4.73  \n",
       "28  7082.1370                  30.13  \n",
       "29  9247.7390                   0.00  \n",
       "30  9069.7820                   0.00  \n",
       "31  7989.7427                  18.58  \n",
       "32  6796.9014                  35.75  "
      ]
     },
     "execution_count": 25,
     "metadata": {},
     "output_type": "execute_result"
    }
   ],
   "source": [
    "wind_results"
   ]
  },
  {
   "cell_type": "code",
   "execution_count": 26,
   "id": "0e3bd4da-eb52-4268-98d9-6cd7de6099d0",
   "metadata": {},
   "outputs": [
    {
     "name": "stdout",
     "output_type": "stream",
     "text": [
      "Mean reward for 5 m/s:  9316.425749999999\n",
      "Std reward for 5 m/s:  41.21408950398968\n",
      "Mean reward for 7 m/s:  9102.465124999999\n",
      "Std reward for 7 m/s:  52.06203571958991\n",
      "Mean reward for 10 m/s:  8317.1613375\n",
      "Std reward for 10 m/s:  200.9063548354871\n"
     ]
    }
   ],
   "source": [
    "print(\"Mean reward for 5 m/s: \", wind_results[wind_results['Wind'].str.contains(\"5\")]['Reward'].mean())\n",
    "print(\"Std reward for 5 m/s: \",wind_results[wind_results['Wind'].str.contains(\"5\")]['Reward'].std())\n",
    "print(\"Mean reward for 7 m/s: \", wind_results[wind_results['Wind'].str.contains(\"7\")]['Reward'].mean())\n",
    "print(\"Std reward for 7 m/s: \",wind_results[wind_results['Wind'].str.contains(\"7\")]['Reward'].std())\n",
    "print(\"Mean reward for 10 m/s: \", wind_results[wind_results['Wind'].str.contains(\"10\")]['Reward'].mean())\n",
    "print(\"Std reward for 10 m/s: \",wind_results[wind_results['Wind'].str.contains(\"10\")]['Reward'].std())"
   ]
  },
  {
   "cell_type": "code",
   "execution_count": 27,
   "id": "da072f07-9933-44da-ba9b-b3baf536c26d",
   "metadata": {},
   "outputs": [
    {
     "name": "stdout",
     "output_type": "stream",
     "text": [
      "Mean for 5 m/s:  0.494035997667277\n",
      "Std for 5 m/s:  0.028874638191712133\n",
      "Mean for 7 m/s:  0.6286846857639128\n",
      "Std for 7 m/s:  0.03861094839516605\n",
      "Mean for 10 m/s:  1.0614537066599392\n",
      "Std for 10 m/s:  0.16200330631919388\n",
      "Mean for 12 m/s:  1.3788975133898769\n",
      "Std for 12 m/s:  0.44025562693737874\n"
     ]
    }
   ],
   "source": [
    "print(\"Mean for 5 m/s: \", wind_results[wind_results['Wind'].str.contains(\"5\")]['Mean TTE'].mean())\n",
    "print(\"Std for 5 m/s: \",wind_results[wind_results['Wind'].str.contains(\"5\")]['Mean TTE'].std())\n",
    "print(\"Mean for 7 m/s: \", wind_results[wind_results['Wind'].str.contains(\"7\")]['Mean TTE'].mean())\n",
    "print(\"Std for 7 m/s: \",wind_results[wind_results['Wind'].str.contains(\"7\")]['Mean TTE'].std())\n",
    "print(\"Mean for 10 m/s: \", wind_results[wind_results['Wind'].str.contains(\"10\")]['Mean TTE'].mean())\n",
    "print(\"Std for 10 m/s: \",wind_results[wind_results['Wind'].str.contains(\"10\")]['Mean TTE'].std())\n",
    "print(\"Mean for 12 m/s: \", wind_results[wind_results['Wind'].str.contains(\"12\")]['Mean TTE'].mean())\n",
    "print(\"Std for 12 m/s: \",wind_results[wind_results['Wind'].str.contains(\"12\")]['Mean TTE'].std())\n"
   ]
  },
  {
   "cell_type": "code",
   "execution_count": 28,
   "id": "b7e9548e-d7c5-42ea-9a3c-3ca981360703",
   "metadata": {},
   "outputs": [
    {
     "name": "stdout",
     "output_type": "stream",
     "text": [
      "Mean reward for 5 m/s:  0.0\n",
      "Std reward for 5 m/s:  0.0\n",
      "Mean reward for 7 m/s:  1.585\n",
      "Std reward for 7 m/s:  2.2229902641005235\n",
      "Mean reward for 10 m/s:  12.8575\n",
      "Std reward for 10 m/s:  4.115166200427736\n",
      "Mean reward for 12 m/s:  26.59125\n",
      "Std reward for 12 m/s:  7.329393733454356\n"
     ]
    }
   ],
   "source": [
    "print(\"Mean reward for 5 m/s: \", wind_results[wind_results['Wind'].str.contains(\"5\")]['Time Outside Corridor'].mean())\n",
    "print(\"Std reward for 5 m/s: \",wind_results[wind_results['Wind'].str.contains(\"5\")]['Time Outside Corridor'].std())\n",
    "print(\"Mean reward for 7 m/s: \", wind_results[wind_results['Wind'].str.contains(\"7\")]['Time Outside Corridor'].mean())\n",
    "print(\"Std reward for 7 m/s: \",wind_results[wind_results['Wind'].str.contains(\"7\")]['Time Outside Corridor'].std())\n",
    "print(\"Mean reward for 10 m/s: \", wind_results[wind_results['Wind'].str.contains(\"10\")]['Time Outside Corridor'].mean())\n",
    "print(\"Std reward for 10 m/s: \",wind_results[wind_results['Wind'].str.contains(\"10\")]['Time Outside Corridor'].std())\n",
    "print(\"Mean reward for 12 m/s: \", wind_results[wind_results['Wind'].str.contains(\"12\")]['Time Outside Corridor'].mean())\n",
    "print(\"Std reward for 12 m/s: \",wind_results[wind_results['Wind'].str.contains(\"12\")]['Time Outside Corridor'].std())"
   ]
  },
  {
   "cell_type": "code",
   "execution_count": 29,
   "id": "fa8c89b4-f996-49c2-beb3-63ccebcec1fc",
   "metadata": {},
   "outputs": [
    {
     "name": "stdout",
     "output_type": "stream",
     "text": [
      "Mean reward for 5 m/s:  1.0\n",
      "Std reward for 5 m/s:  0.0\n",
      "Mean reward for 7 m/s:  1.0\n",
      "Std reward for 7 m/s:  0.0\n",
      "Mean reward for 10 m/s:  1.0\n",
      "Std reward for 10 m/s:  0.0\n"
     ]
    }
   ],
   "source": [
    "print(\"Mean reward for 5 m/s: \", wind_results[wind_results['Wind'].str.contains(\"5\")]['Completed Mission'].mean())\n",
    "print(\"Std reward for 5 m/s: \",wind_results[wind_results['Wind'].str.contains(\"5\")]['Completed Mission'].std())\n",
    "print(\"Mean reward for 7 m/s: \", wind_results[wind_results['Wind'].str.contains(\"7\")]['Completed Mission'].mean())\n",
    "print(\"Std reward for 7 m/s: \",wind_results[wind_results['Wind'].str.contains(\"7\")]['Completed Mission'].std())\n",
    "print(\"Mean reward for 10 m/s: \", wind_results[wind_results['Wind'].str.contains(\"10\")]['Completed Mission'].mean())\n",
    "print(\"Std reward for 10 m/s: \",wind_results[wind_results['Wind'].str.contains(\"10\")]['Completed Mission'].std())"
   ]
  }
 ],
 "metadata": {
  "kernelspec": {
   "display_name": "Python 3 (ipykernel)",
   "language": "python",
   "name": "python3"
  },
  "language_info": {
   "codemirror_mode": {
    "name": "ipython",
    "version": 3
   },
   "file_extension": ".py",
   "mimetype": "text/x-python",
   "name": "python",
   "nbconvert_exporter": "python",
   "pygments_lexer": "ipython3",
   "version": "3.9.0"
  }
 },
 "nbformat": 4,
 "nbformat_minor": 5
}
