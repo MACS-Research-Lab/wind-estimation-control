{
 "cells": [
  {
   "cell_type": "code",
   "execution_count": 34,
   "metadata": {},
   "outputs": [],
   "source": [
    "import torch\n",
    "import torch.nn as nn\n",
    "import optuna\n",
    "import numpy as np\n",
    "import matplotlib.pyplot as plt\n",
    "import pandas as pd\n",
    "from tqdm import tqdm"
   ]
  },
  {
   "cell_type": "markdown",
   "metadata": {},
   "source": [
    "## Loading Data"
   ]
  },
  {
   "cell_type": "code",
   "execution_count": 35,
   "metadata": {},
   "outputs": [
    {
     "data": {
      "text/html": [
       "<div>\n",
       "<style scoped>\n",
       "    .dataframe tbody tr th:only-of-type {\n",
       "        vertical-align: middle;\n",
       "    }\n",
       "\n",
       "    .dataframe tbody tr th {\n",
       "        vertical-align: top;\n",
       "    }\n",
       "\n",
       "    .dataframe thead th {\n",
       "        text-align: right;\n",
       "    }\n",
       "</style>\n",
       "<table border=\"1\" class=\"dataframe\">\n",
       "  <thead>\n",
       "    <tr style=\"text-align: right;\">\n",
       "      <th></th>\n",
       "      <th>Unnamed: 0</th>\n",
       "      <th>X</th>\n",
       "      <th>Y</th>\n",
       "      <th>Z</th>\n",
       "      <th>VX</th>\n",
       "      <th>VY</th>\n",
       "      <th>VZ</th>\n",
       "      <th>Roll</th>\n",
       "      <th>Pitch</th>\n",
       "      <th>Yaw</th>\n",
       "      <th>Rate Roll</th>\n",
       "      <th>Rate Pitch</th>\n",
       "      <th>Rate Yaw</th>\n",
       "      <th>Wind X</th>\n",
       "      <th>Wind Y</th>\n",
       "      <th>Wind Z</th>\n",
       "      <th>Disturbance X</th>\n",
       "      <th>Disturbance Y</th>\n",
       "      <th>Disturbance Z</th>\n",
       "      <th>Flight Num</th>\n",
       "    </tr>\n",
       "  </thead>\n",
       "  <tbody>\n",
       "    <tr>\n",
       "      <th>0</th>\n",
       "      <td>0</td>\n",
       "      <td>0.000000</td>\n",
       "      <td>0.000000</td>\n",
       "      <td>30.000000</td>\n",
       "      <td>0.000112</td>\n",
       "      <td>0.000000</td>\n",
       "      <td>0.000000</td>\n",
       "      <td>0.000000</td>\n",
       "      <td>0.003559</td>\n",
       "      <td>0.000000</td>\n",
       "      <td>0.000000</td>\n",
       "      <td>0.711700</td>\n",
       "      <td>0.000000</td>\n",
       "      <td>-0.206787</td>\n",
       "      <td>0.075922</td>\n",
       "      <td>0.209785</td>\n",
       "      <td>-0.000000</td>\n",
       "      <td>-0.000000</td>\n",
       "      <td>-0.000000</td>\n",
       "      <td>0.0</td>\n",
       "    </tr>\n",
       "    <tr>\n",
       "      <th>1</th>\n",
       "      <td>1</td>\n",
       "      <td>0.000004</td>\n",
       "      <td>0.000000</td>\n",
       "      <td>30.000000</td>\n",
       "      <td>0.000894</td>\n",
       "      <td>0.000000</td>\n",
       "      <td>-0.000006</td>\n",
       "      <td>0.000000</td>\n",
       "      <td>0.012920</td>\n",
       "      <td>0.000000</td>\n",
       "      <td>0.000000</td>\n",
       "      <td>1.160480</td>\n",
       "      <td>0.000000</td>\n",
       "      <td>-0.206787</td>\n",
       "      <td>0.075922</td>\n",
       "      <td>0.209785</td>\n",
       "      <td>0.010403</td>\n",
       "      <td>-0.001394</td>\n",
       "      <td>-0.010567</td>\n",
       "      <td>0.0</td>\n",
       "    </tr>\n",
       "    <tr>\n",
       "      <th>2</th>\n",
       "      <td>2</td>\n",
       "      <td>0.000021</td>\n",
       "      <td>0.000000</td>\n",
       "      <td>30.000000</td>\n",
       "      <td>0.002785</td>\n",
       "      <td>0.000000</td>\n",
       "      <td>0.000007</td>\n",
       "      <td>0.000000</td>\n",
       "      <td>0.025862</td>\n",
       "      <td>0.000000</td>\n",
       "      <td>0.000000</td>\n",
       "      <td>1.427930</td>\n",
       "      <td>0.000000</td>\n",
       "      <td>-0.206787</td>\n",
       "      <td>0.075922</td>\n",
       "      <td>0.209785</td>\n",
       "      <td>0.010520</td>\n",
       "      <td>-0.001394</td>\n",
       "      <td>-0.010370</td>\n",
       "      <td>0.0</td>\n",
       "    </tr>\n",
       "    <tr>\n",
       "      <th>3</th>\n",
       "      <td>3</td>\n",
       "      <td>0.000064</td>\n",
       "      <td>0.000000</td>\n",
       "      <td>30.000000</td>\n",
       "      <td>0.006053</td>\n",
       "      <td>0.000000</td>\n",
       "      <td>0.000139</td>\n",
       "      <td>0.000000</td>\n",
       "      <td>0.040866</td>\n",
       "      <td>0.000000</td>\n",
       "      <td>0.000000</td>\n",
       "      <td>1.572990</td>\n",
       "      <td>0.000000</td>\n",
       "      <td>-0.206787</td>\n",
       "      <td>0.075922</td>\n",
       "      <td>0.209785</td>\n",
       "      <td>0.010598</td>\n",
       "      <td>-0.001394</td>\n",
       "      <td>-0.010100</td>\n",
       "      <td>0.0</td>\n",
       "    </tr>\n",
       "    <tr>\n",
       "      <th>4</th>\n",
       "      <td>4</td>\n",
       "      <td>0.000147</td>\n",
       "      <td>0.000000</td>\n",
       "      <td>30.000000</td>\n",
       "      <td>0.010841</td>\n",
       "      <td>0.000000</td>\n",
       "      <td>0.000387</td>\n",
       "      <td>0.000000</td>\n",
       "      <td>0.056937</td>\n",
       "      <td>0.000000</td>\n",
       "      <td>0.000000</td>\n",
       "      <td>1.640990</td>\n",
       "      <td>0.000000</td>\n",
       "      <td>-0.206787</td>\n",
       "      <td>0.075922</td>\n",
       "      <td>0.209785</td>\n",
       "      <td>0.010575</td>\n",
       "      <td>-0.001394</td>\n",
       "      <td>-0.009798</td>\n",
       "      <td>0.0</td>\n",
       "    </tr>\n",
       "    <tr>\n",
       "      <th>...</th>\n",
       "      <td>...</td>\n",
       "      <td>...</td>\n",
       "      <td>...</td>\n",
       "      <td>...</td>\n",
       "      <td>...</td>\n",
       "      <td>...</td>\n",
       "      <td>...</td>\n",
       "      <td>...</td>\n",
       "      <td>...</td>\n",
       "      <td>...</td>\n",
       "      <td>...</td>\n",
       "      <td>...</td>\n",
       "      <td>...</td>\n",
       "      <td>...</td>\n",
       "      <td>...</td>\n",
       "      <td>...</td>\n",
       "      <td>...</td>\n",
       "      <td>...</td>\n",
       "      <td>...</td>\n",
       "      <td>...</td>\n",
       "    </tr>\n",
       "    <tr>\n",
       "      <th>179648</th>\n",
       "      <td>179648</td>\n",
       "      <td>0.056381</td>\n",
       "      <td>-5.040767</td>\n",
       "      <td>30.036978</td>\n",
       "      <td>0.076670</td>\n",
       "      <td>1.109080</td>\n",
       "      <td>0.301343</td>\n",
       "      <td>-0.263362</td>\n",
       "      <td>-0.067083</td>\n",
       "      <td>0.000185</td>\n",
       "      <td>0.011266</td>\n",
       "      <td>-0.000062</td>\n",
       "      <td>-0.000471</td>\n",
       "      <td>-5.384795</td>\n",
       "      <td>10.614886</td>\n",
       "      <td>0.245310</td>\n",
       "      <td>6.728735</td>\n",
       "      <td>-30.366681</td>\n",
       "      <td>-3.226134</td>\n",
       "      <td>25.0</td>\n",
       "    </tr>\n",
       "    <tr>\n",
       "      <th>179649</th>\n",
       "      <td>179649</td>\n",
       "      <td>0.057141</td>\n",
       "      <td>-5.029292</td>\n",
       "      <td>30.037048</td>\n",
       "      <td>0.076420</td>\n",
       "      <td>1.106080</td>\n",
       "      <td>0.300453</td>\n",
       "      <td>-0.263252</td>\n",
       "      <td>-0.067083</td>\n",
       "      <td>0.000185</td>\n",
       "      <td>0.011266</td>\n",
       "      <td>-0.000062</td>\n",
       "      <td>-0.000471</td>\n",
       "      <td>-5.380381</td>\n",
       "      <td>10.615899</td>\n",
       "      <td>0.245622</td>\n",
       "      <td>6.734904</td>\n",
       "      <td>-30.338292</td>\n",
       "      <td>-3.220790</td>\n",
       "      <td>25.0</td>\n",
       "    </tr>\n",
       "    <tr>\n",
       "      <th>179650</th>\n",
       "      <td>179650</td>\n",
       "      <td>0.057901</td>\n",
       "      <td>-5.017848</td>\n",
       "      <td>30.037119</td>\n",
       "      <td>0.076160</td>\n",
       "      <td>1.103080</td>\n",
       "      <td>0.299483</td>\n",
       "      <td>-0.263142</td>\n",
       "      <td>-0.067083</td>\n",
       "      <td>0.000185</td>\n",
       "      <td>0.011266</td>\n",
       "      <td>-0.000062</td>\n",
       "      <td>-0.000471</td>\n",
       "      <td>-5.375580</td>\n",
       "      <td>10.618424</td>\n",
       "      <td>0.248180</td>\n",
       "      <td>6.724248</td>\n",
       "      <td>-30.329309</td>\n",
       "      <td>-3.217753</td>\n",
       "      <td>25.0</td>\n",
       "    </tr>\n",
       "    <tr>\n",
       "      <th>179651</th>\n",
       "      <td>179651</td>\n",
       "      <td>0.058656</td>\n",
       "      <td>-5.006436</td>\n",
       "      <td>30.037189</td>\n",
       "      <td>0.075890</td>\n",
       "      <td>1.100090</td>\n",
       "      <td>0.298493</td>\n",
       "      <td>-0.263032</td>\n",
       "      <td>-0.067083</td>\n",
       "      <td>0.000185</td>\n",
       "      <td>0.011266</td>\n",
       "      <td>-0.000062</td>\n",
       "      <td>-0.000471</td>\n",
       "      <td>-5.379139</td>\n",
       "      <td>10.614927</td>\n",
       "      <td>0.247671</td>\n",
       "      <td>6.712262</td>\n",
       "      <td>-30.325120</td>\n",
       "      <td>-3.219040</td>\n",
       "      <td>25.0</td>\n",
       "    </tr>\n",
       "    <tr>\n",
       "      <th>179652</th>\n",
       "      <td>179652</td>\n",
       "      <td>0.059406</td>\n",
       "      <td>-4.995054</td>\n",
       "      <td>30.037260</td>\n",
       "      <td>0.075620</td>\n",
       "      <td>1.097123</td>\n",
       "      <td>0.297603</td>\n",
       "      <td>-0.262944</td>\n",
       "      <td>-0.067083</td>\n",
       "      <td>0.000185</td>\n",
       "      <td>0.006736</td>\n",
       "      <td>-0.000062</td>\n",
       "      <td>-0.000471</td>\n",
       "      <td>-5.384699</td>\n",
       "      <td>10.620714</td>\n",
       "      <td>0.250581</td>\n",
       "      <td>6.722092</td>\n",
       "      <td>-30.293019</td>\n",
       "      <td>-3.213274</td>\n",
       "      <td>25.0</td>\n",
       "    </tr>\n",
       "  </tbody>\n",
       "</table>\n",
       "<p>179653 rows × 20 columns</p>\n",
       "</div>"
      ],
      "text/plain": [
       "        Unnamed: 0         X         Y          Z        VX        VY  \\\n",
       "0                0  0.000000  0.000000  30.000000  0.000112  0.000000   \n",
       "1                1  0.000004  0.000000  30.000000  0.000894  0.000000   \n",
       "2                2  0.000021  0.000000  30.000000  0.002785  0.000000   \n",
       "3                3  0.000064  0.000000  30.000000  0.006053  0.000000   \n",
       "4                4  0.000147  0.000000  30.000000  0.010841  0.000000   \n",
       "...            ...       ...       ...        ...       ...       ...   \n",
       "179648      179648  0.056381 -5.040767  30.036978  0.076670  1.109080   \n",
       "179649      179649  0.057141 -5.029292  30.037048  0.076420  1.106080   \n",
       "179650      179650  0.057901 -5.017848  30.037119  0.076160  1.103080   \n",
       "179651      179651  0.058656 -5.006436  30.037189  0.075890  1.100090   \n",
       "179652      179652  0.059406 -4.995054  30.037260  0.075620  1.097123   \n",
       "\n",
       "              VZ      Roll     Pitch       Yaw  Rate Roll  Rate Pitch  \\\n",
       "0       0.000000  0.000000  0.003559  0.000000   0.000000    0.711700   \n",
       "1      -0.000006  0.000000  0.012920  0.000000   0.000000    1.160480   \n",
       "2       0.000007  0.000000  0.025862  0.000000   0.000000    1.427930   \n",
       "3       0.000139  0.000000  0.040866  0.000000   0.000000    1.572990   \n",
       "4       0.000387  0.000000  0.056937  0.000000   0.000000    1.640990   \n",
       "...          ...       ...       ...       ...        ...         ...   \n",
       "179648  0.301343 -0.263362 -0.067083  0.000185   0.011266   -0.000062   \n",
       "179649  0.300453 -0.263252 -0.067083  0.000185   0.011266   -0.000062   \n",
       "179650  0.299483 -0.263142 -0.067083  0.000185   0.011266   -0.000062   \n",
       "179651  0.298493 -0.263032 -0.067083  0.000185   0.011266   -0.000062   \n",
       "179652  0.297603 -0.262944 -0.067083  0.000185   0.006736   -0.000062   \n",
       "\n",
       "        Rate Yaw    Wind X     Wind Y    Wind Z  Disturbance X  Disturbance Y  \\\n",
       "0       0.000000 -0.206787   0.075922  0.209785      -0.000000      -0.000000   \n",
       "1       0.000000 -0.206787   0.075922  0.209785       0.010403      -0.001394   \n",
       "2       0.000000 -0.206787   0.075922  0.209785       0.010520      -0.001394   \n",
       "3       0.000000 -0.206787   0.075922  0.209785       0.010598      -0.001394   \n",
       "4       0.000000 -0.206787   0.075922  0.209785       0.010575      -0.001394   \n",
       "...          ...       ...        ...       ...            ...            ...   \n",
       "179648 -0.000471 -5.384795  10.614886  0.245310       6.728735     -30.366681   \n",
       "179649 -0.000471 -5.380381  10.615899  0.245622       6.734904     -30.338292   \n",
       "179650 -0.000471 -5.375580  10.618424  0.248180       6.724248     -30.329309   \n",
       "179651 -0.000471 -5.379139  10.614927  0.247671       6.712262     -30.325120   \n",
       "179652 -0.000471 -5.384699  10.620714  0.250581       6.722092     -30.293019   \n",
       "\n",
       "        Disturbance Z  Flight Num  \n",
       "0           -0.000000         0.0  \n",
       "1           -0.010567         0.0  \n",
       "2           -0.010370         0.0  \n",
       "3           -0.010100         0.0  \n",
       "4           -0.009798         0.0  \n",
       "...               ...         ...  \n",
       "179648      -3.226134        25.0  \n",
       "179649      -3.220790        25.0  \n",
       "179650      -3.217753        25.0  \n",
       "179651      -3.219040        25.0  \n",
       "179652      -3.213274        25.0  \n",
       "\n",
       "[179653 rows x 20 columns]"
      ]
     },
     "execution_count": 35,
     "metadata": {},
     "output_type": "execute_result"
    }
   ],
   "source": [
    "data = pd.read_csv('./data/lstm_disturbance.csv')\n",
    "data"
   ]
  },
  {
   "cell_type": "code",
   "execution_count": 36,
   "metadata": {},
   "outputs": [],
   "source": [
    "data = data[::10] # 0.01 -> 0.1 s"
   ]
  },
  {
   "cell_type": "markdown",
   "metadata": {},
   "source": [
    "First, change X, Y, Z into delta X,Y,Z"
   ]
  },
  {
   "cell_type": "code",
   "execution_count": 37,
   "metadata": {},
   "outputs": [
    {
     "name": "stderr",
     "output_type": "stream",
     "text": [
      "/tmp/ipykernel_2463580/1879319837.py:1: SettingWithCopyWarning: \n",
      "A value is trying to be set on a copy of a slice from a DataFrame.\n",
      "Try using .loc[row_indexer,col_indexer] = value instead\n",
      "\n",
      "See the caveats in the documentation: https://pandas.pydata.org/pandas-docs/stable/user_guide/indexing.html#returning-a-view-versus-a-copy\n",
      "  data['X'] = data['X'].diff()\n",
      "/tmp/ipykernel_2463580/1879319837.py:2: SettingWithCopyWarning: \n",
      "A value is trying to be set on a copy of a slice from a DataFrame.\n",
      "Try using .loc[row_indexer,col_indexer] = value instead\n",
      "\n",
      "See the caveats in the documentation: https://pandas.pydata.org/pandas-docs/stable/user_guide/indexing.html#returning-a-view-versus-a-copy\n",
      "  data['Y'] = data['Y'].diff()\n",
      "/tmp/ipykernel_2463580/1879319837.py:3: SettingWithCopyWarning: \n",
      "A value is trying to be set on a copy of a slice from a DataFrame.\n",
      "Try using .loc[row_indexer,col_indexer] = value instead\n",
      "\n",
      "See the caveats in the documentation: https://pandas.pydata.org/pandas-docs/stable/user_guide/indexing.html#returning-a-view-versus-a-copy\n",
      "  data['Z'] = data['Z'].diff()\n"
     ]
    }
   ],
   "source": [
    "data['X'] = data['X'].diff()\n",
    "data['Y'] = data['Y'].diff()\n",
    "data['Z'] = data['Z'].diff()\n",
    "data = data.dropna()"
   ]
  },
  {
   "cell_type": "markdown",
   "metadata": {},
   "source": [
    "Next, subsample the data to only have points every 0.1 seconds (every 10 samples), at the same time build the time sequences and normalize the data."
   ]
  },
  {
   "cell_type": "code",
   "execution_count": 38,
   "metadata": {},
   "outputs": [],
   "source": [
    "def normalize_lstm_input(input):\n",
    "    normalization = np.array([1.5, 1.5, 1.5, 15, 15, 15, np.pi/12, np.pi/12, np.pi/12])\n",
    "\n",
    "    return input / normalization"
   ]
  },
  {
   "cell_type": "code",
   "execution_count": 39,
   "metadata": {},
   "outputs": [
    {
     "name": "stderr",
     "output_type": "stream",
     "text": [
      "100%|██████████| 26/26 [00:00<00:00, 72.67it/s]\n"
     ]
    }
   ],
   "source": [
    "grouped = data.groupby('Flight Num')\n",
    "timestep = 10\n",
    "\n",
    "sequenced_x = []\n",
    "sequenced_y = []\n",
    "\n",
    "for flight_num, flight_df in tqdm(grouped):\n",
    "    x_data = flight_df[['X', 'Y', 'Z', 'VX', 'VY', 'VZ', 'Roll', 'Pitch', 'Yaw']]\n",
    "    y_data = flight_df[['Disturbance X', 'Disturbance Y', 'Disturbance Z']]\n",
    "    \n",
    "    x_np = x_data.to_numpy()\n",
    "    y_np = y_data.to_numpy()\n",
    "    \n",
    "    for i in range(0, x_np.shape[0]-timestep):\n",
    "        curr_sequence = []\n",
    "        for j in range(i, i+timestep):\n",
    "            curr_sequence.append(normalize_lstm_input(x_np[j]))\n",
    "            \n",
    "        sequenced_x.append(curr_sequence)\n",
    "        sequenced_y.append(y_np[i+timestep-1])\n",
    "\n",
    "sequenced_y = np.array(sequenced_y)\n",
    "sequenced_x = np.array(sequenced_x)"
   ]
  },
  {
   "cell_type": "code",
   "execution_count": 40,
   "metadata": {},
   "outputs": [
    {
     "name": "stdout",
     "output_type": "stream",
     "text": [
      "X shape: (17705, 10, 9), Y shape: (17705, 3)\n"
     ]
    }
   ],
   "source": [
    "print(f'X shape: {sequenced_x.shape}, Y shape: {sequenced_y.shape}')"
   ]
  },
  {
   "cell_type": "code",
   "execution_count": 41,
   "metadata": {},
   "outputs": [],
   "source": [
    "# Make sure we are predicting the current point, not off by 1 somewhere\n",
    "assert data.loc[100]['Disturbance X'] == sequenced_y[0][0]"
   ]
  },
  {
   "cell_type": "markdown",
   "metadata": {},
   "source": [
    "## Training LSTM"
   ]
  },
  {
   "cell_type": "code",
   "execution_count": 42,
   "metadata": {},
   "outputs": [],
   "source": [
    "device = torch.device(\"cuda\" if torch.cuda.is_available() else \"cpu\")"
   ]
  },
  {
   "cell_type": "code",
   "execution_count": 43,
   "metadata": {},
   "outputs": [],
   "source": [
    "class LSTM(nn.Module):\n",
    "    def __init__(self, input_size, hidden_size, num_layers, output_size):\n",
    "        super(LSTM, self).__init__()\n",
    "        self.hidden_size = hidden_size\n",
    "        self.num_layers = num_layers\n",
    "        self.lstm = nn.LSTM(input_size, hidden_size, num_layers, batch_first=True)\n",
    "        self.fc = nn.Linear(hidden_size, output_size)\n",
    "\n",
    "    def forward(self, x):\n",
    "        h0 = torch.zeros(self.num_layers, x.size(0), self.hidden_size).to(device)\n",
    "        c0 = torch.zeros(self.num_layers, x.size(0), self.hidden_size).to(device)\n",
    "        \n",
    "        out, _ = self.lstm(x, (h0, c0))\n",
    "        \n",
    "        out = self.fc(out[:, -1, :])\n",
    "        return out"
   ]
  },
  {
   "cell_type": "code",
   "execution_count": 44,
   "metadata": {},
   "outputs": [
    {
     "data": {
      "text/plain": [
       "15934.5"
      ]
     },
     "execution_count": 44,
     "metadata": {},
     "output_type": "execute_result"
    }
   ],
   "source": [
    "len(sequenced_x)* 0.9"
   ]
  },
  {
   "cell_type": "code",
   "execution_count": 45,
   "metadata": {},
   "outputs": [
    {
     "name": "stderr",
     "output_type": "stream",
     "text": [
      "  0%|          | 0/100 [00:00<?, ?it/s]"
     ]
    },
    {
     "name": "stderr",
     "output_type": "stream",
     "text": [
      "100%|██████████| 100/100 [00:39<00:00,  2.50it/s]\n"
     ]
    }
   ],
   "source": [
    "x_dim = sequenced_x[0][0].shape[0]\n",
    "y_dim = sequenced_y[0].shape[0]\n",
    "\n",
    "lstm = LSTM(x_dim, 64, 2, y_dim).to(device)\n",
    "\n",
    "criterion = nn.MSELoss()\n",
    "optimizer = torch.optim.Adam(lstm.parameters(), lr=1e-4)\n",
    "\n",
    "train_points = int(len(sequenced_x)*0.9)\n",
    "\n",
    "X = torch.tensor(sequenced_x[:train_points], dtype=torch.float32)\n",
    "y = torch.tensor(sequenced_y[:train_points], dtype=torch.float32)\n",
    "dataset = torch.utils.data.TensorDataset(X, y)\n",
    "dataloader = torch.utils.data.DataLoader(dataset, batch_size=64, shuffle=True)\n",
    "\n",
    "losses = []\n",
    "n_epochs = 100\n",
    "for i in tqdm(range(n_epochs)):\n",
    "    for (X, y) in dataloader:\n",
    "        optimizer.zero_grad()\n",
    "        X = X.to(device)\n",
    "        y = y.to(device)\n",
    "        preds = lstm(X)\n",
    "        loss = criterion(y, preds)\n",
    "        loss.backward()\n",
    "        optimizer.step()\n",
    "        losses.append(loss.item())"
   ]
  },
  {
   "cell_type": "code",
   "execution_count": 46,
   "metadata": {},
   "outputs": [
    {
     "data": {
      "text/plain": [
       "[<matplotlib.lines.Line2D at 0x7fb40d9ecdc0>]"
      ]
     },
     "execution_count": 46,
     "metadata": {},
     "output_type": "execute_result"
    },
    {
     "data": {
      "image/png": "[encoded data removed]",
      "text/plain": [
       "<Figure size 640x480 with 1 Axes>"
      ]
     },
     "metadata": {},
     "output_type": "display_data"
    }
   ],
   "source": [
    "plt.plot(losses)"
   ]
  },
  {
   "cell_type": "code",
   "execution_count": 54,
   "metadata": {},
   "outputs": [],
   "source": [
    "preds = []\n",
    "ys = []\n",
    "\n",
    "for x, y in zip(sequenced_x[train_points:], sequenced_y[train_points:]):\n",
    "    x = torch.tensor(x, dtype=torch.float32).to(device).unsqueeze(0)\n",
    "    pred = lstm(x)\n",
    "    preds.append(pred.detach().cpu().numpy())\n",
    "    ys.append(y)\n",
    "    \n",
    "preds = np.array(preds)\n",
    "ys = np.array(ys)"
   ]
  },
  {
   "cell_type": "code",
   "execution_count": 55,
   "metadata": {},
   "outputs": [
    {
     "data": {
      "text/plain": [
       "(1771, 1, 3)"
      ]
     },
     "execution_count": 55,
     "metadata": {},
     "output_type": "execute_result"
    }
   ],
   "source": [
    "preds.shape"
   ]
  },
  {
   "cell_type": "code",
   "execution_count": 56,
   "metadata": {},
   "outputs": [
    {
     "data": {
      "text/plain": [
       "<matplotlib.legend.Legend at 0x7fb40d19a0a0>"
      ]
     },
     "execution_count": 56,
     "metadata": {},
     "output_type": "execute_result"
    },
    {
     "data": {
      "image/png": "[encoded data removed]",
      "text/plain": [
       "<Figure size 640x480 with 1 Axes>"
      ]
     },
     "metadata": {},
     "output_type": "display_data"
    }
   ],
   "source": [
    "plt.plot(preds.squeeze()[:,0], label='Disturbance X Prediction')\n",
    "plt.plot(ys[:,0], linestyle=':', label='True Disturbance X')\n",
    "plt.legend()\n",
    "# plt.xlim(0,1000)"
   ]
  },
  {
   "cell_type": "markdown",
   "metadata": {},
   "source": [
    "This seems good enough for the RL agent!"
   ]
  },
  {
   "cell_type": "code",
   "execution_count": null,
   "metadata": {},
   "outputs": [],
   "source": [
    "torch.save(lstm.state_dict(), './saved_models/lstm_disturbance.pth')"
   ]
  }
 ],
 "metadata": {
  "kernelspec": {
   "display_name": "wind-estimation",
   "language": "python",
   "name": "python3"
  },
  "language_info": {
   "codemirror_mode": {
    "name": "ipython",
    "version": 3
   },
   "file_extension": ".py",
   "mimetype": "text/x-python",
   "name": "python",
   "nbconvert_exporter": "python",
   "pygments_lexer": "ipython3",
   "version": "3.9.18"
  }
 },
 "nbformat": 4,
 "nbformat_minor": 2
}
