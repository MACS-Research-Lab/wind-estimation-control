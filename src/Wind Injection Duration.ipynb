{
 "cells": [
  {
   "cell_type": "markdown",
   "id": "8fedd058-e292-442a-83aa-41effbf99a5d",
   "metadata": {},
   "source": [
    "# Wind Injection Duration\n",
    "\n",
    "Testing the impact of a sudden wind disturbance for a period of time. How robust are each of the controllers to this unseen task?"
   ]
  },
  {
   "cell_type": "code",
   "execution_count": 1,
   "id": "abfbb72e-1949-475c-890b-2c8d4d742f41",
   "metadata": {},
   "outputs": [],
   "source": [
    "from systems.long_multirotor import LongTrajEnv\n",
    "\n",
    "from typing import Union, Iterable, List\n",
    "from copy import deepcopy\n",
    "import matplotlib.pyplot as plt\n",
    "import numpy as np\n",
    "import pandas as pd\n",
    "import torch\n",
    "import torch.nn as nn\n",
    "from tqdm.autonotebook import tqdm, trange\n",
    "import optuna\n",
    "\n",
    "from rl import learn_rl, transform_rl_policy, evaluate_rl, PPO, load_agent\n",
    "from multirotor.simulation import Multirotor\n",
    "from multirotor.helpers import DataLog\n",
    "from multirotor.visualize import plot_datalog\n",
    "from multirotor.controller import Controller\n",
    "from multirotor.trajectories import Trajectory, GuidedTrajectory\n",
    "from multirotor.controller.scurves import SCurveController\n",
    "from systems.multirotor import MultirotorTrajEnv, VP\n",
    "from multirotor.controller import (\n",
    "    AltController, AltRateController,\n",
    "    PosController, AttController,\n",
    "    VelController, RateController,\n",
    "    Controller\n",
    ")\n",
    "from scripts.opt_pidcontroller import (\n",
    "    get_controller, make_disturbance_fn,\n",
    "    apply_params as apply_params_pid, get_study as get_study_pid\n",
    ")\n",
    "from scripts.opt_multirotorenv import apply_params, get_study, get_established_controller\n",
    "import pickle"
   ]
  },
  {
   "cell_type": "code",
   "execution_count": 2,
   "id": "a9193813-7040-4132-92e0-fa4c2388fbb8",
   "metadata": {},
   "outputs": [],
   "source": [
    "log_root_path = './tensorboard/MultirotorTrajEnv/optstudy/%s/'\n",
    "def get_study_agent_params(name, overwrite_trial=None):\n",
    "    study = get_study(name)\n",
    "    best_trial = study.best_trial.number\n",
    "    if overwrite_trial is not None:\n",
    "        best_trial = overwrite_trial\n",
    "    best_agent = load_agent((log_root_path + '%03d/run_1/agent') % (name, best_trial)) #best_trial\n",
    "    best_params = study.best_params\n",
    "    return study, best_agent, best_params"
   ]
  },
  {
   "cell_type": "code",
   "execution_count": 3,
   "id": "4a73deca-c680-48cd-a2b3-4bfbed96af77",
   "metadata": {},
   "outputs": [],
   "source": [
    "def get_tte(initial_pos: tuple, waypoints: np.ndarray, x: np.ndarray, y:np.ndarray, z:np.ndarray) -> np.ndarray:\n",
    "        \"\"\"\n",
    "        Calculates the trajectory tracking error. \n",
    "        The distance between the current point and the vector between previous and next wp. Uses ||v1 x v2|| / ||v1||.\n",
    "\n",
    "        Parameters\n",
    "        ----------\n",
    "        initial_pos : tuple  \n",
    "            the initial position of the UAV.\n",
    "        waypoints : np.ndarray \n",
    "            the reference positions at each point in time.\n",
    "        x : np.ndarray \n",
    "            the x positions of the UAV.\n",
    "        y : np.ndarray \n",
    "            the y positions of the UAV.\n",
    "        z : np.ndarray\n",
    "            the z positions of the UAV.\n",
    "\n",
    "        Returns\n",
    "        -------\n",
    "        np.ndarray \n",
    "            the trajectory tracking error at each point in time.\n",
    "        \"\"\"\n",
    "        ttes = []\n",
    "        prev = initial_pos\n",
    "        for i, waypoint in enumerate(waypoints):\n",
    "            if i > 0 and not np.array_equal(waypoints[i-1], waypoints[i]):\n",
    "                prev = waypoints[i-1]\n",
    "\n",
    "            v1 = waypoint - prev\n",
    "            v2 = np.array([x[i],y[i],z[i]]) - prev\n",
    "            tte = np.linalg.norm(np.cross(v1, v2)) / np.linalg.norm(v1)\n",
    "            ttes.append(tte)\n",
    "                \n",
    "        return np.array(ttes)\n",
    "\n",
    "def toc(tte: np.ndarray):\n",
    "    corridor = 5\n",
    "    return len(tte[tte > corridor]) / 100"
   ]
  },
  {
   "cell_type": "code",
   "execution_count": 4,
   "id": "ae91be8c-f9fa-4f95-b9db-43f7e83d5f0e",
   "metadata": {},
   "outputs": [],
   "source": [
    "def get_established_controller(m: Multirotor):\n",
    "    ctrl = get_controller(m, scurve=False)\n",
    "\n",
    "    with open('/home/courseac/projects/transfer_similarity/src/params/manual_pid.pkl', 'rb') as f: #TODO: make relative\n",
    "        optimal_params = pickle.load(f)\n",
    "\n",
    "    optimal_params['ctrl_z']['k_p'] = np.array([0.4])\n",
    "    optimal_params['ctrl_z']['k_i'] = np.array([0.0])\n",
    "    optimal_params['ctrl_z']['k_d'] = np.array([0.0])\n",
    "    optimal_params['ctrl_p']['max_velocity'] = 15\n",
    "\n",
    "    z_params = optimal_params['ctrl_z']\n",
    "    optimal_params['ctrl_vz']['k_p'] = 25\n",
    "    vz_params = optimal_params['ctrl_vz']\n",
    "\n",
    "    ctrl.set_params(**optimal_params)\n",
    "    ctrl.ctrl_z.set_params(**z_params)\n",
    "    ctrl.ctrl_vz.set_params(**vz_params)\n",
    "    return ctrl"
   ]
  },
  {
   "cell_type": "code",
   "execution_count": 5,
   "id": "eebfb389-40c0-4b11-b1d9-63f9714cb7f3",
   "metadata": {},
   "outputs": [],
   "source": [
    "def get_env(wind_ranges, scurve=False, **kwargs):  \n",
    "    kw = dict(\n",
    "        safety_radius=kwargs['safety_radius'],\n",
    "        vp=VP,get_controller_fn=lambda m: get_established_controller(m),\n",
    "        steps_u=kwargs['steps_u'],\n",
    "        scaling_factor=kwargs['scaling_factor'],\n",
    "        wind_ranges=wind_ranges,\n",
    "        proximity=5, \n",
    "        seed=kwargs['seed'])\n",
    "    return MultirotorTrajEnv(**kw)"
   ]
  },
  {
   "cell_type": "code",
   "execution_count": 6,
   "id": "e0d2cba5-0438-495f-a22f-3a43602ed9bb",
   "metadata": {},
   "outputs": [],
   "source": [
    "def get_long_env(best_params, wind_range, injection_data):\n",
    "    env_kwargs = dict(\n",
    "        safety_corridor=5,\n",
    "        safety_radius=5,\n",
    "        seed=0,\n",
    "        get_controller_fn=lambda m: get_established_controller(m),\n",
    "        vp = VP,\n",
    "    )\n",
    "\n",
    "    env_kwargs['steps_u'] = best_params['steps_u']\n",
    "    env_kwargs['scaling_factor'] = best_params['scaling_factor']\n",
    "\n",
    "    square_np = np.array([[0,250,0]]) # notice this is 250 meters north. Depending on the wind direction, you may want to change this.\n",
    "    square_traj = Trajectory(None, points=square_np, resolution=best_params['bounding_rect_length']) \n",
    "    square_wpts = square_traj.generate_trajectory(curr_pos=np.array([0,0,0]))\n",
    "\n",
    "    env = LongTrajEnv(\n",
    "        waypoints = square_wpts,\n",
    "        base_env = get_env(wind_ranges = wind_range , **env_kwargs),\n",
    "        initial_waypoints = square_np,\n",
    "        randomize_direction=False,\n",
    "        injection_data=injection_data # what wind to inject and for how long, format seen later\n",
    "    )\n",
    "\n",
    "    return env"
   ]
  },
  {
   "cell_type": "code",
   "execution_count": 7,
   "id": "e29a8663-f9d0-4ca6-bdd9-10201ea22aa2",
   "metadata": {},
   "outputs": [],
   "source": [
    "def inject_wind_all(agents, params, wind_vector, duration):\n",
    "    logs = []\n",
    "\n",
    "    for agent, param in tqdm(zip(agents, params), total=len(agents)):\n",
    "        if agent == 'pid':\n",
    "            param = {\n",
    "                'steps_u': 1,\n",
    "                'scaling_factor': 1,\n",
    "                'bounding_rect_length': 100\n",
    "            }\n",
    "\n",
    "        start_time = 300\n",
    "        injection_data = { # needs a start time for injection (0.01 seconds), duration, and wind_vector in [x,y,z]\n",
    "            'start': start_time,\n",
    "            'end': start_time + duration,\n",
    "            'wind': wind_vector\n",
    "        }\n",
    "        \n",
    "        env = get_long_env(param, [(0,0), (0,0), (0,0)], injection_data)\n",
    "        done = False\n",
    "        state = env.reset()\n",
    "        log = DataLog(env.base_env.vehicle, env.base_env.ctrl,\n",
    "                          other_vars=('reward',))\n",
    "        while not done:\n",
    "            if agent == 'pid':\n",
    "                action = [0,0,0]\n",
    "            else:\n",
    "                action = agent.predict(state, deterministic=True)[0]\n",
    "                \n",
    "            state, reward, done, info = env.step(action)\n",
    "            log.log(reward=reward)\n",
    "        \n",
    "        log.done_logging()\n",
    "        logs.append(log)\n",
    "\n",
    "    return logs"
   ]
  },
  {
   "cell_type": "code",
   "execution_count": 8,
   "id": "346168b2-77f2-4f9c-b76a-3958dc9b2d76",
   "metadata": {},
   "outputs": [],
   "source": [
    "def perform_injections(agents, params, wind_mags):\n",
    "    durations = [100, 200, 300, 400, 500, 600, 700, 800, 900, 1000] # 1 through 10 seconds\n",
    "    injection_results = []\n",
    "    for duration in tqdm(durations):\n",
    "        duration_results = []\n",
    "        for wind_mag in wind_mags:\n",
    "            wind_vector = np.array([wind_mag,-wind_mag,0])\n",
    "            logs = inject_wind_all(agents, params, wind_vector, duration)\n",
    "            tocs = [toc(get_tte(np.array([0,0,0]), log.states[:,12:], log.x, log.y, log.z)) for log in logs]\n",
    "                \n",
    "            duration_results.append(tocs)\n",
    "\n",
    "        injection_results.append(duration_results)\n",
    "    return injection_results"
   ]
  },
  {
   "cell_type": "code",
   "execution_count": 9,
   "id": "d7421f20-8ced-4276-815b-baff617a325b",
   "metadata": {},
   "outputs": [
    {
     "name": "stderr",
     "output_type": "stream",
     "text": [
      "[I 2023-08-15 04:01:24,284] Using an existing study with name 'cardinal@random5m' instead of creating a new one.\n",
      "[I 2023-08-15 04:01:25,901] Using an existing study with name 'cardinal@random5m' instead of creating a new one.\n",
      "[I 2023-08-15 04:01:25,957] Using an existing study with name 'n@random5m' instead of creating a new one.\n"
     ]
    }
   ],
   "source": [
    "study, cardinal_low, cardinal_low_params = get_study_agent_params('cardinal@random5m', overwrite_trial=63)\n",
    "study, cardinal_high, cardinal_high_params = get_study_agent_params('cardinal@random5m')\n",
    "study, north, north_params = get_study_agent_params('n@random5m')"
   ]
  },
  {
   "cell_type": "code",
   "execution_count": 10,
   "id": "a5f9025a-979e-4052-a5e8-c971d47ab321",
   "metadata": {},
   "outputs": [],
   "source": [
    "all_agents = ['pid', cardinal_low, cardinal_high, north]\n",
    "all_params = [None, cardinal_low_params, cardinal_high_params, north_params]"
   ]
  },
  {
   "cell_type": "code",
   "execution_count": 11,
   "id": "0a03ec24-32c1-4511-8d58-48f63e36cc1b",
   "metadata": {},
   "outputs": [
    {
     "data": {
      "application/vnd.jupyter.widget-view+json": {
       "model_id": "eaa9a11e697e4e71b5c496efbaa87f6a",
       "version_major": 2,
       "version_minor": 0
      },
      "text/plain": [
       "  0%|          | 0/10 [00:00<?, ?it/s]"
      ]
     },
     "metadata": {},
     "output_type": "display_data"
    },
    {
     "data": {
      "application/vnd.jupyter.widget-view+json": {
       "model_id": "428eecc7d2ba4e5c83eb2b6824788aac",
       "version_major": 2,
       "version_minor": 0
      },
      "text/plain": [
       "  0%|          | 0/4 [00:00<?, ?it/s]"
      ]
     },
     "metadata": {},
     "output_type": "display_data"
    },
    {
     "data": {
      "application/vnd.jupyter.widget-view+json": {
       "model_id": "eb526bb4f7ba4c57b7e5660b0576d272",
       "version_major": 2,
       "version_minor": 0
      },
      "text/plain": [
       "  0%|          | 0/4 [00:00<?, ?it/s]"
      ]
     },
     "metadata": {},
     "output_type": "display_data"
    },
    {
     "data": {
      "application/vnd.jupyter.widget-view+json": {
       "model_id": "cc7fdd92b8174d1b9409b8d5429454d8",
       "version_major": 2,
       "version_minor": 0
      },
      "text/plain": [
       "  0%|          | 0/4 [00:00<?, ?it/s]"
      ]
     },
     "metadata": {},
     "output_type": "display_data"
    },
    {
     "data": {
      "application/vnd.jupyter.widget-view+json": {
       "model_id": "018136491ba7448ba9671e8ecd5cb008",
       "version_major": 2,
       "version_minor": 0
      },
      "text/plain": [
       "  0%|          | 0/4 [00:00<?, ?it/s]"
      ]
     },
     "metadata": {},
     "output_type": "display_data"
    },
    {
     "data": {
      "application/vnd.jupyter.widget-view+json": {
       "model_id": "3a2884e0a07d4025b2662f6f34763271",
       "version_major": 2,
       "version_minor": 0
      },
      "text/plain": [
       "  0%|          | 0/4 [00:00<?, ?it/s]"
      ]
     },
     "metadata": {},
     "output_type": "display_data"
    },
    {
     "data": {
      "application/vnd.jupyter.widget-view+json": {
       "model_id": "c43d59f3877d4e3ba936215512aa5ae5",
       "version_major": 2,
       "version_minor": 0
      },
      "text/plain": [
       "  0%|          | 0/4 [00:00<?, ?it/s]"
      ]
     },
     "metadata": {},
     "output_type": "display_data"
    },
    {
     "data": {
      "application/vnd.jupyter.widget-view+json": {
       "model_id": "6fe14819fb6e46c2b5c46460fdd48e00",
       "version_major": 2,
       "version_minor": 0
      },
      "text/plain": [
       "  0%|          | 0/4 [00:00<?, ?it/s]"
      ]
     },
     "metadata": {},
     "output_type": "display_data"
    },
    {
     "data": {
      "application/vnd.jupyter.widget-view+json": {
       "model_id": "6c0acfbd36314c5ba12640637c48a140",
       "version_major": 2,
       "version_minor": 0
      },
      "text/plain": [
       "  0%|          | 0/4 [00:00<?, ?it/s]"
      ]
     },
     "metadata": {},
     "output_type": "display_data"
    },
    {
     "data": {
      "application/vnd.jupyter.widget-view+json": {
       "model_id": "621c5eef52ce4840b9f990c7e7378872",
       "version_major": 2,
       "version_minor": 0
      },
      "text/plain": [
       "  0%|          | 0/4 [00:00<?, ?it/s]"
      ]
     },
     "metadata": {},
     "output_type": "display_data"
    },
    {
     "data": {
      "application/vnd.jupyter.widget-view+json": {
       "model_id": "032fc993f9c84759ab30d871e4df6252",
       "version_major": 2,
       "version_minor": 0
      },
      "text/plain": [
       "  0%|          | 0/4 [00:00<?, ?it/s]"
      ]
     },
     "metadata": {},
     "output_type": "display_data"
    },
    {
     "data": {
      "application/vnd.jupyter.widget-view+json": {
       "model_id": "0990121389fc432391bfb71c07ae40da",
       "version_major": 2,
       "version_minor": 0
      },
      "text/plain": [
       "  0%|          | 0/4 [00:00<?, ?it/s]"
      ]
     },
     "metadata": {},
     "output_type": "display_data"
    },
    {
     "data": {
      "application/vnd.jupyter.widget-view+json": {
       "model_id": "aca35feb433143f5b6538498c41be404",
       "version_major": 2,
       "version_minor": 0
      },
      "text/plain": [
       "  0%|          | 0/4 [00:00<?, ?it/s]"
      ]
     },
     "metadata": {},
     "output_type": "display_data"
    },
    {
     "data": {
      "application/vnd.jupyter.widget-view+json": {
       "model_id": "8e639edee74648719c42ea90b788eacb",
       "version_major": 2,
       "version_minor": 0
      },
      "text/plain": [
       "  0%|          | 0/4 [00:00<?, ?it/s]"
      ]
     },
     "metadata": {},
     "output_type": "display_data"
    },
    {
     "data": {
      "application/vnd.jupyter.widget-view+json": {
       "model_id": "e117f99b45734a0ab11e17adcfa3de33",
       "version_major": 2,
       "version_minor": 0
      },
      "text/plain": [
       "  0%|          | 0/4 [00:00<?, ?it/s]"
      ]
     },
     "metadata": {},
     "output_type": "display_data"
    },
    {
     "data": {
      "application/vnd.jupyter.widget-view+json": {
       "model_id": "87c5e8860fcc45ac96084c236da39c90",
       "version_major": 2,
       "version_minor": 0
      },
      "text/plain": [
       "  0%|          | 0/4 [00:00<?, ?it/s]"
      ]
     },
     "metadata": {},
     "output_type": "display_data"
    },
    {
     "data": {
      "application/vnd.jupyter.widget-view+json": {
       "model_id": "f8ca340411a2468699a0d82a06315afd",
       "version_major": 2,
       "version_minor": 0
      },
      "text/plain": [
       "  0%|          | 0/4 [00:00<?, ?it/s]"
      ]
     },
     "metadata": {},
     "output_type": "display_data"
    },
    {
     "data": {
      "application/vnd.jupyter.widget-view+json": {
       "model_id": "418bde5881fa4d5bae90caddc432f6c0",
       "version_major": 2,
       "version_minor": 0
      },
      "text/plain": [
       "  0%|          | 0/4 [00:00<?, ?it/s]"
      ]
     },
     "metadata": {},
     "output_type": "display_data"
    },
    {
     "data": {
      "application/vnd.jupyter.widget-view+json": {
       "model_id": "55fcf742480d4bf5800a768e866e3f54",
       "version_major": 2,
       "version_minor": 0
      },
      "text/plain": [
       "  0%|          | 0/4 [00:00<?, ?it/s]"
      ]
     },
     "metadata": {},
     "output_type": "display_data"
    },
    {
     "data": {
      "application/vnd.jupyter.widget-view+json": {
       "model_id": "d37b7cc5e2e44367b58c9fc0a663b760",
       "version_major": 2,
       "version_minor": 0
      },
      "text/plain": [
       "  0%|          | 0/4 [00:00<?, ?it/s]"
      ]
     },
     "metadata": {},
     "output_type": "display_data"
    },
    {
     "data": {
      "application/vnd.jupyter.widget-view+json": {
       "model_id": "63fe361e401f44d38404e86cfc9cf5e9",
       "version_major": 2,
       "version_minor": 0
      },
      "text/plain": [
       "  0%|          | 0/4 [00:00<?, ?it/s]"
      ]
     },
     "metadata": {},
     "output_type": "display_data"
    },
    {
     "data": {
      "application/vnd.jupyter.widget-view+json": {
       "model_id": "7bbddb6f774040aeab8711552b07ab08",
       "version_major": 2,
       "version_minor": 0
      },
      "text/plain": [
       "  0%|          | 0/4 [00:00<?, ?it/s]"
      ]
     },
     "metadata": {},
     "output_type": "display_data"
    },
    {
     "data": {
      "application/vnd.jupyter.widget-view+json": {
       "model_id": "cb840eae942649f894971e0d820e26ee",
       "version_major": 2,
       "version_minor": 0
      },
      "text/plain": [
       "  0%|          | 0/4 [00:00<?, ?it/s]"
      ]
     },
     "metadata": {},
     "output_type": "display_data"
    },
    {
     "data": {
      "application/vnd.jupyter.widget-view+json": {
       "model_id": "d3f197f577e04e43a732ce9099f9e76d",
       "version_major": 2,
       "version_minor": 0
      },
      "text/plain": [
       "  0%|          | 0/4 [00:00<?, ?it/s]"
      ]
     },
     "metadata": {},
     "output_type": "display_data"
    },
    {
     "data": {
      "application/vnd.jupyter.widget-view+json": {
       "model_id": "6cb9cc5341d74d3ba9a3ffc3db4bc978",
       "version_major": 2,
       "version_minor": 0
      },
      "text/plain": [
       "  0%|          | 0/4 [00:00<?, ?it/s]"
      ]
     },
     "metadata": {},
     "output_type": "display_data"
    },
    {
     "data": {
      "application/vnd.jupyter.widget-view+json": {
       "model_id": "a06f745dee7d427faed29336a0b92121",
       "version_major": 2,
       "version_minor": 0
      },
      "text/plain": [
       "  0%|          | 0/4 [00:00<?, ?it/s]"
      ]
     },
     "metadata": {},
     "output_type": "display_data"
    },
    {
     "data": {
      "application/vnd.jupyter.widget-view+json": {
       "model_id": "2f64d14fdec2466482490a1a5a533ee3",
       "version_major": 2,
       "version_minor": 0
      },
      "text/plain": [
       "  0%|          | 0/4 [00:00<?, ?it/s]"
      ]
     },
     "metadata": {},
     "output_type": "display_data"
    },
    {
     "data": {
      "application/vnd.jupyter.widget-view+json": {
       "model_id": "6a1bc43e2b68483394180b4838d5af26",
       "version_major": 2,
       "version_minor": 0
      },
      "text/plain": [
       "  0%|          | 0/4 [00:00<?, ?it/s]"
      ]
     },
     "metadata": {},
     "output_type": "display_data"
    },
    {
     "data": {
      "application/vnd.jupyter.widget-view+json": {
       "model_id": "e5dabeffdde24810b0324fa0f4ac846c",
       "version_major": 2,
       "version_minor": 0
      },
      "text/plain": [
       "  0%|          | 0/4 [00:00<?, ?it/s]"
      ]
     },
     "metadata": {},
     "output_type": "display_data"
    },
    {
     "data": {
      "application/vnd.jupyter.widget-view+json": {
       "model_id": "a957e3fbd56e4e7b970a986e29ff5620",
       "version_major": 2,
       "version_minor": 0
      },
      "text/plain": [
       "  0%|          | 0/4 [00:00<?, ?it/s]"
      ]
     },
     "metadata": {},
     "output_type": "display_data"
    },
    {
     "data": {
      "application/vnd.jupyter.widget-view+json": {
       "model_id": "4991754933564aa3b8fce9b6495174f4",
       "version_major": 2,
       "version_minor": 0
      },
      "text/plain": [
       "  0%|          | 0/4 [00:00<?, ?it/s]"
      ]
     },
     "metadata": {},
     "output_type": "display_data"
    },
    {
     "data": {
      "application/vnd.jupyter.widget-view+json": {
       "model_id": "f71a2cdf08754282a5a6189f9e1a3ac4",
       "version_major": 2,
       "version_minor": 0
      },
      "text/plain": [
       "  0%|          | 0/4 [00:00<?, ?it/s]"
      ]
     },
     "metadata": {},
     "output_type": "display_data"
    },
    {
     "data": {
      "application/vnd.jupyter.widget-view+json": {
       "model_id": "1f7ee3b4f9c44da19102ef82f4e59b3e",
       "version_major": 2,
       "version_minor": 0
      },
      "text/plain": [
       "  0%|          | 0/4 [00:00<?, ?it/s]"
      ]
     },
     "metadata": {},
     "output_type": "display_data"
    },
    {
     "data": {
      "application/vnd.jupyter.widget-view+json": {
       "model_id": "0b9a85bb6cb7418c8da6cc2979bba265",
       "version_major": 2,
       "version_minor": 0
      },
      "text/plain": [
       "  0%|          | 0/4 [00:00<?, ?it/s]"
      ]
     },
     "metadata": {},
     "output_type": "display_data"
    },
    {
     "data": {
      "application/vnd.jupyter.widget-view+json": {
       "model_id": "7508bb9b47104d8a8c389602586ea91b",
       "version_major": 2,
       "version_minor": 0
      },
      "text/plain": [
       "  0%|          | 0/4 [00:00<?, ?it/s]"
      ]
     },
     "metadata": {},
     "output_type": "display_data"
    },
    {
     "data": {
      "application/vnd.jupyter.widget-view+json": {
       "model_id": "abed0696b9554003bab1e8a323b828e0",
       "version_major": 2,
       "version_minor": 0
      },
      "text/plain": [
       "  0%|          | 0/4 [00:00<?, ?it/s]"
      ]
     },
     "metadata": {},
     "output_type": "display_data"
    },
    {
     "data": {
      "application/vnd.jupyter.widget-view+json": {
       "model_id": "f386b3f535b04f39bd2581e74aeeee4a",
       "version_major": 2,
       "version_minor": 0
      },
      "text/plain": [
       "  0%|          | 0/4 [00:00<?, ?it/s]"
      ]
     },
     "metadata": {},
     "output_type": "display_data"
    },
    {
     "data": {
      "application/vnd.jupyter.widget-view+json": {
       "model_id": "701784ac1fc74dc8aba7f2abb907921b",
       "version_major": 2,
       "version_minor": 0
      },
      "text/plain": [
       "  0%|          | 0/4 [00:00<?, ?it/s]"
      ]
     },
     "metadata": {},
     "output_type": "display_data"
    },
    {
     "data": {
      "application/vnd.jupyter.widget-view+json": {
       "model_id": "324a419f95b94bc5a79b721f404da009",
       "version_major": 2,
       "version_minor": 0
      },
      "text/plain": [
       "  0%|          | 0/4 [00:00<?, ?it/s]"
      ]
     },
     "metadata": {},
     "output_type": "display_data"
    },
    {
     "data": {
      "application/vnd.jupyter.widget-view+json": {
       "model_id": "a7ce87e5d8f645d98ecd3ca6cee61c1e",
       "version_major": 2,
       "version_minor": 0
      },
      "text/plain": [
       "  0%|          | 0/4 [00:00<?, ?it/s]"
      ]
     },
     "metadata": {},
     "output_type": "display_data"
    },
    {
     "data": {
      "application/vnd.jupyter.widget-view+json": {
       "model_id": "8dcac5744cef42548bfc2f923ec0735f",
       "version_major": 2,
       "version_minor": 0
      },
      "text/plain": [
       "  0%|          | 0/4 [00:00<?, ?it/s]"
      ]
     },
     "metadata": {},
     "output_type": "display_data"
    },
    {
     "data": {
      "application/vnd.jupyter.widget-view+json": {
       "model_id": "7669766792804adea10cb5f51548ce5a",
       "version_major": 2,
       "version_minor": 0
      },
      "text/plain": [
       "  0%|          | 0/4 [00:00<?, ?it/s]"
      ]
     },
     "metadata": {},
     "output_type": "display_data"
    },
    {
     "data": {
      "application/vnd.jupyter.widget-view+json": {
       "model_id": "95b06c1713414b5f9f111789aef3f156",
       "version_major": 2,
       "version_minor": 0
      },
      "text/plain": [
       "  0%|          | 0/4 [00:00<?, ?it/s]"
      ]
     },
     "metadata": {},
     "output_type": "display_data"
    },
    {
     "data": {
      "application/vnd.jupyter.widget-view+json": {
       "model_id": "3a65f0f76bac4dbba14a6098bf200a8d",
       "version_major": 2,
       "version_minor": 0
      },
      "text/plain": [
       "  0%|          | 0/4 [00:00<?, ?it/s]"
      ]
     },
     "metadata": {},
     "output_type": "display_data"
    },
    {
     "data": {
      "application/vnd.jupyter.widget-view+json": {
       "model_id": "8af56514a1bf4ad88212e0b7bf007b37",
       "version_major": 2,
       "version_minor": 0
      },
      "text/plain": [
       "  0%|          | 0/4 [00:00<?, ?it/s]"
      ]
     },
     "metadata": {},
     "output_type": "display_data"
    },
    {
     "data": {
      "application/vnd.jupyter.widget-view+json": {
       "model_id": "47e322581eab4ebc8a7b5a6cd21dd9a3",
       "version_major": 2,
       "version_minor": 0
      },
      "text/plain": [
       "  0%|          | 0/4 [00:00<?, ?it/s]"
      ]
     },
     "metadata": {},
     "output_type": "display_data"
    },
    {
     "data": {
      "application/vnd.jupyter.widget-view+json": {
       "model_id": "6eb6109eae764e0c96418f8a70c4ce6b",
       "version_major": 2,
       "version_minor": 0
      },
      "text/plain": [
       "  0%|          | 0/4 [00:00<?, ?it/s]"
      ]
     },
     "metadata": {},
     "output_type": "display_data"
    },
    {
     "data": {
      "application/vnd.jupyter.widget-view+json": {
       "model_id": "c5c900d4b7bf412883f812b67f1b78dc",
       "version_major": 2,
       "version_minor": 0
      },
      "text/plain": [
       "  0%|          | 0/4 [00:00<?, ?it/s]"
      ]
     },
     "metadata": {},
     "output_type": "display_data"
    },
    {
     "data": {
      "application/vnd.jupyter.widget-view+json": {
       "model_id": "eb5dac7feae34f94a6c7f682fec0dfa2",
       "version_major": 2,
       "version_minor": 0
      },
      "text/plain": [
       "  0%|          | 0/4 [00:00<?, ?it/s]"
      ]
     },
     "metadata": {},
     "output_type": "display_data"
    },
    {
     "data": {
      "application/vnd.jupyter.widget-view+json": {
       "model_id": "0238806b02c74c52b4f9e90f99267481",
       "version_major": 2,
       "version_minor": 0
      },
      "text/plain": [
       "  0%|          | 0/4 [00:00<?, ?it/s]"
      ]
     },
     "metadata": {},
     "output_type": "display_data"
    },
    {
     "data": {
      "application/vnd.jupyter.widget-view+json": {
       "model_id": "097370aabb1147eea6efa9a9d7c18b39",
       "version_major": 2,
       "version_minor": 0
      },
      "text/plain": [
       "  0%|          | 0/4 [00:00<?, ?it/s]"
      ]
     },
     "metadata": {},
     "output_type": "display_data"
    },
    {
     "data": {
      "application/vnd.jupyter.widget-view+json": {
       "model_id": "2da53defd6ba4161be202364ce3c4251",
       "version_major": 2,
       "version_minor": 0
      },
      "text/plain": [
       "  0%|          | 0/4 [00:00<?, ?it/s]"
      ]
     },
     "metadata": {},
     "output_type": "display_data"
    },
    {
     "data": {
      "application/vnd.jupyter.widget-view+json": {
       "model_id": "2b86750250ce4071bfbea431c4897bc5",
       "version_major": 2,
       "version_minor": 0
      },
      "text/plain": [
       "  0%|          | 0/4 [00:00<?, ?it/s]"
      ]
     },
     "metadata": {},
     "output_type": "display_data"
    },
    {
     "data": {
      "application/vnd.jupyter.widget-view+json": {
       "model_id": "3c9d704445334fe9a82bc5b1c625e8fc",
       "version_major": 2,
       "version_minor": 0
      },
      "text/plain": [
       "  0%|          | 0/4 [00:00<?, ?it/s]"
      ]
     },
     "metadata": {},
     "output_type": "display_data"
    },
    {
     "data": {
      "application/vnd.jupyter.widget-view+json": {
       "model_id": "6ae6802313fa45dd9db845ec4f14493d",
       "version_major": 2,
       "version_minor": 0
      },
      "text/plain": [
       "  0%|          | 0/4 [00:00<?, ?it/s]"
      ]
     },
     "metadata": {},
     "output_type": "display_data"
    },
    {
     "data": {
      "application/vnd.jupyter.widget-view+json": {
       "model_id": "a34a75ca24084a8e9bd7eb8514299be4",
       "version_major": 2,
       "version_minor": 0
      },
      "text/plain": [
       "  0%|          | 0/4 [00:00<?, ?it/s]"
      ]
     },
     "metadata": {},
     "output_type": "display_data"
    },
    {
     "data": {
      "application/vnd.jupyter.widget-view+json": {
       "model_id": "47f2efb98e294dfd861c94416c0ee901",
       "version_major": 2,
       "version_minor": 0
      },
      "text/plain": [
       "  0%|          | 0/4 [00:00<?, ?it/s]"
      ]
     },
     "metadata": {},
     "output_type": "display_data"
    },
    {
     "data": {
      "application/vnd.jupyter.widget-view+json": {
       "model_id": "da621ccdd76d44fea03aa788f3e992a1",
       "version_major": 2,
       "version_minor": 0
      },
      "text/plain": [
       "  0%|          | 0/4 [00:00<?, ?it/s]"
      ]
     },
     "metadata": {},
     "output_type": "display_data"
    },
    {
     "data": {
      "application/vnd.jupyter.widget-view+json": {
       "model_id": "aa78dc18d4c24356a395f860035afc1e",
       "version_major": 2,
       "version_minor": 0
      },
      "text/plain": [
       "  0%|          | 0/4 [00:00<?, ?it/s]"
      ]
     },
     "metadata": {},
     "output_type": "display_data"
    },
    {
     "data": {
      "application/vnd.jupyter.widget-view+json": {
       "model_id": "9ce58c1a92aa490c96da68694cbc89ac",
       "version_major": 2,
       "version_minor": 0
      },
      "text/plain": [
       "  0%|          | 0/4 [00:00<?, ?it/s]"
      ]
     },
     "metadata": {},
     "output_type": "display_data"
    },
    {
     "data": {
      "application/vnd.jupyter.widget-view+json": {
       "model_id": "d43a2eac5535457d843cfc4e1cd22abd",
       "version_major": 2,
       "version_minor": 0
      },
      "text/plain": [
       "  0%|          | 0/4 [00:00<?, ?it/s]"
      ]
     },
     "metadata": {},
     "output_type": "display_data"
    }
   ],
   "source": [
    "injection_results = perform_injections(all_agents, all_params, [7,8,9,10,11,12]) # perform for 7,8,9,10,11,12 m/s wind in each component - with diagonal wind this is very high compared to 7-12 m/s magnitude total"
   ]
  },
  {
   "cell_type": "code",
   "execution_count": 12,
   "id": "2670c74a-9921-469b-9912-37aff16583e5",
   "metadata": {},
   "outputs": [],
   "source": [
    "injection_results = np.array(injection_results)\n",
    "# np.save('injection_results_southeast.npy', injection_results)"
   ]
  },
  {
   "cell_type": "code",
   "execution_count": 2,
   "id": "35986cc7-d75b-4bbf-8a65-576d5f35d12e",
   "metadata": {},
   "outputs": [],
   "source": [
    "injection_results = np.load('./data/injection_results_southeast.npy') # see the injection_results files in ./data/"
   ]
  },
  {
   "cell_type": "code",
   "execution_count": 3,
   "id": "241b1877-e4b4-49f6-84a7-5cebeeb75a3c",
   "metadata": {},
   "outputs": [],
   "source": [
    "injection_results = injection_results.reshape(-1, 4)"
   ]
  },
  {
   "cell_type": "code",
   "execution_count": 4,
   "id": "0fb1340d-3b92-414f-be10-100a9fc85a4a",
   "metadata": {
    "scrolled": true
   },
   "outputs": [
    {
     "data": {
      "text/html": [
       "<div>\n",
       "<style scoped>\n",
       "    .dataframe tbody tr th:only-of-type {\n",
       "        vertical-align: middle;\n",
       "    }\n",
       "\n",
       "    .dataframe tbody tr th {\n",
       "        vertical-align: top;\n",
       "    }\n",
       "\n",
       "    .dataframe thead th {\n",
       "        text-align: right;\n",
       "    }\n",
       "</style>\n",
       "<table border=\"1\" class=\"dataframe\">\n",
       "  <thead>\n",
       "    <tr style=\"text-align: right;\">\n",
       "      <th></th>\n",
       "      <th>PID</th>\n",
       "      <th>RL Cardinal Low</th>\n",
       "      <th>RL Cardinal High</th>\n",
       "      <th>RL North</th>\n",
       "      <th>Duration</th>\n",
       "    </tr>\n",
       "  </thead>\n",
       "  <tbody>\n",
       "    <tr>\n",
       "      <th>0</th>\n",
       "      <td>0.00</td>\n",
       "      <td>0.00</td>\n",
       "      <td>0.00</td>\n",
       "      <td>0.00</td>\n",
       "      <td>1</td>\n",
       "    </tr>\n",
       "    <tr>\n",
       "      <th>1</th>\n",
       "      <td>0.00</td>\n",
       "      <td>0.00</td>\n",
       "      <td>0.17</td>\n",
       "      <td>0.00</td>\n",
       "      <td>1</td>\n",
       "    </tr>\n",
       "    <tr>\n",
       "      <th>2</th>\n",
       "      <td>0.00</td>\n",
       "      <td>0.00</td>\n",
       "      <td>0.14</td>\n",
       "      <td>0.00</td>\n",
       "      <td>1</td>\n",
       "    </tr>\n",
       "    <tr>\n",
       "      <th>3</th>\n",
       "      <td>0.00</td>\n",
       "      <td>0.00</td>\n",
       "      <td>0.18</td>\n",
       "      <td>0.00</td>\n",
       "      <td>1</td>\n",
       "    </tr>\n",
       "    <tr>\n",
       "      <th>4</th>\n",
       "      <td>0.00</td>\n",
       "      <td>0.00</td>\n",
       "      <td>0.34</td>\n",
       "      <td>0.00</td>\n",
       "      <td>1</td>\n",
       "    </tr>\n",
       "    <tr>\n",
       "      <th>5</th>\n",
       "      <td>0.00</td>\n",
       "      <td>0.00</td>\n",
       "      <td>0.36</td>\n",
       "      <td>0.00</td>\n",
       "      <td>1</td>\n",
       "    </tr>\n",
       "    <tr>\n",
       "      <th>6</th>\n",
       "      <td>0.00</td>\n",
       "      <td>0.00</td>\n",
       "      <td>0.26</td>\n",
       "      <td>0.00</td>\n",
       "      <td>2</td>\n",
       "    </tr>\n",
       "    <tr>\n",
       "      <th>7</th>\n",
       "      <td>0.00</td>\n",
       "      <td>0.00</td>\n",
       "      <td>0.67</td>\n",
       "      <td>0.00</td>\n",
       "      <td>2</td>\n",
       "    </tr>\n",
       "    <tr>\n",
       "      <th>8</th>\n",
       "      <td>0.00</td>\n",
       "      <td>0.00</td>\n",
       "      <td>0.68</td>\n",
       "      <td>0.00</td>\n",
       "      <td>2</td>\n",
       "    </tr>\n",
       "    <tr>\n",
       "      <th>9</th>\n",
       "      <td>0.62</td>\n",
       "      <td>0.00</td>\n",
       "      <td>0.83</td>\n",
       "      <td>0.00</td>\n",
       "      <td>2</td>\n",
       "    </tr>\n",
       "    <tr>\n",
       "      <th>10</th>\n",
       "      <td>2.61</td>\n",
       "      <td>0.19</td>\n",
       "      <td>0.87</td>\n",
       "      <td>0.09</td>\n",
       "      <td>2</td>\n",
       "    </tr>\n",
       "    <tr>\n",
       "      <th>11</th>\n",
       "      <td>3.98</td>\n",
       "      <td>0.31</td>\n",
       "      <td>0.95</td>\n",
       "      <td>0.14</td>\n",
       "      <td>2</td>\n",
       "    </tr>\n",
       "    <tr>\n",
       "      <th>12</th>\n",
       "      <td>0.00</td>\n",
       "      <td>0.00</td>\n",
       "      <td>0.67</td>\n",
       "      <td>0.00</td>\n",
       "      <td>3</td>\n",
       "    </tr>\n",
       "    <tr>\n",
       "      <th>13</th>\n",
       "      <td>0.00</td>\n",
       "      <td>0.00</td>\n",
       "      <td>0.72</td>\n",
       "      <td>0.00</td>\n",
       "      <td>3</td>\n",
       "    </tr>\n",
       "    <tr>\n",
       "      <th>14</th>\n",
       "      <td>1.96</td>\n",
       "      <td>0.10</td>\n",
       "      <td>0.87</td>\n",
       "      <td>0.08</td>\n",
       "      <td>3</td>\n",
       "    </tr>\n",
       "    <tr>\n",
       "      <th>15</th>\n",
       "      <td>3.34</td>\n",
       "      <td>0.25</td>\n",
       "      <td>0.94</td>\n",
       "      <td>0.14</td>\n",
       "      <td>3</td>\n",
       "    </tr>\n",
       "    <tr>\n",
       "      <th>16</th>\n",
       "      <td>4.78</td>\n",
       "      <td>0.39</td>\n",
       "      <td>1.05</td>\n",
       "      <td>0.20</td>\n",
       "      <td>3</td>\n",
       "    </tr>\n",
       "    <tr>\n",
       "      <th>17</th>\n",
       "      <td>6.24</td>\n",
       "      <td>0.53</td>\n",
       "      <td>0.76</td>\n",
       "      <td>0.27</td>\n",
       "      <td>3</td>\n",
       "    </tr>\n",
       "    <tr>\n",
       "      <th>18</th>\n",
       "      <td>0.00</td>\n",
       "      <td>0.00</td>\n",
       "      <td>0.68</td>\n",
       "      <td>0.00</td>\n",
       "      <td>4</td>\n",
       "    </tr>\n",
       "    <tr>\n",
       "      <th>19</th>\n",
       "      <td>1.66</td>\n",
       "      <td>0.00</td>\n",
       "      <td>0.80</td>\n",
       "      <td>0.04</td>\n",
       "      <td>4</td>\n",
       "    </tr>\n",
       "    <tr>\n",
       "      <th>20</th>\n",
       "      <td>3.27</td>\n",
       "      <td>0.22</td>\n",
       "      <td>0.91</td>\n",
       "      <td>0.14</td>\n",
       "      <td>4</td>\n",
       "    </tr>\n",
       "    <tr>\n",
       "      <th>21</th>\n",
       "      <td>4.68</td>\n",
       "      <td>0.39</td>\n",
       "      <td>1.06</td>\n",
       "      <td>0.22</td>\n",
       "      <td>4</td>\n",
       "    </tr>\n",
       "    <tr>\n",
       "      <th>22</th>\n",
       "      <td>6.36</td>\n",
       "      <td>0.55</td>\n",
       "      <td>0.75</td>\n",
       "      <td>0.30</td>\n",
       "      <td>4</td>\n",
       "    </tr>\n",
       "    <tr>\n",
       "      <th>23</th>\n",
       "      <td>8.15</td>\n",
       "      <td>0.73</td>\n",
       "      <td>1.06</td>\n",
       "      <td>0.38</td>\n",
       "      <td>4</td>\n",
       "    </tr>\n",
       "    <tr>\n",
       "      <th>24</th>\n",
       "      <td>0.00</td>\n",
       "      <td>0.00</td>\n",
       "      <td>0.70</td>\n",
       "      <td>0.00</td>\n",
       "      <td>5</td>\n",
       "    </tr>\n",
       "    <tr>\n",
       "      <th>25</th>\n",
       "      <td>2.71</td>\n",
       "      <td>0.13</td>\n",
       "      <td>0.85</td>\n",
       "      <td>0.08</td>\n",
       "      <td>5</td>\n",
       "    </tr>\n",
       "    <tr>\n",
       "      <th>26</th>\n",
       "      <td>4.18</td>\n",
       "      <td>0.31</td>\n",
       "      <td>1.02</td>\n",
       "      <td>0.19</td>\n",
       "      <td>5</td>\n",
       "    </tr>\n",
       "    <tr>\n",
       "      <th>27</th>\n",
       "      <td>5.77</td>\n",
       "      <td>0.50</td>\n",
       "      <td>1.13</td>\n",
       "      <td>0.29</td>\n",
       "      <td>5</td>\n",
       "    </tr>\n",
       "    <tr>\n",
       "      <th>28</th>\n",
       "      <td>7.83</td>\n",
       "      <td>0.71</td>\n",
       "      <td>0.89</td>\n",
       "      <td>0.38</td>\n",
       "      <td>5</td>\n",
       "    </tr>\n",
       "    <tr>\n",
       "      <th>29</th>\n",
       "      <td>10.09</td>\n",
       "      <td>0.92</td>\n",
       "      <td>1.86</td>\n",
       "      <td>0.49</td>\n",
       "      <td>5</td>\n",
       "    </tr>\n",
       "    <tr>\n",
       "      <th>30</th>\n",
       "      <td>0.00</td>\n",
       "      <td>0.00</td>\n",
       "      <td>0.25</td>\n",
       "      <td>0.00</td>\n",
       "      <td>6</td>\n",
       "    </tr>\n",
       "    <tr>\n",
       "      <th>31</th>\n",
       "      <td>3.50</td>\n",
       "      <td>0.22</td>\n",
       "      <td>0.43</td>\n",
       "      <td>0.11</td>\n",
       "      <td>6</td>\n",
       "    </tr>\n",
       "    <tr>\n",
       "      <th>32</th>\n",
       "      <td>4.92</td>\n",
       "      <td>0.40</td>\n",
       "      <td>1.06</td>\n",
       "      <td>0.24</td>\n",
       "      <td>6</td>\n",
       "    </tr>\n",
       "    <tr>\n",
       "      <th>33</th>\n",
       "      <td>6.85</td>\n",
       "      <td>0.61</td>\n",
       "      <td>0.93</td>\n",
       "      <td>0.35</td>\n",
       "      <td>6</td>\n",
       "    </tr>\n",
       "    <tr>\n",
       "      <th>34</th>\n",
       "      <td>9.37</td>\n",
       "      <td>0.85</td>\n",
       "      <td>1.39</td>\n",
       "      <td>0.46</td>\n",
       "      <td>6</td>\n",
       "    </tr>\n",
       "    <tr>\n",
       "      <th>35</th>\n",
       "      <td>12.09</td>\n",
       "      <td>1.10</td>\n",
       "      <td>1.99</td>\n",
       "      <td>0.62</td>\n",
       "      <td>6</td>\n",
       "    </tr>\n",
       "    <tr>\n",
       "      <th>36</th>\n",
       "      <td>0.00</td>\n",
       "      <td>0.00</td>\n",
       "      <td>0.34</td>\n",
       "      <td>0.00</td>\n",
       "      <td>7</td>\n",
       "    </tr>\n",
       "    <tr>\n",
       "      <th>37</th>\n",
       "      <td>4.22</td>\n",
       "      <td>0.30</td>\n",
       "      <td>0.55</td>\n",
       "      <td>0.11</td>\n",
       "      <td>7</td>\n",
       "    </tr>\n",
       "    <tr>\n",
       "      <th>38</th>\n",
       "      <td>5.66</td>\n",
       "      <td>0.49</td>\n",
       "      <td>1.14</td>\n",
       "      <td>0.27</td>\n",
       "      <td>7</td>\n",
       "    </tr>\n",
       "    <tr>\n",
       "      <th>39</th>\n",
       "      <td>7.97</td>\n",
       "      <td>0.71</td>\n",
       "      <td>1.01</td>\n",
       "      <td>0.41</td>\n",
       "      <td>7</td>\n",
       "    </tr>\n",
       "    <tr>\n",
       "      <th>40</th>\n",
       "      <td>10.96</td>\n",
       "      <td>0.99</td>\n",
       "      <td>2.02</td>\n",
       "      <td>0.54</td>\n",
       "      <td>7</td>\n",
       "    </tr>\n",
       "    <tr>\n",
       "      <th>41</th>\n",
       "      <td>16.19</td>\n",
       "      <td>1.28</td>\n",
       "      <td>2.32</td>\n",
       "      <td>0.82</td>\n",
       "      <td>7</td>\n",
       "    </tr>\n",
       "    <tr>\n",
       "      <th>42</th>\n",
       "      <td>0.00</td>\n",
       "      <td>0.00</td>\n",
       "      <td>0.34</td>\n",
       "      <td>0.00</td>\n",
       "      <td>8</td>\n",
       "    </tr>\n",
       "    <tr>\n",
       "      <th>43</th>\n",
       "      <td>4.92</td>\n",
       "      <td>0.39</td>\n",
       "      <td>0.54</td>\n",
       "      <td>0.11</td>\n",
       "      <td>8</td>\n",
       "    </tr>\n",
       "    <tr>\n",
       "      <th>44</th>\n",
       "      <td>6.42</td>\n",
       "      <td>0.57</td>\n",
       "      <td>1.17</td>\n",
       "      <td>0.30</td>\n",
       "      <td>8</td>\n",
       "    </tr>\n",
       "    <tr>\n",
       "      <th>45</th>\n",
       "      <td>9.04</td>\n",
       "      <td>0.81</td>\n",
       "      <td>1.17</td>\n",
       "      <td>0.46</td>\n",
       "      <td>8</td>\n",
       "    </tr>\n",
       "    <tr>\n",
       "      <th>46</th>\n",
       "      <td>12.49</td>\n",
       "      <td>1.13</td>\n",
       "      <td>2.25</td>\n",
       "      <td>0.61</td>\n",
       "      <td>8</td>\n",
       "    </tr>\n",
       "    <tr>\n",
       "      <th>47</th>\n",
       "      <td>21.03</td>\n",
       "      <td>1.74</td>\n",
       "      <td>2.63</td>\n",
       "      <td>1.00</td>\n",
       "      <td>8</td>\n",
       "    </tr>\n",
       "    <tr>\n",
       "      <th>48</th>\n",
       "      <td>0.00</td>\n",
       "      <td>0.00</td>\n",
       "      <td>0.77</td>\n",
       "      <td>0.00</td>\n",
       "      <td>9</td>\n",
       "    </tr>\n",
       "    <tr>\n",
       "      <th>49</th>\n",
       "      <td>5.59</td>\n",
       "      <td>0.47</td>\n",
       "      <td>1.04</td>\n",
       "      <td>0.11</td>\n",
       "      <td>9</td>\n",
       "    </tr>\n",
       "    <tr>\n",
       "      <th>50</th>\n",
       "      <td>7.22</td>\n",
       "      <td>0.66</td>\n",
       "      <td>0.85</td>\n",
       "      <td>0.33</td>\n",
       "      <td>9</td>\n",
       "    </tr>\n",
       "    <tr>\n",
       "      <th>51</th>\n",
       "      <td>10.06</td>\n",
       "      <td>0.90</td>\n",
       "      <td>1.21</td>\n",
       "      <td>0.51</td>\n",
       "      <td>9</td>\n",
       "    </tr>\n",
       "    <tr>\n",
       "      <th>52</th>\n",
       "      <td>13.99</td>\n",
       "      <td>1.27</td>\n",
       "      <td>2.28</td>\n",
       "      <td>0.69</td>\n",
       "      <td>9</td>\n",
       "    </tr>\n",
       "    <tr>\n",
       "      <th>53</th>\n",
       "      <td>24.23</td>\n",
       "      <td>2.11</td>\n",
       "      <td>2.77</td>\n",
       "      <td>1.07</td>\n",
       "      <td>9</td>\n",
       "    </tr>\n",
       "    <tr>\n",
       "      <th>54</th>\n",
       "      <td>0.00</td>\n",
       "      <td>0.00</td>\n",
       "      <td>0.91</td>\n",
       "      <td>0.00</td>\n",
       "      <td>10</td>\n",
       "    </tr>\n",
       "    <tr>\n",
       "      <th>55</th>\n",
       "      <td>6.01</td>\n",
       "      <td>0.56</td>\n",
       "      <td>1.11</td>\n",
       "      <td>0.11</td>\n",
       "      <td>10</td>\n",
       "    </tr>\n",
       "    <tr>\n",
       "      <th>56</th>\n",
       "      <td>8.09</td>\n",
       "      <td>0.75</td>\n",
       "      <td>1.00</td>\n",
       "      <td>0.36</td>\n",
       "      <td>10</td>\n",
       "    </tr>\n",
       "    <tr>\n",
       "      <th>57</th>\n",
       "      <td>11.03</td>\n",
       "      <td>0.98</td>\n",
       "      <td>1.33</td>\n",
       "      <td>0.57</td>\n",
       "      <td>10</td>\n",
       "    </tr>\n",
       "    <tr>\n",
       "      <th>58</th>\n",
       "      <td>15.46</td>\n",
       "      <td>1.40</td>\n",
       "      <td>2.42</td>\n",
       "      <td>0.87</td>\n",
       "      <td>10</td>\n",
       "    </tr>\n",
       "    <tr>\n",
       "      <th>59</th>\n",
       "      <td>26.44</td>\n",
       "      <td>2.35</td>\n",
       "      <td>2.45</td>\n",
       "      <td>1.16</td>\n",
       "      <td>10</td>\n",
       "    </tr>\n",
       "  </tbody>\n",
       "</table>\n",
       "</div>"
      ],
      "text/plain": [
       "      PID  RL Cardinal Low  RL Cardinal High  RL North  Duration\n",
       "0    0.00             0.00              0.00      0.00         1\n",
       "1    0.00             0.00              0.17      0.00         1\n",
       "2    0.00             0.00              0.14      0.00         1\n",
       "3    0.00             0.00              0.18      0.00         1\n",
       "4    0.00             0.00              0.34      0.00         1\n",
       "5    0.00             0.00              0.36      0.00         1\n",
       "6    0.00             0.00              0.26      0.00         2\n",
       "7    0.00             0.00              0.67      0.00         2\n",
       "8    0.00             0.00              0.68      0.00         2\n",
       "9    0.62             0.00              0.83      0.00         2\n",
       "10   2.61             0.19              0.87      0.09         2\n",
       "11   3.98             0.31              0.95      0.14         2\n",
       "12   0.00             0.00              0.67      0.00         3\n",
       "13   0.00             0.00              0.72      0.00         3\n",
       "14   1.96             0.10              0.87      0.08         3\n",
       "15   3.34             0.25              0.94      0.14         3\n",
       "16   4.78             0.39              1.05      0.20         3\n",
       "17   6.24             0.53              0.76      0.27         3\n",
       "18   0.00             0.00              0.68      0.00         4\n",
       "19   1.66             0.00              0.80      0.04         4\n",
       "20   3.27             0.22              0.91      0.14         4\n",
       "21   4.68             0.39              1.06      0.22         4\n",
       "22   6.36             0.55              0.75      0.30         4\n",
       "23   8.15             0.73              1.06      0.38         4\n",
       "24   0.00             0.00              0.70      0.00         5\n",
       "25   2.71             0.13              0.85      0.08         5\n",
       "26   4.18             0.31              1.02      0.19         5\n",
       "27   5.77             0.50              1.13      0.29         5\n",
       "28   7.83             0.71              0.89      0.38         5\n",
       "29  10.09             0.92              1.86      0.49         5\n",
       "30   0.00             0.00              0.25      0.00         6\n",
       "31   3.50             0.22              0.43      0.11         6\n",
       "32   4.92             0.40              1.06      0.24         6\n",
       "33   6.85             0.61              0.93      0.35         6\n",
       "34   9.37             0.85              1.39      0.46         6\n",
       "35  12.09             1.10              1.99      0.62         6\n",
       "36   0.00             0.00              0.34      0.00         7\n",
       "37   4.22             0.30              0.55      0.11         7\n",
       "38   5.66             0.49              1.14      0.27         7\n",
       "39   7.97             0.71              1.01      0.41         7\n",
       "40  10.96             0.99              2.02      0.54         7\n",
       "41  16.19             1.28              2.32      0.82         7\n",
       "42   0.00             0.00              0.34      0.00         8\n",
       "43   4.92             0.39              0.54      0.11         8\n",
       "44   6.42             0.57              1.17      0.30         8\n",
       "45   9.04             0.81              1.17      0.46         8\n",
       "46  12.49             1.13              2.25      0.61         8\n",
       "47  21.03             1.74              2.63      1.00         8\n",
       "48   0.00             0.00              0.77      0.00         9\n",
       "49   5.59             0.47              1.04      0.11         9\n",
       "50   7.22             0.66              0.85      0.33         9\n",
       "51  10.06             0.90              1.21      0.51         9\n",
       "52  13.99             1.27              2.28      0.69         9\n",
       "53  24.23             2.11              2.77      1.07         9\n",
       "54   0.00             0.00              0.91      0.00        10\n",
       "55   6.01             0.56              1.11      0.11        10\n",
       "56   8.09             0.75              1.00      0.36        10\n",
       "57  11.03             0.98              1.33      0.57        10\n",
       "58  15.46             1.40              2.42      0.87        10\n",
       "59  26.44             2.35              2.45      1.16        10"
      ]
     },
     "execution_count": 4,
     "metadata": {},
     "output_type": "execute_result"
    }
   ],
   "source": [
    "injection_df = pd.DataFrame(columns=['PID', 'RL Cardinal Low', 'RL Cardinal High', 'RL North'], data=injection_results)\n",
    "injection_df['Duration'] = np.concatenate([np.repeat(x, 6) for x in range(1,11)])\n",
    "injection_df"
   ]
  },
  {
   "cell_type": "code",
   "execution_count": 5,
   "id": "3d45cf94-364a-4f14-b112-d3e0eb5a471a",
   "metadata": {},
   "outputs": [
    {
     "data": {
      "image/png": "[encoded data removed]",
      "text/plain": [
       "<Figure size 1000x600 with 1 Axes>"
      ]
     },
     "metadata": {},
     "output_type": "display_data"
    }
   ],
   "source": [
    "import seaborn as sns\n",
    "df_melted = injection_df.melt(id_vars=['Duration'], value_vars=['RL Cardinal Low','RL Cardinal High','RL North', 'PID'])\n",
    "\n",
    "# Create a boxplot\n",
    "plt.figure(figsize=(10, 6))\n",
    "sns.boxplot(data=df_melted, x='Duration', y='value', hue='variable', showfliers=False)\n",
    "plt.title(\"Time Outside Safety Corridor for 7-12 m/s South East Wind (Flying North)\")\n",
    "plt.xlabel(\"Duration of Sudden Wind Burst (seconds)\")\n",
    "plt.ylabel(\"Time Outside the Safety Corridor (seconds)\")\n",
    "plt.legend(title='Controller')\n",
    "plt.show()"
   ]
  }
 ],
 "metadata": {
  "kernelspec": {
   "display_name": "Python 3 (ipykernel)",
   "language": "python",
   "name": "python3"
  },
  "language_info": {
   "codemirror_mode": {
    "name": "ipython",
    "version": 3
   },
   "file_extension": ".py",
   "mimetype": "text/x-python",
   "name": "python",
   "nbconvert_exporter": "python",
   "pygments_lexer": "ipython3",
   "version": "3.9.17"
  }
 },
 "nbformat": 4,
 "nbformat_minor": 5
}
