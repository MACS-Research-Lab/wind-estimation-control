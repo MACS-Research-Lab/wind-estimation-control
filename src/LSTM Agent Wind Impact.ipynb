{
 "cells": [
  {
   "cell_type": "markdown",
   "id": "38e419f2-c4dc-435f-8218-732577a45803",
   "metadata": {},
   "source": [
    "# Wind Impact on LSTM Agent Performance\n",
    "\n",
    "How robust is the RL architecture trained with wind estimations (from an LSTM) all wind?"
   ]
  },
  {
   "cell_type": "code",
   "execution_count": 1,
   "id": "1edcd168-276a-4926-8039-ebc03390ee43",
   "metadata": {},
   "outputs": [],
   "source": [
    "import matplotlib.pyplot as plt\n",
    "import numpy as np\n",
    "import pandas as pd\n",
    "from tqdm import tqdm\n",
    "\n",
    "from utilities import get_agent\n",
    "from environments import OctorotorEnvSelector\n",
    "from systems.pid_agent import PIDAgent\n",
    "from multirotor.helpers import DataLog\n",
    "from stable_baselines3 import PPO"
   ]
  },
  {
   "cell_type": "code",
   "execution_count": 2,
   "id": "b8bd04f1-74e7-4eaf-a8bc-c5f414948a24",
   "metadata": {},
   "outputs": [],
   "source": [
    "# study, best_agent, best_params = get_agent('windlstm')\n",
    "\n",
    "# best_params['bounding_rect_length']=200\n",
    "# best_params['steps_u']=50"
   ]
  },
  {
   "cell_type": "code",
   "execution_count": 3,
   "id": "74ce6921",
   "metadata": {},
   "outputs": [],
   "source": [
    "best_agent = PPO.load('./saved_models/lstm_agent') "
   ]
  },
  {
   "cell_type": "code",
   "execution_count": 4,
   "id": "7582ffaa-d1fd-4923-920c-0c046c235991",
   "metadata": {},
   "outputs": [],
   "source": [
    "best_params = {'steps_u':50, 'scaling_factor':4, 'window_distance':1000}"
   ]
  },
  {
   "cell_type": "code",
   "execution_count": 5,
   "id": "b7c8e6e1-5bca-4dd2-999c-3d7006979e7f",
   "metadata": {
    "editable": true,
    "slideshow": {
     "slide_type": ""
    },
    "tags": []
   },
   "outputs": [],
   "source": [
    "env_selector = OctorotorEnvSelector()\n",
    "square_wpts = np.array([[100,0,30], [100,100,30], [0,100,30], [0,0,30]])"
   ]
  },
  {
   "cell_type": "code",
   "execution_count": 6,
   "id": "a0d9847f-79fe-4c7a-889f-5733a30cc5b9",
   "metadata": {},
   "outputs": [],
   "source": [
    "def get_tte(initial_pos: tuple, waypoints: np.ndarray, x: np.ndarray, y:np.ndarray, z:np.ndarray) -> np.ndarray:\n",
    "        \"\"\"\n",
    "        Calculates the trajectory tracking error. \n",
    "        The distance between the current point and the vector between previous and next wp. Uses ||v1 x v2|| / ||v1||.\n",
    "\n",
    "        Parameters\n",
    "        ----------\n",
    "        initial_pos : tuple  \n",
    "            the initial position of the UAV.\n",
    "        waypoints : np.ndarray \n",
    "            the reference positions at each point in time.\n",
    "        x : np.ndarray \n",
    "            the x positions of the UAV.\n",
    "        y : np.ndarray \n",
    "            the y positions of the UAV.\n",
    "        z : np.ndarray\n",
    "            the z positions of the UAV.\n",
    "\n",
    "        Returns\n",
    "        -------\n",
    "        np.ndarray \n",
    "            the trajectory tracking error at each point in time.\n",
    "        \"\"\"\n",
    "        ttes = []\n",
    "        prev = initial_pos\n",
    "        for i, waypoint in enumerate(waypoints):\n",
    "            if i > 0 and not np.array_equal(waypoints[i-1], waypoints[i]):\n",
    "                prev = waypoints[i-1]\n",
    "\n",
    "            v1 = waypoint - prev\n",
    "            v2 = np.array([x[i],y[i],z[i]]) - prev\n",
    "            tte = np.linalg.norm(np.cross(v1, v2)) / (np.linalg.norm(v1) + 1e-6)\n",
    "            ttes.append(tte)\n",
    "                \n",
    "        return np.array(ttes)"
   ]
  },
  {
   "cell_type": "code",
   "execution_count": 7,
   "id": "a4ac0dd5-49ad-44d5-9a0a-c12cf75121c1",
   "metadata": {},
   "outputs": [],
   "source": [
    "def toc(tte: np.ndarray):\n",
    "    corridor = 5\n",
    "    return best_params['steps_u'] * len(tte[tte > corridor]) / 100"
   ]
  },
  {
   "cell_type": "code",
   "execution_count": 8,
   "id": "81bce838-92c0-49a5-91d4-fa8032876474",
   "metadata": {},
   "outputs": [],
   "source": [
    "def completed_mission(waypoints: np.ndarray, x: np.ndarray, y: np.ndarray, z: np.ndarray, radius: float = 0.65):\n",
    "        for waypoint in waypoints:\n",
    "            reached_waypoint = False\n",
    "\n",
    "            for position in zip(x,y,z):\n",
    "                dist = np.linalg.norm(waypoint - position)\n",
    "\n",
    "                if dist <= radius:\n",
    "                    reached_waypoint = True\n",
    "                    break\n",
    "\n",
    "            if not reached_waypoint:\n",
    "                return False\n",
    "            \n",
    "        return True"
   ]
  },
  {
   "cell_type": "code",
   "execution_count": 9,
   "id": "b22b1d5f-5f9e-4969-a678-ec6a62417c15",
   "metadata": {},
   "outputs": [],
   "source": [
    "def run_trajectory(env_selector, wind_ranges: np.ndarray, agent, params):\n",
    "    env = env_selector.get_env(\"lstm\", params, wind_ranges, square_wpts, start_alt=30, has_turbulence=True)\n",
    "    done = False\n",
    "    state = np.array(env.reset(), dtype=np.float32)\n",
    "    log = DataLog(env.base_env.vehicle, \n",
    "                      other_vars=('reward','next_wp'))\n",
    "    while not done:\n",
    "        action = agent.predict(state, deterministic=True)[0]\n",
    "        action = [0,0,0]\n",
    "        state, reward, done, info = env.step(action)\n",
    "        state = np.array(state, dtype=np.float32)\n",
    "        log.log(reward=reward, next_wp=env.base_env.next_waypt)\n",
    "\n",
    "    log.done_logging()\n",
    "    return log, info"
   ]
  },
  {
   "cell_type": "code",
   "execution_count": 10,
   "id": "590c0c39-fe2a-4747-b716-0e9a508271c6",
   "metadata": {},
   "outputs": [],
   "source": [
    "wind_range_dict = {\n",
    "    'zero': [(0,0), (0,0), (0,0)],\n",
    "    # 'n5': [(0,0), (5,5), (0,0)],\n",
    "    # 'n7': [(0,0), (7,7), (0,0)],\n",
    "    # 'n10': [(0,0), (10,10), (0,0)],\n",
    "    # 's5': [(0,0), (-5,-5), (0,0)],\n",
    "    # 's7': [(0,0), (-7,-7), (0,0)],\n",
    "    # 's10': [(0,0), (-10,-10), (0,0)],\n",
    "    # 'e5': [(5,5), (0,0), (0,0)],\n",
    "    # 'e7': [(7,7), (0,0), (0,0)],\n",
    "    # 'e10': [(10,10), (0,0), (0,0)],\n",
    "    # 'w5': [(-5,-5), (0,0), (0,0)],\n",
    "    # 'w7': [(-7,-7), (0,0), (0,0)],\n",
    "    # 'w10': [(-10,-10), (0,0), (0,0)],\n",
    "    # 'nw5': [(-3.53553391,-3.53553391), (3.53553391,3.53553391), (0,0)],\n",
    "    # 'nw7': [(-4.94974747,-4.94974747), (4.94974747,4.94974747), (0,0)],\n",
    "    # 'nw10': [(-7.07106781,-7.07106781), (7.07106781,7.07106781), (0,0)],\n",
    "    # 'sw5': [(-3.53553391,-3.53553391), (-3.53553391,-3.53553391), (0,0)],\n",
    "    # 'sw7': [(-4.94974747,-4.94974747), (-4.94974747,-4.94974747), (0,0)],\n",
    "    # 'sw10': [(-7.07106781,-7.07106781), (-7.07106781,-7.07106781), (0,0)],\n",
    "    # 'ne5': [(3.53553391,3.53553391), (3.53553391,3.53553391), (0,0)],\n",
    "    # 'ne7': [(4.94974747,4.94974747), (4.94974747,4.94974747), (0,0)],\n",
    "    # 'ne10': [(7.07106781,7.07106781), (7.07106781,7.07106781), (0,0)],\n",
    "    # 'se5': [(3.53553391,3.53553391), (-3.53553391,-3.53553391), (0,0)],\n",
    "    # 'se7': [(4.94974747,4.94974747), (-4.94974747,-4.94974747), (0,0)],\n",
    "    # 'se10': [(7.07106781,7.07106781), (-7.07106781,-7.07106781), (0,0)],\n",
    "}"
   ]
  },
  {
   "cell_type": "code",
   "execution_count": 11,
   "id": "621e7b9b-fec7-4d1e-b13a-ae0958de15cd",
   "metadata": {},
   "outputs": [],
   "source": [
    "wind_results = pd.DataFrame(columns=['Wind', 'Total TTE', 'Mean TTE', 'Completed Mission', 'Reward', 'Time Outside Corridor'])"
   ]
  },
  {
   "cell_type": "code",
   "execution_count": 12,
   "id": "3e454d27-e982-4dd4-8287-fa03b58eb7fd",
   "metadata": {},
   "outputs": [],
   "source": [
    "def run_wind_sweep(results, wind_dict, agent, params):\n",
    "    for wind in tqdm(wind_dict.keys()):\n",
    "        log, info = run_trajectory(env_selector, wind_dict[wind], agent, params)\n",
    "        print(info)\n",
    "        traj_err = get_tte(np.array([0,0,30]), log.next_wp, log.x, log.y, log.z)\n",
    "        new_result = {\n",
    "            'Wind': wind,\n",
    "            'Mean TTE': np.mean(traj_err),\n",
    "            'Total TTE': np.sum(traj_err),\n",
    "            'Completed Mission': completed_mission(square_wpts, log.x, log.y, log.z, radius=5),\n",
    "            'Reward': np.sum(log.reward),\n",
    "            'Time Outside Corridor': toc(traj_err)\n",
    "        }\n",
    "        results = pd.concat([results, pd.DataFrame([new_result])], ignore_index=True)\n",
    "\n",
    "    return results, log"
   ]
  },
  {
   "cell_type": "code",
   "execution_count": 13,
   "id": "ab0bd35d-0c29-4ca0-83e4-1750cc418a4e",
   "metadata": {},
   "outputs": [
    {
     "name": "stderr",
     "output_type": "stream",
     "text": [
      "  0%|          | 0/1 [00:00<?, ?it/s]/tmp/ipykernel_2515599/677425443.py:14: FutureWarning: The behavior of DataFrame concatenation with empty or all-NA entries is deprecated. In a future version, this will no longer exclude empty or all-NA columns when determining the result dtypes. To retain the old behavior, exclude the relevant entries before the concat operation.\n",
      "  results = pd.concat([results, pd.DataFrame([new_result])], ignore_index=True)\n",
      "100%|██████████| 1/1 [00:14<00:00, 14.59s/it]"
     ]
    },
    {
     "name": "stdout",
     "output_type": "stream",
     "text": [
      "{'reached': False, 'outofbounds': True, 'outoftime': True, 'tipped': False, 'crashed': False}\n"
     ]
    },
    {
     "name": "stderr",
     "output_type": "stream",
     "text": [
      "\n"
     ]
    }
   ],
   "source": [
    "wind_results, log = run_wind_sweep(wind_results, wind_range_dict, best_agent, best_params)"
   ]
  },
  {
   "cell_type": "code",
   "execution_count": 15,
   "id": "3a9303c6",
   "metadata": {},
   "outputs": [
    {
     "data": {
      "text/plain": [
       "[<matplotlib.lines.Line2D at 0x7f4d740e0b80>]"
      ]
     },
     "execution_count": 15,
     "metadata": {},
     "output_type": "execute_result"
    },
    {
     "data": {
      "image/png": "[encoded data removed]",
      "text/plain": [
       "<Figure size 640x480 with 1 Axes>"
      ]
     },
     "metadata": {},
     "output_type": "display_data"
    }
   ],
   "source": [
    "plt.plot(log.x, log.y)"
   ]
  },
  {
   "cell_type": "code",
   "execution_count": 16,
   "id": "24ea4e3b",
   "metadata": {},
   "outputs": [
    {
     "ename": "NameError",
     "evalue": "name 'info' is not defined",
     "output_type": "error",
     "traceback": [
      "\u001b[0;31m---------------------------------------------------------------------------\u001b[0m",
      "\u001b[0;31mNameError\u001b[0m                                 Traceback (most recent call last)",
      "Cell \u001b[0;32mIn[16], line 1\u001b[0m\n\u001b[0;32m----> 1\u001b[0m \u001b[43minfo\u001b[49m\n",
      "\u001b[0;31mNameError\u001b[0m: name 'info' is not defined"
     ]
    }
   ],
   "source": [
    "info"
   ]
  },
  {
   "cell_type": "code",
   "execution_count": 15,
   "id": "ca68e9eb",
   "metadata": {},
   "outputs": [
    {
     "data": {
      "text/plain": [
       "[<matplotlib.lines.Line2D at 0x7f9e240b6790>]"
      ]
     },
     "execution_count": 15,
     "metadata": {},
     "output_type": "execute_result"
    },
    {
     "data": {
      "image/png": "[encoded data removed]",
      "text/plain": [
       "<Figure size 640x480 with 1 Axes>"
      ]
     },
     "metadata": {},
     "output_type": "display_data"
    }
   ],
   "source": [
    "plt.plot(log.z)"
   ]
  },
  {
   "cell_type": "code",
   "execution_count": 77,
   "id": "b968877e-abae-4830-8e14-ee7b56049138",
   "metadata": {},
   "outputs": [],
   "source": [
    "wind_results.to_csv('./data/lstm_wind.csv')"
   ]
  },
  {
   "cell_type": "code",
   "execution_count": 84,
   "id": "93a621fe-aca0-45e7-af83-d142072d28d3",
   "metadata": {},
   "outputs": [],
   "source": [
    "wind_results = pd.read_csv('./data/lstm_wind.csv') "
   ]
  },
  {
   "cell_type": "code",
   "execution_count": 85,
   "id": "67f8afef-ed63-4e8b-8a14-bb4e70d7c03d",
   "metadata": {},
   "outputs": [
    {
     "data": {
      "text/html": [
       "<div>\n",
       "<style scoped>\n",
       "    .dataframe tbody tr th:only-of-type {\n",
       "        vertical-align: middle;\n",
       "    }\n",
       "\n",
       "    .dataframe tbody tr th {\n",
       "        vertical-align: top;\n",
       "    }\n",
       "\n",
       "    .dataframe thead th {\n",
       "        text-align: right;\n",
       "    }\n",
       "</style>\n",
       "<table border=\"1\" class=\"dataframe\">\n",
       "  <thead>\n",
       "    <tr style=\"text-align: right;\">\n",
       "      <th></th>\n",
       "      <th>Unnamed: 0</th>\n",
       "      <th>Wind</th>\n",
       "      <th>Total TTE</th>\n",
       "      <th>Mean TTE</th>\n",
       "      <th>Completed Mission</th>\n",
       "      <th>Reward</th>\n",
       "      <th>Time Outside Corridor</th>\n",
       "    </tr>\n",
       "  </thead>\n",
       "  <tbody>\n",
       "    <tr>\n",
       "      <th>0</th>\n",
       "      <td>0</td>\n",
       "      <td>zero</td>\n",
       "      <td>124.909102</td>\n",
       "      <td>1.086166</td>\n",
       "      <td>True</td>\n",
       "      <td>8840.5270</td>\n",
       "      <td>0.0</td>\n",
       "    </tr>\n",
       "    <tr>\n",
       "      <th>1</th>\n",
       "      <td>1</td>\n",
       "      <td>n5</td>\n",
       "      <td>142.149895</td>\n",
       "      <td>1.204660</td>\n",
       "      <td>True</td>\n",
       "      <td>8667.4940</td>\n",
       "      <td>0.0</td>\n",
       "    </tr>\n",
       "    <tr>\n",
       "      <th>2</th>\n",
       "      <td>2</td>\n",
       "      <td>n7</td>\n",
       "      <td>155.779091</td>\n",
       "      <td>1.287431</td>\n",
       "      <td>True</td>\n",
       "      <td>8533.5880</td>\n",
       "      <td>0.0</td>\n",
       "    </tr>\n",
       "    <tr>\n",
       "      <th>3</th>\n",
       "      <td>3</td>\n",
       "      <td>n10</td>\n",
       "      <td>221.322356</td>\n",
       "      <td>1.569662</td>\n",
       "      <td>True</td>\n",
       "      <td>7874.4116</td>\n",
       "      <td>0.0</td>\n",
       "    </tr>\n",
       "    <tr>\n",
       "      <th>4</th>\n",
       "      <td>4</td>\n",
       "      <td>s5</td>\n",
       "      <td>124.892180</td>\n",
       "      <td>1.076657</td>\n",
       "      <td>True</td>\n",
       "      <td>8829.8370</td>\n",
       "      <td>0.0</td>\n",
       "    </tr>\n",
       "    <tr>\n",
       "      <th>5</th>\n",
       "      <td>5</td>\n",
       "      <td>s7</td>\n",
       "      <td>130.677418</td>\n",
       "      <td>1.088978</td>\n",
       "      <td>True</td>\n",
       "      <td>8772.7210</td>\n",
       "      <td>0.0</td>\n",
       "    </tr>\n",
       "    <tr>\n",
       "      <th>6</th>\n",
       "      <td>6</td>\n",
       "      <td>s10</td>\n",
       "      <td>186.643402</td>\n",
       "      <td>1.323712</td>\n",
       "      <td>True</td>\n",
       "      <td>8208.4810</td>\n",
       "      <td>0.0</td>\n",
       "    </tr>\n",
       "    <tr>\n",
       "      <th>7</th>\n",
       "      <td>7</td>\n",
       "      <td>e5</td>\n",
       "      <td>133.603782</td>\n",
       "      <td>1.151757</td>\n",
       "      <td>True</td>\n",
       "      <td>8743.3950</td>\n",
       "      <td>0.0</td>\n",
       "    </tr>\n",
       "    <tr>\n",
       "      <th>8</th>\n",
       "      <td>8</td>\n",
       "      <td>e7</td>\n",
       "      <td>134.131805</td>\n",
       "      <td>1.108527</td>\n",
       "      <td>True</td>\n",
       "      <td>8744.3940</td>\n",
       "      <td>0.0</td>\n",
       "    </tr>\n",
       "    <tr>\n",
       "      <th>9</th>\n",
       "      <td>9</td>\n",
       "      <td>e10</td>\n",
       "      <td>182.265084</td>\n",
       "      <td>1.320761</td>\n",
       "      <td>True</td>\n",
       "      <td>8257.2350</td>\n",
       "      <td>0.0</td>\n",
       "    </tr>\n",
       "    <tr>\n",
       "      <th>10</th>\n",
       "      <td>10</td>\n",
       "      <td>w5</td>\n",
       "      <td>135.993775</td>\n",
       "      <td>1.172360</td>\n",
       "      <td>True</td>\n",
       "      <td>8725.7840</td>\n",
       "      <td>0.0</td>\n",
       "    </tr>\n",
       "    <tr>\n",
       "      <th>11</th>\n",
       "      <td>11</td>\n",
       "      <td>w7</td>\n",
       "      <td>141.627316</td>\n",
       "      <td>1.170474</td>\n",
       "      <td>True</td>\n",
       "      <td>8665.1740</td>\n",
       "      <td>0.0</td>\n",
       "    </tr>\n",
       "    <tr>\n",
       "      <th>12</th>\n",
       "      <td>12</td>\n",
       "      <td>w10</td>\n",
       "      <td>182.845607</td>\n",
       "      <td>1.344453</td>\n",
       "      <td>True</td>\n",
       "      <td>8259.1060</td>\n",
       "      <td>0.0</td>\n",
       "    </tr>\n",
       "    <tr>\n",
       "      <th>13</th>\n",
       "      <td>13</td>\n",
       "      <td>nw5</td>\n",
       "      <td>151.992329</td>\n",
       "      <td>1.288071</td>\n",
       "      <td>True</td>\n",
       "      <td>8575.5900</td>\n",
       "      <td>0.0</td>\n",
       "    </tr>\n",
       "    <tr>\n",
       "      <th>14</th>\n",
       "      <td>14</td>\n",
       "      <td>nw7</td>\n",
       "      <td>164.452952</td>\n",
       "      <td>1.381958</td>\n",
       "      <td>True</td>\n",
       "      <td>8440.8990</td>\n",
       "      <td>0.0</td>\n",
       "    </tr>\n",
       "    <tr>\n",
       "      <th>15</th>\n",
       "      <td>15</td>\n",
       "      <td>nw10</td>\n",
       "      <td>245.724662</td>\n",
       "      <td>1.904842</td>\n",
       "      <td>True</td>\n",
       "      <td>7623.5040</td>\n",
       "      <td>0.0</td>\n",
       "    </tr>\n",
       "    <tr>\n",
       "      <th>16</th>\n",
       "      <td>16</td>\n",
       "      <td>sw5</td>\n",
       "      <td>130.236462</td>\n",
       "      <td>1.113132</td>\n",
       "      <td>True</td>\n",
       "      <td>8783.4140</td>\n",
       "      <td>0.0</td>\n",
       "    </tr>\n",
       "    <tr>\n",
       "      <th>17</th>\n",
       "      <td>17</td>\n",
       "      <td>sw7</td>\n",
       "      <td>136.099252</td>\n",
       "      <td>1.143691</td>\n",
       "      <td>True</td>\n",
       "      <td>8719.6430</td>\n",
       "      <td>0.0</td>\n",
       "    </tr>\n",
       "    <tr>\n",
       "      <th>18</th>\n",
       "      <td>18</td>\n",
       "      <td>sw10</td>\n",
       "      <td>173.098114</td>\n",
       "      <td>1.362977</td>\n",
       "      <td>True</td>\n",
       "      <td>8350.4120</td>\n",
       "      <td>0.0</td>\n",
       "    </tr>\n",
       "    <tr>\n",
       "      <th>19</th>\n",
       "      <td>19</td>\n",
       "      <td>ne5</td>\n",
       "      <td>128.801874</td>\n",
       "      <td>1.110361</td>\n",
       "      <td>True</td>\n",
       "      <td>8792.8790</td>\n",
       "      <td>0.0</td>\n",
       "    </tr>\n",
       "    <tr>\n",
       "      <th>20</th>\n",
       "      <td>20</td>\n",
       "      <td>ne7</td>\n",
       "      <td>145.073036</td>\n",
       "      <td>1.208942</td>\n",
       "      <td>True</td>\n",
       "      <td>8635.0750</td>\n",
       "      <td>0.0</td>\n",
       "    </tr>\n",
       "    <tr>\n",
       "      <th>21</th>\n",
       "      <td>21</td>\n",
       "      <td>ne10</td>\n",
       "      <td>199.009943</td>\n",
       "      <td>1.542713</td>\n",
       "      <td>True</td>\n",
       "      <td>8096.9375</td>\n",
       "      <td>0.0</td>\n",
       "    </tr>\n",
       "    <tr>\n",
       "      <th>22</th>\n",
       "      <td>22</td>\n",
       "      <td>se5</td>\n",
       "      <td>130.948169</td>\n",
       "      <td>1.119215</td>\n",
       "      <td>True</td>\n",
       "      <td>8772.4590</td>\n",
       "      <td>0.0</td>\n",
       "    </tr>\n",
       "    <tr>\n",
       "      <th>23</th>\n",
       "      <td>23</td>\n",
       "      <td>se7</td>\n",
       "      <td>149.368387</td>\n",
       "      <td>1.255197</td>\n",
       "      <td>True</td>\n",
       "      <td>8582.8230</td>\n",
       "      <td>0.0</td>\n",
       "    </tr>\n",
       "    <tr>\n",
       "      <th>24</th>\n",
       "      <td>24</td>\n",
       "      <td>se10</td>\n",
       "      <td>206.316933</td>\n",
       "      <td>1.637436</td>\n",
       "      <td>True</td>\n",
       "      <td>8011.9100</td>\n",
       "      <td>0.0</td>\n",
       "    </tr>\n",
       "  </tbody>\n",
       "</table>\n",
       "</div>"
      ],
      "text/plain": [
       "    Unnamed: 0  Wind   Total TTE  Mean TTE  Completed Mission     Reward  \\\n",
       "0            0  zero  124.909102  1.086166               True  8840.5270   \n",
       "1            1    n5  142.149895  1.204660               True  8667.4940   \n",
       "2            2    n7  155.779091  1.287431               True  8533.5880   \n",
       "3            3   n10  221.322356  1.569662               True  7874.4116   \n",
       "4            4    s5  124.892180  1.076657               True  8829.8370   \n",
       "5            5    s7  130.677418  1.088978               True  8772.7210   \n",
       "6            6   s10  186.643402  1.323712               True  8208.4810   \n",
       "7            7    e5  133.603782  1.151757               True  8743.3950   \n",
       "8            8    e7  134.131805  1.108527               True  8744.3940   \n",
       "9            9   e10  182.265084  1.320761               True  8257.2350   \n",
       "10          10    w5  135.993775  1.172360               True  8725.7840   \n",
       "11          11    w7  141.627316  1.170474               True  8665.1740   \n",
       "12          12   w10  182.845607  1.344453               True  8259.1060   \n",
       "13          13   nw5  151.992329  1.288071               True  8575.5900   \n",
       "14          14   nw7  164.452952  1.381958               True  8440.8990   \n",
       "15          15  nw10  245.724662  1.904842               True  7623.5040   \n",
       "16          16   sw5  130.236462  1.113132               True  8783.4140   \n",
       "17          17   sw7  136.099252  1.143691               True  8719.6430   \n",
       "18          18  sw10  173.098114  1.362977               True  8350.4120   \n",
       "19          19   ne5  128.801874  1.110361               True  8792.8790   \n",
       "20          20   ne7  145.073036  1.208942               True  8635.0750   \n",
       "21          21  ne10  199.009943  1.542713               True  8096.9375   \n",
       "22          22   se5  130.948169  1.119215               True  8772.4590   \n",
       "23          23   se7  149.368387  1.255197               True  8582.8230   \n",
       "24          24  se10  206.316933  1.637436               True  8011.9100   \n",
       "\n",
       "    Time Outside Corridor  \n",
       "0                     0.0  \n",
       "1                     0.0  \n",
       "2                     0.0  \n",
       "3                     0.0  \n",
       "4                     0.0  \n",
       "5                     0.0  \n",
       "6                     0.0  \n",
       "7                     0.0  \n",
       "8                     0.0  \n",
       "9                     0.0  \n",
       "10                    0.0  \n",
       "11                    0.0  \n",
       "12                    0.0  \n",
       "13                    0.0  \n",
       "14                    0.0  \n",
       "15                    0.0  \n",
       "16                    0.0  \n",
       "17                    0.0  \n",
       "18                    0.0  \n",
       "19                    0.0  \n",
       "20                    0.0  \n",
       "21                    0.0  \n",
       "22                    0.0  \n",
       "23                    0.0  \n",
       "24                    0.0  "
      ]
     },
     "execution_count": 85,
     "metadata": {},
     "output_type": "execute_result"
    }
   ],
   "source": [
    "wind_results"
   ]
  },
  {
   "cell_type": "code",
   "execution_count": 73,
   "id": "fef0de1f-fc86-4219-ade4-1486f3f93747",
   "metadata": {},
   "outputs": [
    {
     "name": "stdout",
     "output_type": "stream",
     "text": [
      "Mean reward for 5 m/s:  8736.357\n",
      "Std reward for 5 m/s:  81.24075\n",
      "Mean reward for 7 m/s:  8636.789\n",
      "Std reward for 7 m/s:  113.17812\n",
      "Mean reward for 10 m/s:  8085.25\n",
      "Std reward for 10 m/s:  241.5662\n"
     ]
    }
   ],
   "source": [
    "print(\"Mean reward for 5 m/s: \", wind_results[wind_results['Wind'].str.contains(\"5\")]['Reward'].mean())\n",
    "print(\"Std reward for 5 m/s: \",wind_results[wind_results['Wind'].str.contains(\"5\")]['Reward'].std())\n",
    "print(\"Mean reward for 7 m/s: \", wind_results[wind_results['Wind'].str.contains(\"7\")]['Reward'].mean())\n",
    "print(\"Std reward for 7 m/s: \",wind_results[wind_results['Wind'].str.contains(\"7\")]['Reward'].std())\n",
    "print(\"Mean reward for 10 m/s: \", wind_results[wind_results['Wind'].str.contains(\"10\")]['Reward'].mean())\n",
    "print(\"Std reward for 10 m/s: \",wind_results[wind_results['Wind'].str.contains(\"10\")]['Reward'].std())"
   ]
  },
  {
   "cell_type": "code",
   "execution_count": 82,
   "id": "8ae2f3a3-dd85-4c6b-837d-1ae7c74b7714",
   "metadata": {},
   "outputs": [
    {
     "name": "stdout",
     "output_type": "stream",
     "text": [
      "Mean for 0 m/s:  nan\n",
      "Mean for 5 m/s:  nan\n",
      "Std for 5 m/s:  nan\n",
      "Mean for 7 m/s:  nan\n",
      "Std for 7 m/s:  nan\n",
      "Mean for 10 m/s:  nan\n",
      "Std for 10 m/s:  nan\n"
     ]
    }
   ],
   "source": [
    "print(\"Mean for 0 m/s: \", wind_results[wind_results['Wind'].str.contains(\"zero\")]['Mean TTE'].mean())\n",
    "print(\"Mean for 5 m/s: \", wind_results[wind_results['Wind'].str.contains(\"5\")]['Mean TTE'].mean())\n",
    "print(\"Std for 5 m/s: \",wind_results[wind_results['Wind'].str.contains(\"5\")]['Mean TTE'].std())\n",
    "print(\"Mean for 7 m/s: \", wind_results[wind_results['Wind'].str.contains(\"7\")]['Mean TTE'].mean())\n",
    "print(\"Std for 7 m/s: \",wind_results[wind_results['Wind'].str.contains(\"7\")]['Mean TTE'].std())\n",
    "print(\"Mean for 10 m/s: \", wind_results[wind_results['Wind'].str.contains(\"10\")]['Mean TTE'].mean())\n",
    "print(\"Std for 10 m/s: \",wind_results[wind_results['Wind'].str.contains(\"10\")]['Mean TTE'].std())"
   ]
  },
  {
   "cell_type": "code",
   "execution_count": 75,
   "id": "1cba317d-85a7-4722-a1e8-72903aa5f6c5",
   "metadata": {},
   "outputs": [
    {
     "name": "stdout",
     "output_type": "stream",
     "text": [
      "Mean reward for 5 m/s:  0.0\n",
      "Std reward for 5 m/s:  0.0\n",
      "Mean reward for 7 m/s:  0.0\n",
      "Std reward for 7 m/s:  0.0\n",
      "Mean reward for 10 m/s:  0.0\n",
      "Std reward for 10 m/s:  0.0\n"
     ]
    }
   ],
   "source": [
    "print(\"Mean reward for 5 m/s: \", wind_results[wind_results['Wind'].str.contains(\"5\")]['Time Outside Corridor'].mean())\n",
    "print(\"Std reward for 5 m/s: \",wind_results[wind_results['Wind'].str.contains(\"5\")]['Time Outside Corridor'].std())\n",
    "print(\"Mean reward for 7 m/s: \", wind_results[wind_results['Wind'].str.contains(\"7\")]['Time Outside Corridor'].mean())\n",
    "print(\"Std reward for 7 m/s: \",wind_results[wind_results['Wind'].str.contains(\"7\")]['Time Outside Corridor'].std())\n",
    "print(\"Mean reward for 10 m/s: \", wind_results[wind_results['Wind'].str.contains(\"10\")]['Time Outside Corridor'].mean())\n",
    "print(\"Std reward for 10 m/s: \",wind_results[wind_results['Wind'].str.contains(\"10\")]['Time Outside Corridor'].std())"
   ]
  },
  {
   "cell_type": "code",
   "execution_count": 7,
   "id": "bb92dc35-9fa4-49ce-a8ac-8d607c400f93",
   "metadata": {},
   "outputs": [
    {
     "name": "stdout",
     "output_type": "stream",
     "text": [
      "Mean reward for 5 m/s:  1.0\n",
      "Std reward for 5 m/s:  0.0\n",
      "Mean reward for 7 m/s:  1.0\n",
      "Std reward for 7 m/s:  0.0\n",
      "Mean reward for 10 m/s:  1.0\n",
      "Std reward for 10 m/s:  0.0\n"
     ]
    }
   ],
   "source": [
    "print(\"Mean reward for 5 m/s: \", wind_results[wind_results['Wind'].str.contains(\"5\")]['Completed Mission'].mean())\n",
    "print(\"Std reward for 5 m/s: \",wind_results[wind_results['Wind'].str.contains(\"5\")]['Completed Mission'].std())\n",
    "print(\"Mean reward for 7 m/s: \", wind_results[wind_results['Wind'].str.contains(\"7\")]['Completed Mission'].mean())\n",
    "print(\"Std reward for 7 m/s: \",wind_results[wind_results['Wind'].str.contains(\"7\")]['Completed Mission'].std())\n",
    "print(\"Mean reward for 10 m/s: \", wind_results[wind_results['Wind'].str.contains(\"10\")]['Completed Mission'].mean())\n",
    "print(\"Std reward for 10 m/s: \",wind_results[wind_results['Wind'].str.contains(\"10\")]['Completed Mission'].std())"
   ]
  }
 ],
 "metadata": {
  "kernelspec": {
   "display_name": "Python 3 (ipykernel)",
   "language": "python",
   "name": "python3"
  },
  "language_info": {
   "codemirror_mode": {
    "name": "ipython",
    "version": 3
   },
   "file_extension": ".py",
   "mimetype": "text/x-python",
   "name": "python",
   "nbconvert_exporter": "python",
   "pygments_lexer": "ipython3",
   "version": "3.9.18"
  }
 },
 "nbformat": 4,
 "nbformat_minor": 5
}
