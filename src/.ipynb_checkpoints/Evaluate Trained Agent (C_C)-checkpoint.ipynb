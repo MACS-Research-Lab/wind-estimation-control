{
 "cells": [
  {
   "cell_type": "markdown",
   "id": "9e340ebe-0779-47a7-ba63-bf6cb1b31421",
   "metadata": {},
   "source": [
    "# Evaluate Trained Cardinal Wind Agents"
   ]
  },
  {
   "cell_type": "code",
   "execution_count": 1,
   "id": "380febf0-57bc-41b2-9afd-9e40e5667c01",
   "metadata": {},
   "outputs": [],
   "source": [
    "from systems.long_multirotor_sliding_error import LongTrajEnv\n",
    "\n",
    "from typing import Union, Iterable, List\n",
    "from copy import deepcopy\n",
    "import matplotlib.pyplot as plt\n",
    "import numpy as np\n",
    "import pandas as pd\n",
    "import torch\n",
    "import torch.nn as nn\n",
    "from tqdm.autonotebook import tqdm, trange\n",
    "import optuna\n",
    "\n",
    "from rl import learn_rl, transform_rl_policy, evaluate_rl, PPO, load_agent\n",
    "from multirotor.simulation import Multirotor\n",
    "from multirotor.helpers import DataLog\n",
    "from multirotor.visualize import plot_datalog\n",
    "from multirotor.controller import Controller\n",
    "from multirotor.trajectories import Trajectory, GuidedTrajectory\n",
    "from multirotor.controller.scurves import SCurveController\n",
    "from systems.multirotor_sliding_error import MultirotorTrajEnv, VP\n",
    "from multirotor.controller import (\n",
    "    AltController, AltRateController,\n",
    "    PosController, AttController,\n",
    "    VelController, RateController,\n",
    "    Controller\n",
    ")\n",
    "from scripts.opt_multirotorenv import get_established_controller\n",
    "from utilities import get_agent\n",
    "import pickle"
   ]
  },
  {
   "cell_type": "code",
   "execution_count": null,
   "id": "b7185b3a-5189-4788-ace4-a51011387744",
   "metadata": {},
   "outputs": [],
   "source": [
    "study, best_agent, best_params = get_agent('midwind')"
   ]
  },
  {
   "cell_type": "code",
   "execution_count": null,
   "id": "970e45cd-6ec0-4ff6-8161-a9d6eee67aa2",
   "metadata": {},
   "outputs": [],
   "source": [
    "best_params['bounding_rect_length']=200\n",
    "best_params['steps_u']=50"
   ]
  },
  {
   "cell_type": "code",
   "execution_count": null,
   "id": "5ef99eb2-5823-40d3-8477-052423ce0189",
   "metadata": {},
   "outputs": [],
   "source": [
    "best_params"
   ]
  },
  {
   "cell_type": "code",
   "execution_count": null,
   "id": "0f09b58d-5bb8-44d1-8b20-50efa95b0992",
   "metadata": {},
   "outputs": [],
   "source": [
    "def get_env(wind_ranges, scurve=False, **kwargs):  \n",
    "    kw = dict(\n",
    "        safety_radius=kwargs['safety_radius'],\n",
    "        vp=VP,get_controller_fn=lambda m: get_established_controller(m),\n",
    "        steps_u=kwargs['steps_u'],\n",
    "        scaling_factor=kwargs['scaling_factor'],\n",
    "        wind_ranges=wind_ranges,\n",
    "        proximity=5, # have to get within 5m of waypoint\n",
    "        seed=kwargs['seed'])\n",
    "    return MultirotorTrajEnv(**kw)"
   ]
  },
  {
   "cell_type": "code",
   "execution_count": null,
   "id": "8be9ceeb-adb5-4d0f-91dc-b3a038feef28",
   "metadata": {},
   "outputs": [],
   "source": [
    "def get_long_env(best_params, wind_range):\n",
    "    env_kwargs = dict(\n",
    "        safety_radius=5, # safety radius of 5m\n",
    "        seed=0,\n",
    "        get_controller_fn=lambda m: get_established_controller(m),\n",
    "        vp = VP,\n",
    "    )\n",
    "\n",
    "    env_kwargs['steps_u'] = best_params['steps_u']\n",
    "    env_kwargs['scaling_factor'] = best_params['scaling_factor']\n",
    "\n",
    "    square_np = np.array([[100,0,0], [100,100,0], [0,100,0], [0,0,0]])\n",
    "    square_traj = Trajectory(None, points=square_np, resolution=best_params['bounding_rect_length']) \n",
    "    square_wpts = square_traj.generate_trajectory(curr_pos=np.array([0,0,0]))\n",
    "\n",
    "    env = LongTrajEnv(\n",
    "        waypoints = square_wpts,\n",
    "        base_env = get_env(wind_ranges = wind_range , **env_kwargs),\n",
    "        initial_waypoints = square_np,\n",
    "        randomize_direction=False,\n",
    "        # window_distance=best_params['window_distance']\n",
    "    )\n",
    "\n",
    "    return env"
   ]
  },
  {
   "cell_type": "code",
   "execution_count": null,
   "id": "1ee476bf-2ef6-4152-81bf-8e233e4c9da1",
   "metadata": {},
   "outputs": [],
   "source": [
    "def get_tte(initial_pos: tuple, waypoints: np.ndarray, x: np.ndarray, y:np.ndarray, z:np.ndarray) -> np.ndarray:\n",
    "        \"\"\"\n",
    "        Calculates the trajectory tracking error. \n",
    "        The distance between the current point and the vector between previous and next wp. Uses ||v1 x v2|| / ||v1||.\n",
    "\n",
    "        Parameters\n",
    "        ----------\n",
    "        initial_pos : tuple  \n",
    "            the initial position of the UAV.\n",
    "        waypoints : np.ndarray \n",
    "            the reference positions at each point in time.\n",
    "        x : np.ndarray \n",
    "            the x positions of the UAV.\n",
    "        y : np.ndarray \n",
    "            the y positions of the UAV.\n",
    "        z : np.ndarray\n",
    "            the z positions of the UAV.\n",
    "\n",
    "        Returns\n",
    "        -------\n",
    "        np.ndarray \n",
    "            the trajectory tracking error at each point in time.\n",
    "        \"\"\"\n",
    "        ttes = []\n",
    "        prev = initial_pos\n",
    "        for i, waypoint in enumerate(waypoints):\n",
    "            if i > 0 and not np.array_equal(waypoints[i-1], waypoints[i]):\n",
    "                prev = waypoints[i-1]\n",
    "\n",
    "            v1 = waypoint - prev\n",
    "            v2 = np.array([x[i],y[i],z[i]]) - prev\n",
    "            tte = np.linalg.norm(np.cross(v1, v2)) / np.linalg.norm(v1)\n",
    "            ttes.append(tte)\n",
    "                \n",
    "        return np.array(ttes)"
   ]
  },
  {
   "cell_type": "code",
   "execution_count": null,
   "id": "64249d33-5e12-4062-8526-17c5e090079f",
   "metadata": {},
   "outputs": [],
   "source": [
    "# what ranges of wind to evaluate the agent for\n",
    "all_wind_ranges = [[(0,0), (0,0), (0,0)],\n",
    "                               [(0,0), (5,5), (0,0)],\n",
    "                               [(0,0), (7,7), (0,0)],\n",
    "                               [(0,0), (10,10), (0,0)],\n",
    "                               [(0,0), (-5,-5), (0,0)],\n",
    "                               [(0,0), (-7,-7), (0,0)],\n",
    "                               [(0,0), (-10,-10), (0,0)],\n",
    "                               [(5,5), (0,0), (0,0)],\n",
    "                               [(7,7), (0,0), (0,0)],\n",
    "                               [(10,10), (0,0), (0,0)],\n",
    "                               [(-5,-5), (0,0), (0,0)],\n",
    "                               [(-7,-7), (0,0), (0,0)],\n",
    "                               [(-10,-10), (0,0), (0,0)]]"
   ]
  },
  {
   "cell_type": "markdown",
   "id": "6cd0b63a-b970-4199-aef0-ca5bb533eea2",
   "metadata": {},
   "source": [
    "### 0 m/s wind"
   ]
  },
  {
   "cell_type": "code",
   "execution_count": null,
   "id": "159f4f9c-5022-4e33-afea-3c4604631565",
   "metadata": {},
   "outputs": [],
   "source": [
    "wind_range = all_wind_ranges[0]\n",
    "env = get_long_env(best_params, wind_range)"
   ]
  },
  {
   "cell_type": "code",
   "execution_count": null,
   "id": "2fef2595-4115-4940-b6ab-a3010313326c",
   "metadata": {},
   "outputs": [],
   "source": [
    "best_params"
   ]
  },
  {
   "cell_type": "code",
   "execution_count": null,
   "id": "06ab6e4b-f4d0-44c2-bc3f-471cd9ae121c",
   "metadata": {},
   "outputs": [],
   "source": [
    "done = False\n",
    "state = env.reset()\n",
    "log = DataLog(env.base_env.vehicle, env.base_env.ctrl,\n",
    "                  other_vars=('reward',))\n",
    "vels = []\n",
    "while not done:\n",
    "    action = best_agent.predict(state, deterministic=True)[0]\n",
    "    # action[1] = action[1] - 1\n",
    "    vels.append(action)\n",
    "    state, reward, done, info = env.step(action)\n",
    "    log.log(reward=reward)\n",
    "\n",
    "vels = np.array(vels) * best_params['scaling_factor']/2\n",
    "log.done_logging()"
   ]
  },
  {
   "cell_type": "code",
   "execution_count": null,
   "id": "f88e7218-2d91-49b0-ac41-44ae019ab16e",
   "metadata": {},
   "outputs": [],
   "source": [
    "plt.plot(log.x, log.y)"
   ]
  },
  {
   "cell_type": "code",
   "execution_count": null,
   "id": "4ce32bad-37cb-4818-be96-644b2e86fd66",
   "metadata": {},
   "outputs": [],
   "source": [
    "plt.plot(log.velocity[:,0], label='vel')\n",
    "plt.plot(log.target.velocity[:,0], label='target vel')\n",
    "plt.plot(vels[:,0], label='agent actions')\n",
    "# plt.plot(log.target.position[:,0]) add in the change in waypoint\n",
    "plt.legend()"
   ]
  },
  {
   "cell_type": "code",
   "execution_count": null,
   "id": "a07eb6bf-5d2b-402e-b2f4-87eb28c583e2",
   "metadata": {},
   "outputs": [],
   "source": [
    "plt.plot(log.velocity[:,1], label='vel')\n",
    "plt.plot(log.target.velocity[:,1], label='target vel')\n",
    "plt.plot(vels[:,1], label='agent actions')\n",
    "plt.legend()"
   ]
  },
  {
   "cell_type": "code",
   "execution_count": null,
   "id": "0eb8a5c0-906b-44e3-85aa-f0551cb061d6",
   "metadata": {},
   "outputs": [],
   "source": [
    "np.sum(log.reward)"
   ]
  },
  {
   "cell_type": "markdown",
   "id": "ac25c878-b871-49d3-80e4-167bf81654e9",
   "metadata": {},
   "source": [
    "## North"
   ]
  },
  {
   "cell_type": "markdown",
   "id": "9e7d3217-9961-4b1f-88c8-8a4d9673bf5a",
   "metadata": {},
   "source": [
    "### 5 m/s wind"
   ]
  },
  {
   "cell_type": "code",
   "execution_count": null,
   "id": "a06296af-fcd4-4225-a7be-2212444b34ec",
   "metadata": {},
   "outputs": [],
   "source": [
    "wind_range = all_wind_ranges[1]\n",
    "env = get_long_env(best_params, wind_range)"
   ]
  },
  {
   "cell_type": "code",
   "execution_count": null,
   "id": "bace9a7e-1e8c-40f6-ae9b-777d223a7fdc",
   "metadata": {},
   "outputs": [],
   "source": [
    "done = False\n",
    "state = env.reset()\n",
    "log = DataLog(env.base_env.vehicle, env.base_env.ctrl,\n",
    "                  other_vars=('reward',))\n",
    "while not done:\n",
    "    action = best_agent.predict(state, deterministic=True)[0]\n",
    "    state, reward, done, info = env.step(action)\n",
    "    log.log(reward=reward)\n",
    "\n",
    "log.done_logging()"
   ]
  },
  {
   "cell_type": "code",
   "execution_count": null,
   "id": "95d33626-e808-4998-b7ed-e803e87900a3",
   "metadata": {},
   "outputs": [],
   "source": [
    "plt.plot(log.x, log.y)"
   ]
  },
  {
   "cell_type": "code",
   "execution_count": null,
   "id": "af30040a-b093-40ac-b629-c84808baf5b1",
   "metadata": {},
   "outputs": [],
   "source": [
    "plt.scatter(log.target.position[:,0], log.target.position[:,1], c=range(len(log.target.position)))\n",
    "plt.scatter(log.states[:,12], log.states[:,13], marker='x', color='red')"
   ]
  },
  {
   "cell_type": "code",
   "execution_count": null,
   "id": "456a7802-5e88-4aa0-ae87-e2309c1f0304",
   "metadata": {},
   "outputs": [],
   "source": [
    "np.sum(log.reward)"
   ]
  },
  {
   "cell_type": "markdown",
   "id": "baa48dd4-0005-4295-bf9b-5601fbf0bc20",
   "metadata": {},
   "source": [
    "### 7 m/s wind"
   ]
  },
  {
   "cell_type": "code",
   "execution_count": null,
   "id": "a05e2197-ee97-43d3-a44c-ee381d8e1cda",
   "metadata": {},
   "outputs": [],
   "source": [
    "wind_range = all_wind_ranges[2]\n",
    "env = get_long_env(best_params, wind_range)"
   ]
  },
  {
   "cell_type": "code",
   "execution_count": null,
   "id": "9767bcc5-e4c0-4a94-ad0d-f99c40f25779",
   "metadata": {},
   "outputs": [],
   "source": [
    "done = False\n",
    "state = env.reset()\n",
    "log = DataLog(env.base_env.vehicle, env.base_env.ctrl,\n",
    "                  other_vars=('reward',))\n",
    "\n",
    "total_reward = 0\n",
    "while not done:\n",
    "    action = best_agent.predict(state, deterministic=True)[0]\n",
    "    state, reward, done, info = env.step(action)\n",
    "    log.log(reward=reward)\n",
    "\n",
    "log.done_logging()"
   ]
  },
  {
   "cell_type": "code",
   "execution_count": null,
   "id": "cefb9898-72de-4cf2-8df8-3c2c317b4b0b",
   "metadata": {},
   "outputs": [],
   "source": [
    "plt.plot(log.x, log.y)"
   ]
  },
  {
   "cell_type": "code",
   "execution_count": null,
   "id": "2b502d9f-edbf-4568-b968-125af39dea7f",
   "metadata": {},
   "outputs": [],
   "source": [
    "plt.scatter(log.target.position[:,0], log.target.position[:,1], c=range(len(log.target.position)))\n",
    "plt.scatter(log.states[:,12], log.states[:,13], marker='x', color='red')"
   ]
  },
  {
   "cell_type": "code",
   "execution_count": null,
   "id": "8f1c4a81-75fb-4215-bcc2-f8be7071a505",
   "metadata": {},
   "outputs": [],
   "source": [
    "np.sum(log.reward)"
   ]
  },
  {
   "cell_type": "markdown",
   "id": "7a4b993a-1283-49a6-977e-d6aefd010dd4",
   "metadata": {},
   "source": [
    "### 10 m/s wind"
   ]
  },
  {
   "cell_type": "code",
   "execution_count": null,
   "id": "1ea84312-f45b-44fd-8e13-ce98076e988c",
   "metadata": {},
   "outputs": [],
   "source": [
    "wind_range = all_wind_ranges[3]\n",
    "env = get_long_env(best_params, wind_range)"
   ]
  },
  {
   "cell_type": "code",
   "execution_count": null,
   "id": "e7417d72-fea4-4f07-a490-cd730e45609f",
   "metadata": {},
   "outputs": [],
   "source": [
    "done = False\n",
    "state = env.reset()\n",
    "log = DataLog(env.base_env.vehicle, env.base_env.ctrl,\n",
    "                  other_vars=('reward',))\n",
    "\n",
    "total_reward = 0\n",
    "while not done:\n",
    "    action = best_agent.predict(state, deterministic=True)[0]\n",
    "    state, reward, done, info = env.step(action)\n",
    "    log.log(reward=reward)\n",
    "\n",
    "log.done_logging()"
   ]
  },
  {
   "cell_type": "code",
   "execution_count": null,
   "id": "658ef6e7-7e2e-4971-9af8-d9ef6e7a17da",
   "metadata": {},
   "outputs": [],
   "source": [
    "plt.plot(log.x, log.y)"
   ]
  },
  {
   "cell_type": "code",
   "execution_count": null,
   "id": "0e88af50-2281-4446-b745-58cc6d56036d",
   "metadata": {},
   "outputs": [],
   "source": [
    "plt.scatter(log.target.position[:,0], log.target.position[:,1], c=range(len(log.target.position)))\n",
    "plt.scatter(log.states[:,12], log.states[:,13], marker='x', color='red')"
   ]
  },
  {
   "cell_type": "code",
   "execution_count": null,
   "id": "278a801f-2ae9-48f0-87aa-7aa879c9d9b6",
   "metadata": {},
   "outputs": [],
   "source": [
    "np.sum(log.reward)"
   ]
  },
  {
   "cell_type": "markdown",
   "id": "6911ae70-3d53-4893-b65d-1d61d6abd0a5",
   "metadata": {},
   "source": [
    "## South"
   ]
  },
  {
   "cell_type": "markdown",
   "id": "f30f9839-1e2e-4be6-8cbe-c850aaef5217",
   "metadata": {},
   "source": [
    "### 5 m/s wind"
   ]
  },
  {
   "cell_type": "code",
   "execution_count": null,
   "id": "45216f87-0f8a-4baa-9c88-0cca8eee72e2",
   "metadata": {},
   "outputs": [],
   "source": [
    "wind_range = all_wind_ranges[4]\n",
    "env = get_long_env(best_params, wind_range)"
   ]
  },
  {
   "cell_type": "code",
   "execution_count": null,
   "id": "70347fea-0abb-435b-aec5-a3558622d2e5",
   "metadata": {},
   "outputs": [],
   "source": [
    "done = False\n",
    "state = env.reset()\n",
    "log = DataLog(env.base_env.vehicle, env.base_env.ctrl,\n",
    "                  other_vars=('reward',))\n",
    "while not done:\n",
    "    action = best_agent.predict(state, deterministic=True)[0]\n",
    "    state, reward, done, info = env.step(action)\n",
    "    log.log(reward=reward)\n",
    "\n",
    "log.done_logging()"
   ]
  },
  {
   "cell_type": "code",
   "execution_count": null,
   "id": "abba5993-e363-4505-bd5e-4a9f16b928d9",
   "metadata": {},
   "outputs": [],
   "source": [
    "plt.plot(log.x, log.y)"
   ]
  },
  {
   "cell_type": "code",
   "execution_count": null,
   "id": "7f2af91b-5e41-4cf1-96d8-2aad903d115b",
   "metadata": {},
   "outputs": [],
   "source": [
    "plt.scatter(log.target.position[:,0], log.target.position[:,1], c=range(len(log.target.position)))\n",
    "plt.scatter(log.states[:,12], log.states[:,13], marker='x', color='red')"
   ]
  },
  {
   "cell_type": "code",
   "execution_count": null,
   "id": "5e63f377-6f03-44b1-aeec-c3da9e2e6b9c",
   "metadata": {},
   "outputs": [],
   "source": [
    "np.sum(log.reward)"
   ]
  },
  {
   "cell_type": "markdown",
   "id": "7baa275b-f0ab-4853-b58e-d3cf53b3995f",
   "metadata": {},
   "source": [
    "### 7 m/s wind"
   ]
  },
  {
   "cell_type": "code",
   "execution_count": null,
   "id": "673365ee-5dac-4656-aae7-c9dd31d157c1",
   "metadata": {},
   "outputs": [],
   "source": [
    "wind_range = all_wind_ranges[5]\n",
    "env = get_long_env(best_params, wind_range)"
   ]
  },
  {
   "cell_type": "code",
   "execution_count": null,
   "id": "e81363fb-7d1e-4ed0-9752-c9e61ce06c1b",
   "metadata": {},
   "outputs": [],
   "source": [
    "done = False\n",
    "state = env.reset()\n",
    "log = DataLog(env.base_env.vehicle, env.base_env.ctrl,\n",
    "                  other_vars=('reward',))\n",
    "\n",
    "vels = []\n",
    "total_reward = 0\n",
    "while not done:\n",
    "    action = best_agent.predict(state, deterministic=True)[0]\n",
    "    vels.append(action)\n",
    "    state, reward, done, info = env.step(action)\n",
    "    log.log(reward=reward)\n",
    "\n",
    "vels = np.array(vels)\n",
    "log.done_logging()"
   ]
  },
  {
   "cell_type": "code",
   "execution_count": null,
   "id": "ef4a9a1a-2038-49e4-bb56-e6e5c23baaea",
   "metadata": {},
   "outputs": [],
   "source": [
    "plt.plot(log.x, log.y)"
   ]
  },
  {
   "cell_type": "code",
   "execution_count": null,
   "id": "e0085883-6964-4865-8423-674a587a6e15",
   "metadata": {},
   "outputs": [],
   "source": [
    "plt.plot(log.velocity[:,1], label='vel')\n",
    "plt.plot(log.target.velocity[:,1], label='target vel')\n",
    "plt.plot(vels[:,1]*15, label='agent actions')\n",
    "plt.legend()"
   ]
  },
  {
   "cell_type": "code",
   "execution_count": null,
   "id": "c2ee74eb-1cd5-4624-af20-324581122a23",
   "metadata": {},
   "outputs": [],
   "source": [
    "plt.scatter(log.target.position[:,0], log.target.position[:,1], c=range(len(log.target.position)))\n",
    "plt.scatter(log.states[:,12], log.states[:,13], marker='x', color='red')"
   ]
  },
  {
   "cell_type": "code",
   "execution_count": null,
   "id": "d84018e4-3b4d-4d0c-90c5-f5b3159dc2e4",
   "metadata": {},
   "outputs": [],
   "source": [
    "np.sum(log.reward)"
   ]
  },
  {
   "cell_type": "markdown",
   "id": "2f5e4662-41e9-44cf-b582-b8194a77dcef",
   "metadata": {},
   "source": [
    "### 10 m/s wind"
   ]
  },
  {
   "cell_type": "code",
   "execution_count": null,
   "id": "6b4c09bd-1746-49ca-98a3-a7916f192694",
   "metadata": {},
   "outputs": [],
   "source": [
    "wind_range = all_wind_ranges[6]\n",
    "env = get_long_env(best_params, wind_range)"
   ]
  },
  {
   "cell_type": "code",
   "execution_count": null,
   "id": "e94f6d24-0aaf-46b5-a170-d5d8a5cff4f5",
   "metadata": {},
   "outputs": [],
   "source": [
    "done = False\n",
    "state = env.reset()\n",
    "log = DataLog(env.base_env.vehicle, env.base_env.ctrl,\n",
    "                  other_vars=('reward',))\n",
    "\n",
    "total_reward = 0\n",
    "vels = []\n",
    "while not done:\n",
    "    action = best_agent.predict(state, deterministic=True)[0]\n",
    "    vels.append(action)\n",
    "    state, reward, done, info = env.step(action)\n",
    "    log.log(reward=reward)\n",
    "\n",
    "log.done_logging()"
   ]
  },
  {
   "cell_type": "code",
   "execution_count": null,
   "id": "f7fd9cd0-e084-4a7c-a1c7-3a80579c78a1",
   "metadata": {},
   "outputs": [],
   "source": [
    "plt.plot(log.x, log.y)"
   ]
  },
  {
   "cell_type": "code",
   "execution_count": null,
   "id": "09f61e38-be82-4136-b415-b5de751b8162",
   "metadata": {},
   "outputs": [],
   "source": [
    "plt.plot(np.array(vels)[:,1]*15)"
   ]
  },
  {
   "cell_type": "code",
   "execution_count": null,
   "id": "5d1c91f0-edae-47f9-aaaf-c7500bda5cbf",
   "metadata": {},
   "outputs": [],
   "source": [
    "plt.scatter(log.target.position[:,0], log.target.position[:,1], c=range(len(log.target.position)))\n",
    "plt.scatter(log.states[:,12], log.states[:,13], marker='x', color='red')"
   ]
  },
  {
   "cell_type": "code",
   "execution_count": null,
   "id": "3dc1d0fd-3af3-4f2f-9205-0e0aa9d1094f",
   "metadata": {},
   "outputs": [],
   "source": [
    "np.sum(log.reward)"
   ]
  },
  {
   "cell_type": "markdown",
   "id": "b50a7353-8ae4-4853-828b-9f8dbe3132c8",
   "metadata": {},
   "source": [
    "## East"
   ]
  },
  {
   "cell_type": "markdown",
   "id": "5f5cda35-c87b-466c-9b3a-be8b2f27743e",
   "metadata": {},
   "source": [
    "### 5 m/s wind"
   ]
  },
  {
   "cell_type": "code",
   "execution_count": null,
   "id": "44dc33fa-07d2-460c-b257-9e007c35d4be",
   "metadata": {},
   "outputs": [],
   "source": [
    "wind_range = all_wind_ranges[7]\n",
    "env = get_long_env(best_params, wind_range)"
   ]
  },
  {
   "cell_type": "code",
   "execution_count": null,
   "id": "95f70158-ef84-4230-a7e6-773a1876a48c",
   "metadata": {},
   "outputs": [],
   "source": [
    "done = False\n",
    "state = env.reset()\n",
    "log = DataLog(env.base_env.vehicle, env.base_env.ctrl,\n",
    "                  other_vars=('reward',))\n",
    "while not done:\n",
    "    action = best_agent.predict(state, deterministic=True)[0]\n",
    "    state, reward, done, info = env.step(action)\n",
    "    log.log(reward=reward)\n",
    "\n",
    "log.done_logging()"
   ]
  },
  {
   "cell_type": "code",
   "execution_count": null,
   "id": "f76b1d16-3f24-44cd-acfd-457d502c2225",
   "metadata": {},
   "outputs": [],
   "source": [
    "plt.plot(log.x, log.y)"
   ]
  },
  {
   "cell_type": "code",
   "execution_count": null,
   "id": "21addfb7-a217-4a88-b75c-8c93325a0e27",
   "metadata": {},
   "outputs": [],
   "source": [
    "plt.scatter(log.target.position[:,0], log.target.position[:,1], c=range(len(log.target.position)))\n",
    "plt.scatter(log.states[:,12], log.states[:,13], marker='x', color='red')"
   ]
  },
  {
   "cell_type": "code",
   "execution_count": null,
   "id": "507f1a2e-1074-44a3-a9ac-df9459a905d5",
   "metadata": {},
   "outputs": [],
   "source": [
    "np.sum(log.reward)"
   ]
  },
  {
   "cell_type": "markdown",
   "id": "ceab1430-3bdb-4ebd-b582-26dee45165fc",
   "metadata": {},
   "source": [
    "### 7 m/s wind"
   ]
  },
  {
   "cell_type": "code",
   "execution_count": null,
   "id": "3a8d1b7f-d6fd-4571-ac1a-05a137dc25c9",
   "metadata": {},
   "outputs": [],
   "source": [
    "wind_range = all_wind_ranges[8]\n",
    "env = get_long_env(best_params, wind_range)"
   ]
  },
  {
   "cell_type": "code",
   "execution_count": null,
   "id": "6611d71c-9abe-4ad8-bd9f-6c5e19fd2b16",
   "metadata": {},
   "outputs": [],
   "source": [
    "done = False\n",
    "state = env.reset()\n",
    "log = DataLog(env.base_env.vehicle, env.base_env.ctrl,\n",
    "                  other_vars=('reward',))\n",
    "\n",
    "total_reward = 0\n",
    "while not done:\n",
    "    action = best_agent.predict(state, deterministic=True)[0]\n",
    "    state, reward, done, info = env.step(action)\n",
    "    log.log(reward=reward)\n",
    "\n",
    "log.done_logging()"
   ]
  },
  {
   "cell_type": "code",
   "execution_count": null,
   "id": "9ba3267b-60d0-466d-a843-0fea894d982e",
   "metadata": {},
   "outputs": [],
   "source": [
    "plt.plot(log.x, log.y)"
   ]
  },
  {
   "cell_type": "code",
   "execution_count": null,
   "id": "6137be7b-c038-45ea-a8da-b8b0ed2e1733",
   "metadata": {},
   "outputs": [],
   "source": [
    "plt.scatter(log.target.position[:,0], log.target.position[:,1], c=range(len(log.target.position)))\n",
    "plt.scatter(log.states[:,12], log.states[:,13], marker='x', color='red')"
   ]
  },
  {
   "cell_type": "code",
   "execution_count": null,
   "id": "b46ea1ec-24e7-463e-be3b-4e88f4a5f606",
   "metadata": {},
   "outputs": [],
   "source": [
    "np.sum(log.reward)"
   ]
  },
  {
   "cell_type": "markdown",
   "id": "707da331-5cbf-49be-8751-18a4c92f898c",
   "metadata": {},
   "source": [
    "### 10 m/s wind"
   ]
  },
  {
   "cell_type": "code",
   "execution_count": null,
   "id": "a2da8b9b-471f-4084-8d5b-fd7ec7953218",
   "metadata": {},
   "outputs": [],
   "source": [
    "wind_range = all_wind_ranges[9]\n",
    "env = get_long_env(best_params, wind_range)"
   ]
  },
  {
   "cell_type": "code",
   "execution_count": null,
   "id": "9f4c144e-8d29-43b0-a575-1070e2231c15",
   "metadata": {},
   "outputs": [],
   "source": [
    "done = False\n",
    "state = env.reset()\n",
    "log = DataLog(env.base_env.vehicle, env.base_env.ctrl,\n",
    "                  other_vars=('reward',))\n",
    "\n",
    "total_reward = 0\n",
    "while not done:\n",
    "    action = best_agent.predict(state, deterministic=True)[0]\n",
    "    state, reward, done, info = env.step(action)\n",
    "    log.log(reward=reward)\n",
    "\n",
    "log.done_logging()"
   ]
  },
  {
   "cell_type": "code",
   "execution_count": null,
   "id": "d02259cd-714d-4b64-b381-ca040692b3ac",
   "metadata": {},
   "outputs": [],
   "source": [
    "plt.plot(log.x, log.y)"
   ]
  },
  {
   "cell_type": "code",
   "execution_count": null,
   "id": "926dfa8c-d520-4765-bb98-0ab8e29fb022",
   "metadata": {},
   "outputs": [],
   "source": [
    "plt.scatter(log.target.position[:,0], log.target.position[:,1], c=range(len(log.target.position)))\n",
    "plt.scatter(log.states[:,12], log.states[:,13], marker='x', color='red')"
   ]
  },
  {
   "cell_type": "code",
   "execution_count": null,
   "id": "c645e719-bee2-4942-87bd-a29b63fcd986",
   "metadata": {},
   "outputs": [],
   "source": [
    "np.sum(log.reward)"
   ]
  },
  {
   "cell_type": "markdown",
   "id": "550d3892-164f-4d8c-a9fc-eff11c8d1a7a",
   "metadata": {},
   "source": [
    "## West"
   ]
  },
  {
   "cell_type": "markdown",
   "id": "511b142d-c4d2-48f1-afa1-03705b6ec5df",
   "metadata": {},
   "source": [
    "### 5 m/s wind"
   ]
  },
  {
   "cell_type": "code",
   "execution_count": null,
   "id": "9fd1166e-14dc-42bd-8621-22be074f54bb",
   "metadata": {},
   "outputs": [],
   "source": [
    "wind_range = all_wind_ranges[10]\n",
    "env = get_long_env(best_params, wind_range)"
   ]
  },
  {
   "cell_type": "code",
   "execution_count": null,
   "id": "1ac633d8-a91e-42ef-b5f3-2ad41bc1a6a9",
   "metadata": {},
   "outputs": [],
   "source": [
    "done = False\n",
    "state = env.reset()\n",
    "log = DataLog(env.base_env.vehicle, env.base_env.ctrl,\n",
    "                  other_vars=('reward',))\n",
    "while not done:\n",
    "    action = best_agent.predict(state, deterministic=True)[0]\n",
    "    state, reward, done, info = env.step(action)\n",
    "    log.log(reward=reward)\n",
    "\n",
    "log.done_logging()"
   ]
  },
  {
   "cell_type": "code",
   "execution_count": null,
   "id": "48e7e744-7719-490c-a496-c2579087f21e",
   "metadata": {},
   "outputs": [],
   "source": [
    "plt.plot(log.x, log.y)"
   ]
  },
  {
   "cell_type": "code",
   "execution_count": null,
   "id": "152975c5-076a-49b0-9305-a0cc77eeb53f",
   "metadata": {},
   "outputs": [],
   "source": [
    "plt.scatter(log.target.position[:,0], log.target.position[:,1], c=range(len(log.target.position)))\n",
    "plt.scatter(log.states[:,12], log.states[:,13], marker='x', color='red')"
   ]
  },
  {
   "cell_type": "code",
   "execution_count": null,
   "id": "d0ca519e-6ff4-4695-965d-01016b113155",
   "metadata": {},
   "outputs": [],
   "source": [
    "np.sum(log.reward)"
   ]
  },
  {
   "cell_type": "markdown",
   "id": "d32c3f0f-acac-4493-abe8-40ce768e70f8",
   "metadata": {},
   "source": [
    "### 7 m/s wind"
   ]
  },
  {
   "cell_type": "code",
   "execution_count": null,
   "id": "22d9ef17-3c34-453d-82da-aeea5583e52f",
   "metadata": {},
   "outputs": [],
   "source": [
    "wind_range = all_wind_ranges[11]\n",
    "env = get_long_env(best_params, wind_range)"
   ]
  },
  {
   "cell_type": "code",
   "execution_count": null,
   "id": "870ee3d9-8548-4c42-af02-b2d0be888da7",
   "metadata": {},
   "outputs": [],
   "source": [
    "done = False\n",
    "state = env.reset()\n",
    "log = DataLog(env.base_env.vehicle, env.base_env.ctrl,\n",
    "                  other_vars=('reward',))\n",
    "vels = []\n",
    "\n",
    "total_reward = 0\n",
    "while not done:\n",
    "    action = best_agent.predict(state, deterministic=True)[0]\n",
    "    vels.append(action)\n",
    "    state, reward, done, info = env.step(action)\n",
    "    log.log(reward=reward)\n",
    "\n",
    "log.done_logging()\n",
    "vels = np.array(vels)"
   ]
  },
  {
   "cell_type": "code",
   "execution_count": null,
   "id": "a8ea9276-a10d-4116-b36c-3897ef4efb09",
   "metadata": {},
   "outputs": [],
   "source": [
    "plt.title(\"Wind 7 m/s West\")\n",
    "plt.plot(log.x, log.y)"
   ]
  },
  {
   "cell_type": "code",
   "execution_count": null,
   "id": "cadf84d2-1d8d-4737-b3e9-4e9655ba3fec",
   "metadata": {},
   "outputs": [],
   "source": [
    "plt.title(\"Agent Actions for 7 m/s Wind West\")\n",
    "plt.scatter(log.target.position[:,0], log.target.position[:,1], c=range(len(log.target.position)))\n",
    "plt.scatter(log.states[:,12], log.states[:,13], marker='x', color='red')\n",
    "# plt.xlim(30, 37)"
   ]
  },
  {
   "cell_type": "code",
   "execution_count": null,
   "id": "a748d9fd-1541-418b-8fe7-667617812c69",
   "metadata": {},
   "outputs": [],
   "source": [
    "plt.title(\"Agent Actions for 7 m/s Wind West\")\n",
    "# plt.scatter(log.target.position[:,0], log.target.position[:,1], c=range(len(log.target.position)))\n",
    "plt.scatter(log.x, log.y, c=np.linalg.norm(vels, axis=1), label='Speed')"
   ]
  },
  {
   "cell_type": "code",
   "execution_count": null,
   "id": "6cc22ffd-2e5c-42eb-9299-f3a8f28bcb1a",
   "metadata": {},
   "outputs": [],
   "source": [
    "plt.title(\"X Velocity 7 m/s Wind West\")\n",
    "plt.plot(log.velocity[:,0])\n",
    "plt.xlabel(\"Timesteps\")"
   ]
  },
  {
   "cell_type": "code",
   "execution_count": null,
   "id": "9652beb0-4e26-4db3-8d54-87c456ed6dca",
   "metadata": {},
   "outputs": [],
   "source": [
    "np.sum(log.reward)"
   ]
  },
  {
   "cell_type": "markdown",
   "id": "95c93331-1c18-4a7b-829a-6a05b84e1d30",
   "metadata": {},
   "source": [
    "### 10 m/s wind"
   ]
  },
  {
   "cell_type": "code",
   "execution_count": null,
   "id": "4db801cf-9c0b-4b60-b35e-24535b472fd5",
   "metadata": {},
   "outputs": [],
   "source": [
    "wind_range = all_wind_ranges[12]\n",
    "env = get_long_env(best_params, wind_range)"
   ]
  },
  {
   "cell_type": "code",
   "execution_count": null,
   "id": "72674984-f6ce-4bb5-ab6d-9af1fed511f0",
   "metadata": {},
   "outputs": [],
   "source": [
    "done = False\n",
    "state = env.reset()\n",
    "log = DataLog(env.base_env.vehicle, env.base_env.ctrl,\n",
    "                  other_vars=('reward',))\n",
    "vels = []\n",
    "\n",
    "total_reward = 0\n",
    "while not done:\n",
    "    action = best_agent.predict(state, deterministic=True)[0]\n",
    "    vels.append(action)\n",
    "    state, reward, done, info = env.step(action)\n",
    "    log.log(reward=reward)\n",
    "\n",
    "vels = np.array(vels)\n",
    "log.done_logging()"
   ]
  },
  {
   "cell_type": "code",
   "execution_count": null,
   "id": "e69a2245-1a22-4d9c-86e0-b1d7c39caa85",
   "metadata": {},
   "outputs": [],
   "source": [
    "plt.title(\"Wind 10 m/s West\")\n",
    "plt.plot(log.x, log.y)"
   ]
  },
  {
   "cell_type": "code",
   "execution_count": null,
   "id": "25356769-c89e-4ff5-a49d-ba2c7960adcd",
   "metadata": {},
   "outputs": [],
   "source": [
    "plt.title(\"Agent Actions for 10 m/s Wind West\")\n",
    "plt.scatter(log.target.position[:,0], log.target.position[:,1], c=range(len(log.target.position)))\n",
    "plt.scatter(log.states[:,12], log.states[:,13], marker='x', color='red')\n",
    "plt.ylim(-5,100)\n",
    "plt.xlim(30, 37)"
   ]
  },
  {
   "cell_type": "code",
   "execution_count": null,
   "id": "eea75ef0-4268-4b87-88ce-0c46cc0a7df5",
   "metadata": {},
   "outputs": [],
   "source": [
    "plt.title(\"X Velocity 10 m/s West Wind\")\n",
    "plt.plot(log.velocity[:,0])"
   ]
  },
  {
   "cell_type": "code",
   "execution_count": null,
   "id": "3e0cf56a-84d5-4a29-b1ff-8dd3aca877b5",
   "metadata": {},
   "outputs": [],
   "source": [
    "np.sum(log.reward)"
   ]
  },
  {
   "cell_type": "code",
   "execution_count": null,
   "id": "6927d83d-110c-461c-af69-6317a16ae783",
   "metadata": {},
   "outputs": [],
   "source": [
    "plt.plot(log.velocity[:,0], label='vel')\n",
    "plt.plot(log.target.velocity[:,0], label='target vel')\n",
    "plt.plot(vels[:,0]*(best_params['scaling_factor']/2), label='agent action')\n",
    "plt.legend()"
   ]
  },
  {
   "cell_type": "code",
   "execution_count": null,
   "id": "2d40890d-bc70-456a-8b78-8e1e5ba7df56",
   "metadata": {},
   "outputs": [],
   "source": [
    "def calculate_safe_sliding_bound(reference_point, intersection_point, distance=5):\n",
    "        reference_point = np.array(reference_point)\n",
    "        intersection_point = np.array(intersection_point)\n",
    "        \n",
    "        # Calculate the vector from the point to the reference point\n",
    "        vector_to_reference = reference_point - intersection_point\n",
    "        \n",
    "        # Calculate the distance between the point and the reference point\n",
    "        distance_to_reference = np.linalg.norm(vector_to_reference)\n",
    "        \n",
    "        if distance_to_reference <= distance:\n",
    "            # If the distance is within the specified range, return the reference point\n",
    "            return reference_point\n",
    "        else:\n",
    "            # Calculate the intermediate point that is 'distance' units along the vector_to_reference\n",
    "            intermediate_point = intersection_point + (distance / distance_to_reference) * vector_to_reference\n",
    "            return intermediate_point"
   ]
  },
  {
   "cell_type": "code",
   "execution_count": null,
   "id": "a4da9692-c630-4b49-8b0c-16dd0f71ca79",
   "metadata": {},
   "outputs": [],
   "source": [
    "calculate_safe_sliding_bound([100,0,0], [10,0,0])"
   ]
  },
  {
   "cell_type": "code",
   "execution_count": null,
   "id": "64fb9431-6d97-4363-b9ab-3281dd1b72be",
   "metadata": {},
   "outputs": [],
   "source": [
    "plt.plot(log.velocity[:,1], label='vel')\n",
    "plt.plot(log.target.velocity[:,1], label='target vel')\n",
    "plt.legend()"
   ]
  },
  {
   "cell_type": "code",
   "execution_count": null,
   "id": "945f708e-1679-4dd2-a3fc-55124974a39a",
   "metadata": {},
   "outputs": [],
   "source": [
    "plt.title(\"Agent Actions for 10 m/s Wind West\")\n",
    "plt.scatter(log.target.position[:,0], log.target.position[:,1], c=range(len(log.target.position)))\n",
    "# plt.scatter(log.x, log.y, c=log.target.velocity[:,0])\n",
    "# plt.xlim(30, 37)"
   ]
  },
  {
   "cell_type": "code",
   "execution_count": null,
   "id": "b70d58b0-02a7-4671-b06d-3163a6bf9cd9",
   "metadata": {},
   "outputs": [],
   "source": [
    "plt.scatter(log.states[:,18], log.states[:,19])"
   ]
  }
 ],
 "metadata": {
  "kernelspec": {
   "display_name": "Python 3 (ipykernel)",
   "language": "python",
   "name": "python3"
  },
  "language_info": {
   "codemirror_mode": {
    "name": "ipython",
    "version": 3
   },
   "file_extension": ".py",
   "mimetype": "text/x-python",
   "name": "python",
   "nbconvert_exporter": "python",
   "pygments_lexer": "ipython3",
   "version": "3.9.17"
  }
 },
 "nbformat": 4,
 "nbformat_minor": 5
}
