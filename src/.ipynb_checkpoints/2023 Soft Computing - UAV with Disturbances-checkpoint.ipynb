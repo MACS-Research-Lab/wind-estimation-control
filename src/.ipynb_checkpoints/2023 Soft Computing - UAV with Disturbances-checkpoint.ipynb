{
 "cells": [
  {
   "cell_type": "markdown",
   "id": "7fc2ce7b",
   "metadata": {},
   "source": [
    "### setup"
   ]
  },
  {
   "cell_type": "code",
   "execution_count": 1,
   "id": "22b179f8",
   "metadata": {},
   "outputs": [
    {
     "ename": "ModuleNotFoundError",
     "evalue": "No module named 'pyscurve'",
     "output_type": "error",
     "traceback": [
      "\u001b[0;31m---------------------------------------------------------------------------\u001b[0m",
      "\u001b[0;31mModuleNotFoundError\u001b[0m                       Traceback (most recent call last)",
      "Cell \u001b[0;32mIn[1], line 22\u001b[0m\n\u001b[1;32m     20\u001b[0m \u001b[38;5;28;01mfrom\u001b[39;00m \u001b[38;5;21;01mmultirotor\u001b[39;00m\u001b[38;5;21;01m.\u001b[39;00m\u001b[38;5;21;01mcontroller\u001b[39;00m \u001b[38;5;28;01mimport\u001b[39;00m Controller\n\u001b[1;32m     21\u001b[0m \u001b[38;5;28;01mfrom\u001b[39;00m \u001b[38;5;21;01mmultirotor\u001b[39;00m\u001b[38;5;21;01m.\u001b[39;00m\u001b[38;5;21;01mtrajectories\u001b[39;00m \u001b[38;5;28;01mimport\u001b[39;00m Trajectory\n\u001b[0;32m---> 22\u001b[0m \u001b[38;5;28;01mfrom\u001b[39;00m \u001b[38;5;21;01mmultirotor\u001b[39;00m\u001b[38;5;21;01m.\u001b[39;00m\u001b[38;5;21;01mcontroller\u001b[39;00m\u001b[38;5;21;01m.\u001b[39;00m\u001b[38;5;21;01mscurves\u001b[39;00m \u001b[38;5;28;01mimport\u001b[39;00m SCurveController\n\u001b[1;32m     23\u001b[0m \u001b[38;5;28;01mfrom\u001b[39;00m \u001b[38;5;21;01msystems\u001b[39;00m\u001b[38;5;21;01m.\u001b[39;00m\u001b[38;5;21;01mmultirotor\u001b[39;00m \u001b[38;5;28;01mimport\u001b[39;00m MultirotorTrajEnv, VP\n\u001b[1;32m     24\u001b[0m \u001b[38;5;28;01mfrom\u001b[39;00m \u001b[38;5;21;01mmultirotor\u001b[39;00m\u001b[38;5;21;01m.\u001b[39;00m\u001b[38;5;21;01mcontroller\u001b[39;00m \u001b[38;5;28;01mimport\u001b[39;00m (\n\u001b[1;32m     25\u001b[0m     AltController, AltRateController,\n\u001b[1;32m     26\u001b[0m     PosController, AttController,\n\u001b[1;32m     27\u001b[0m     VelController, RateController,\n\u001b[1;32m     28\u001b[0m     Controller\n\u001b[1;32m     29\u001b[0m )\n",
      "File \u001b[0;32m~/projects/transfer_similarity/src/vendor/multirotor/multirotor/controller/scurves.py:7\u001b[0m\n\u001b[1;32m      5\u001b[0m \u001b[38;5;28;01mfrom\u001b[39;00m \u001b[38;5;21;01m.\u001b[39;00m\u001b[38;5;21;01mpid\u001b[39;00m \u001b[38;5;28;01mimport\u001b[39;00m Controller\n\u001b[1;32m      6\u001b[0m \u001b[38;5;28;01mfrom\u001b[39;00m \u001b[38;5;21;01m.\u001b[39;00m\u001b[38;5;21;01m.\u001b[39;00m\u001b[38;5;21;01mhelpers\u001b[39;00m \u001b[38;5;28;01mimport\u001b[39;00m get_vehicle_ability\n\u001b[0;32m----> 7\u001b[0m \u001b[38;5;28;01mfrom\u001b[39;00m \u001b[38;5;21;01mpyscurve\u001b[39;00m \u001b[38;5;28;01mimport\u001b[39;00m ScurvePlanner\n\u001b[1;32m      8\u001b[0m \u001b[38;5;28;01mfrom\u001b[39;00m \u001b[38;5;21;01mpyscurve\u001b[39;00m\u001b[38;5;21;01m.\u001b[39;00m\u001b[38;5;21;01mscurve\u001b[39;00m \u001b[38;5;28;01mimport\u001b[39;00m PlanningError\n\u001b[1;32m     12\u001b[0m \u001b[38;5;28;01mclass\u001b[39;00m \u001b[38;5;21;01mSCurveController\u001b[39;00m:\n",
      "\u001b[0;31mModuleNotFoundError\u001b[0m: No module named 'pyscurve'"
     ]
    }
   ],
   "source": [
    "%reload_ext autoreload\n",
    "%autoreload 2\n",
    "%matplotlib inline\n",
    "\n",
    "import notebook_setup\n",
    "from typing import Union, Iterable, List\n",
    "from copy import deepcopy\n",
    "import matplotlib.pyplot as plt\n",
    "import numpy as np\n",
    "import pandas as pd\n",
    "import torch\n",
    "import torch.nn as nn\n",
    "from tqdm.autonotebook import tqdm, trange\n",
    "import optuna\n",
    "\n",
    "from rl import learn_rl, transform_rl_policy, evaluate_rl, PPO, load_agent\n",
    "from multirotor.simulation import Multirotor\n",
    "from multirotor.helpers import DataLog\n",
    "from multirotor.visualize import plot_datalog\n",
    "from multirotor.controller import Controller\n",
    "from multirotor.trajectories import Trajectory\n",
    "# from multirotor.controller.scurves import SCurveController\n",
    "from systems.multirotor import MultirotorTrajEnv, VP\n",
    "from multirotor.controller import (\n",
    "    AltController, AltRateController,\n",
    "    PosController, AttController,\n",
    "    VelController, RateController,\n",
    "    Controller\n",
    ")\n",
    "from scripts.opt_pidcontroller import (\n",
    "    get_controller, make_disturbance_fn,\n",
    "    apply_params as apply_params_pid, get_study as get_study_pid\n",
    ")\n",
    "from scripts.opt_multirotorenv import apply_params, get_study"
   ]
  },
  {
   "cell_type": "markdown",
   "id": "66873462",
   "metadata": {
    "heading_collapsed": true
   },
   "source": [
    "## Helper functions"
   ]
  },
  {
   "cell_type": "code",
   "execution_count": null,
   "id": "00c8a959",
   "metadata": {
    "code_folding": [],
    "hidden": true
   },
   "outputs": [],
   "source": [
    "# PID or PPO\n",
    "# Alloc or Traj\n",
    "def run_sim(\n",
    "    env: MultirotorTrajEnv, traj: Trajectory,\n",
    "    ctrl: Union[Controller, PPO, None],\n",
    "    max_steps=2_000, relative=None, verbose=False\n",
    ") -> DataLog:\n",
    "    if not isinstance(traj, Trajectory):\n",
    "        traj = Trajectory(env.vehicle, traj, proximity=env._proximity, resolution=env.bounding_box/2)\n",
    "    log = DataLog(env.vehicle, ctrl if isinstance(ctrl, Controller) else env.ctrl,\n",
    "                  other_vars=('reward',))\n",
    "    if isinstance(ctrl, PPO):\n",
    "        pidctrl = env.ctrl\n",
    "        predict_fn = lambda x: ctrl.predict(x, deterministic=True)[0]\n",
    "    elif ctrl is None or isinstance(ctrl, Controller):\n",
    "        ctrl = pidctrl = env.ctrl\n",
    "        predict_fn = lambda x: env.normalize_action(np.zeros(env.action_space.shape, env.vehicle.dtype))\n",
    "    \n",
    "    if verbose:\n",
    "        iterator = tqdm(enumerate(traj), leave=False, total=max_steps // env.steps_u)\n",
    "    else:\n",
    "        iterator = enumerate(traj)\n",
    "    for i, (pos, feed_forward_vel) in iterator:\n",
    "        # Get prescribed normalized action for system as thrust and torques\n",
    "        action = predict_fn(env.state)\n",
    "        # Send speeds to environment\n",
    "        state, r, done, *_, i = env.step(action)\n",
    "        log.log(reward=r)\n",
    "        if done:\n",
    "            if verbose:\n",
    "                print(i)\n",
    "            break\n",
    "\n",
    "    log.done_logging()\n",
    "    return log\n",
    "\n",
    "def run_trajectory(\n",
    "    env, traj: Union[Trajectory, Iterable], ctrl=None, verbose=False, reset_zero=True, log=None\n",
    ") -> DataLog:\n",
    "    if reset_zero:\n",
    "        env.reset(np.zeros(12)) # resets controller too\n",
    "    if log is None:\n",
    "        old_wp = np.zeros(3)\n",
    "        pos_global = env.vehicle.position\n",
    "    else:\n",
    "        old_wp = log.target.position[-1]\n",
    "        pos_global = log.position[-1]\n",
    "        env.vehicle.x = log.states[-1]\n",
    "        env.x = env.vehicle.x\n",
    "    if not isinstance(traj, Trajectory):\n",
    "        traj = Trajectory(env.vehicle, traj, proximity=env._proximity, resolution=env.bounding_box/2)\n",
    "    params = traj.get_params()\n",
    "    points = traj.generate_trajectory(curr_pos=pos_global)[1:]\n",
    "    for wp in points:\n",
    "        wp_rel = wp - old_wp\n",
    "        pos = env.vehicle.position - wp_rel\n",
    "        state = np.concatenate((pos, env.vehicle.state[3:]))\n",
    "        env.reset(state)\n",
    "        t = Trajectory(env.vehicle, [[0,0,0]], **params)\n",
    "        l = run_sim(env, t, env.ctrl if ctrl is None else ctrl, verbose=verbose)\n",
    "        if len(l):\n",
    "            l.position[:] += old_wp + wp_rel\n",
    "            l.target.position[:, :3] += old_wp + wp_rel\n",
    "        else:\n",
    "            continue\n",
    "        if log is None:\n",
    "            log = l\n",
    "        else:\n",
    "            log.append(l, relative=True)\n",
    "        old_wp = wp\n",
    "    return log\n",
    "\n",
    "def run_comparison(env_fns, agents, n=5) -> List[List[float]]:\n",
    "    R, S = [], []\n",
    "    for ctrl, env_fn in tqdm(zip(agents, env_fns), leave=False, total=len(agents)):\n",
    "        env = env_fn()\n",
    "        r = []\n",
    "        for i in trange(n, leave=False):\n",
    "            env.reset()\n",
    "            traj = Trajectory(env.vehicle, [[0,0,0]], proximity=0.1)\n",
    "            log = run_sim(env, traj, ctrl, verbose=False)\n",
    "            r.append(log.reward.sum())\n",
    "        R.append(r)\n",
    "        S.append(np.std(r))\n",
    "    return R\n",
    "\n",
    "def get_log_df(agent):\n",
    "    return get_tensorboard_scalar_frame(agent.logger.dir)\n",
    "\n",
    "# Trajectory Env\n",
    "def get_env(params={}, scurve=False, **kwargs):  \n",
    "    kw = dict(\n",
    "        bounding_box=20,\n",
    "        vp=VP,get_controller_fn=lambda m: get_controller(m, scurve),\n",
    "        steps_u=params.get('steps_u', 1),\n",
    "        scaling_factor=params.get('scaling_factor', 1.),\n",
    "        seed=0)\n",
    "    kw.update(kwargs)\n",
    "    return MultirotorTrajEnv(**kw)\n",
    "\n",
    "def get_wind_quiver(heading: str, ax: plt.Axes, n=5, dim=2):\n",
    "    angle = float(heading.split('@')[-1]) * np.pi / 180\n",
    "    dx, dy = -np.cos(angle), -np.sin(angle)\n",
    "    xlim, ylim = ax.get_xlim(), ax.get_ylim()\n",
    "    if dim==3:\n",
    "        zlim = ax.get_zlim()\n",
    "        dz = 0\n",
    "        x,y,z = np.meshgrid(np.linspace(*xlim, num=n), np.linspace(*ylim, num=n), np.linspace(*zlim, num=n),\n",
    "                      indexing='xy')\n",
    "        return x,y,z,dx,dy,dz\n",
    "    else:\n",
    "        x,y = np.meshgrid(np.linspace(*xlim, num=n), np.linspace(*ylim, num=n),\n",
    "                      indexing='xy')\n",
    "        return x,y,dx,dy\n",
    "\n",
    "nasa_wp = np.asarray([\n",
    "    [0.0, 0.0, 30.0],\n",
    "    [164.0146725649829, -0.019177722744643688, 30.0],\n",
    "    [165.6418055187678, 111.5351051245816, 30.0],\n",
    "    [127.3337449710234, 165.73576059611514, 30.0],\n",
    "    [-187.28170707810204, 170.33217775914818, 45.0],\n",
    "    [-192.03130502498243, 106.30660058604553, 45.0],\n",
    "    [115.89920266153058, 100.8644210617058, 30.0],\n",
    "    [114.81859536317643, 26.80923518165946, 30.0],\n",
    "    [-21.459931490011513, 32.60508110653609, 30.0]\n",
    "])\n",
    "wp = np.asarray([\n",
    "    [10, 0, 0],\n",
    "    [10, 10, 0],\n",
    "    [0, 10, 0],\n",
    "    [0, 0, 0]\n",
    "])\n",
    "def params_to_labels(params):\n",
    "    param_dict = {\n",
    "        'steps_u':'(f_{RL} \\delta t)^{-1}',\n",
    "        'n_epochs':'epochs',\n",
    "        'pid-p.k_i': 'position k_i',\n",
    "        'pid-r_pitch_roll.max_acceleration': 'rate max_{acc}',\n",
    "        'pid-a_pitch_roll.k_p': 'attitude k_p',\n",
    "        'pid-r_pitch_roll.k_d': 'rate k_d',\n",
    "        'scaling_factor': 'scaling factor' ,\n",
    "        'pid-r_pitch_roll.k_i': 'rate k_i',\n",
    "        'pid-v.k_d': 'velocity k_d',\n",
    "        'pid-v.k_i': 'velocity k_i',\n",
    "        'pid-r_pitch_roll.k_p': 'rate k_p',\n",
    "        'pid-a_pitch_roll.k_i': 'attitude k_i',\n",
    "        'pid-p.k_d': 'position k_d',\n",
    "        'pid-v.k_p': 'velocity k_p',\n",
    "        'pid-a_pitch_roll.k_d': 'attitude k_d',\n",
    "        'pid-p.k_p': 'position k_p',\n",
    "        'learning_rate': 'learning rate',\n",
    "        'n_epochs': 'epochs'\n",
    "    }\n",
    "    kind_dict = dict(p='position', v='velocity', a='attitude', r='rate')\n",
    "    labels = []\n",
    "    return ['$' + param_dict[p] + '$' for p in params]\n",
    "            \n",
    "        "
   ]
  },
  {
   "cell_type": "markdown",
   "id": "019201f3",
   "metadata": {},
   "source": [
    "## PID"
   ]
  },
  {
   "cell_type": "code",
   "execution_count": null,
   "id": "cbf0586e",
   "metadata": {},
   "outputs": [],
   "source": [
    "study_names_pid = (#'MultirotorPIDWind5@90',\n",
    "               'MultirotorPIDWind5@0',\n",
    "               'MultirotorPIDWind5@any',\n",
    "               'MultirotorPID',)\n",
    "labels_pid = (#'PID for 90$\\degree$',\n",
    "          'PID for 0$\\degree$',\n",
    "          'PID for random wind',\n",
    "          'PID for No wind')\n",
    "\n",
    "def get_study_params_pid(name):\n",
    "    pidstudy = get_study_pid(name)\n",
    "    best_pid_params = pidstudy.best_params\n",
    "    return pidstudy, best_pid_params\n",
    "\n",
    "nominal_pidstudy, best_pid_params_nominal = get_study_params_pid('MultirotorPID')\n",
    "\n",
    "pidstudy, best_pid_params = get_study_params_pid('MultirotorPIDWind5@0')"
   ]
  },
  {
   "cell_type": "code",
   "execution_count": null,
   "id": "1ee028ac",
   "metadata": {},
   "outputs": [],
   "source": [
    "points = [[0,0,0],[10,0,0],[20,0,0],[20,10,0],[20,20,0]]\n",
    "traj = Trajectory(None, points, resolution=6)\n",
    "wp = np.asarray(traj.generate_trajectory())\n",
    "plt.scatter(wp[:,0], wp[:,1])"
   ]
  },
  {
   "cell_type": "code",
   "execution_count": null,
   "id": "8dc6ba70",
   "metadata": {},
   "outputs": [],
   "source": [
    "nominal_pidstudy.best_value"
   ]
  },
  {
   "cell_type": "code",
   "execution_count": null,
   "id": "5a9fd4ed",
   "metadata": {},
   "outputs": [],
   "source": [
    "env = get_env({}, scurve=False, seed=0, disturbance_fn=lambda m: np.asarray([0,-0,0]))\n",
    "# env.ctrl.feedforward_weight = 0.\n",
    "\n",
    "plot_agent = None\n",
    "apply_params(env.ctrl, **best_pid_params)\n",
    "env.reset([0,0,0, 0,0,0, 0,0,0, 0,0,0])\n",
    "waypoints = np.asarray([[10,10,0]])\n",
    "traj = Trajectory(env.vehicle, waypoints, resolution=env.bounding_box/2.5, proximity=env._proximity)\n",
    "log = run_trajectory(env, traj, plot_agent, verbose=False)\n",
    "plot_datalog(log)"
   ]
  },
  {
   "cell_type": "markdown",
   "id": "e20d00e9",
   "metadata": {},
   "source": [
    "### PID Disturbances"
   ]
  },
  {
   "cell_type": "code",
   "execution_count": null,
   "id": "5e78d6dc",
   "metadata": {},
   "outputs": [],
   "source": [
    "plot_agent = None\n",
    "\n",
    "env = get_env({}, scurve=False, seed=0, disturbance_fn=lambda m: np.asarray([1,-1,0]))\n",
    "apply_params(env.ctrl, **best_pid_params)\n",
    "env.reset()\n",
    "traj = Trajectory(env.vehicle, nasa_wp, resolution=env.bounding_box/2.5, proximity=env._proximity)\n",
    "log1 = run_trajectory(env, traj, plot_agent, verbose=False)\n",
    "\n",
    "env = get_env({}, scurve=False, seed=0, disturbance_fn=lambda m: np.asarray([0,0,0]))\n",
    "apply_params(env.ctrl, **best_pid_params)\n",
    "env.reset()\n",
    "traj = Trajectory(env.vehicle, nasa_wp, resolution=env.bounding_box/2.5, proximity=env._proximity)\n",
    "log2 = run_trajectory(env, traj, plot_agent, verbose=False)\n",
    "\n",
    "plt.plot(log1.x, log1.y, ls='-', label='disturbance')\n",
    "plt.plot(log2.x, log2.y, ls=':', label='nominal')\n",
    "plt.legend()"
   ]
  },
  {
   "cell_type": "markdown",
   "id": "01d622ab",
   "metadata": {
    "heading_collapsed": true
   },
   "source": [
    "### S-Curves"
   ]
  },
  {
   "cell_type": "code",
   "execution_count": null,
   "id": "eea0649c",
   "metadata": {
    "hidden": true
   },
   "outputs": [],
   "source": [
    "from pyscurve.trajectory import plot_trajectory\n",
    "from pyscurve.scurve import ScurvePlanner\n",
    "traj = ScurvePlanner().plan_trajectory([0], [100], [0], [2], 10, 10, 10)\n",
    "plot_trajectory(env.ctrl.traj, 0.01)"
   ]
  },
  {
   "cell_type": "markdown",
   "id": "2cf36f36",
   "metadata": {},
   "source": [
    "### PID Analysis"
   ]
  },
  {
   "cell_type": "code",
   "execution_count": null,
   "id": "35549a97",
   "metadata": {},
   "outputs": [],
   "source": [
    "# Different RL controllers under the same disturbance\n",
    "heading = '5@0'\n",
    "wp = np.asarray([[10,0,0], [10,10,0], [0,10,0], [0,0,0]])\n",
    "step = 10\n",
    "\n",
    "for label, study_name in zip(labels_pid, study_names_pid):\n",
    "    # path = './tensorboard/MultirotorTrajEnv/optstudy/%s/' % study_name\n",
    "    study = get_study_pid(study_name)\n",
    "    # Best agent using best test performance\n",
    "    df = study.trials_dataframe().sort_values('value', ascending=False)\n",
    "    df = df.reset_index(drop=True)\n",
    "    # best_trial = df['number'][0]\n",
    "    # best_agent = load_agent((path + '%03d/run_1/agent') % best_trial)\n",
    "    \n",
    "    env = get_env(scurve=False, disturbance_fn=make_disturbance_fn(heading))\n",
    "    apply_params_pid(env.ctrl, **study.best_params)\n",
    "    \n",
    "    log = run_trajectory(env, wp, None)\n",
    "    x0, x1 = log.x[::step], log.target.position[::step,0]\n",
    "    y0, y1 = log.y[::step], log.target.position[::step,1]\n",
    "    plt.plot(log.x,log.y, label=label, ls=':')\n",
    "    \n",
    "wx, wy, dx, dy = get_wind_quiver(heading, plt.gca(), n=5)\n",
    "plt.quiver(wx, wy, dx, dy,\n",
    "           scale_units='xy', angles='xy', scale=1, units='dots', width=0.75)\n",
    "plt.scatter(wp[:,0], wp[:,1], marker='x', c='r', s=100)\n",
    "\n",
    "plt.gca().set_aspect('equal', 'box');\n",
    "plt.xlabel('x /m')\n",
    "plt.ylabel('y /m')\n",
    "plt.title(r'Wind: %sN from %s$\\degree$' % (*heading.split('@'),))\n",
    "plt.legend();"
   ]
  },
  {
   "cell_type": "markdown",
   "id": "8c32e9a2",
   "metadata": {},
   "source": [
    "## RL"
   ]
  },
  {
   "cell_type": "markdown",
   "id": "5b798f4d",
   "metadata": {},
   "source": [
    "Fine-tune using `scripts/opt_multirotorenv.py` script. Then load study for analysis."
   ]
  },
  {
   "cell_type": "code",
   "execution_count": null,
   "id": "b26a0315",
   "metadata": {},
   "outputs": [],
   "source": [
    "study_names = (#'MultirotorTrajEnvPIDWind5@90',\n",
    "               'MultirotorTrajEnvPIDWind5@0',\n",
    "               'MultirotorTrajEnv5@any',\n",
    "               'MultirotorTrajEnvPID',\n",
    "              )\n",
    "headings = (#'5@90',\n",
    "            '5@0',\n",
    "            '5@any',\n",
    "            '0@0',\n",
    "           )\n",
    "labels = (#'RL for 90$\\degree$',\n",
    "          'RL for 0$\\degree$',\n",
    "          'RL for random wind',\n",
    "          'RL for No wind',\n",
    "         )\n",
    "log_root_path = './tensorboard/MultirotorTrajEnv/optstudy/%s/'\n",
    "\n",
    "def get_study_agent_params(name):\n",
    "    study = get_study(name)\n",
    "    best_trial = study.best_trial.number\n",
    "    best_agent = load_agent((log_root_path + '%03d/run_1/agent') % (name, best_trial))\n",
    "    best_params = study.best_params\n",
    "    return study, best_agent, best_params"
   ]
  },
  {
   "cell_type": "code",
   "execution_count": null,
   "id": "c521c1a8",
   "metadata": {
    "scrolled": true
   },
   "outputs": [],
   "source": [
    "study_name = study_names[3]\n",
    "study, best_agent, best_params = get_study_agent_params(study_name)"
   ]
  },
  {
   "cell_type": "code",
   "execution_count": null,
   "id": "94764e78",
   "metadata": {
    "code_folding": [
     0
    ]
   },
   "outputs": [],
   "source": [
    "# Best agent using best last reward during training\n",
    "from tbparse import SummaryReader\n",
    "from glob import glob\n",
    "max_r = -np.inf\n",
    "max_path = ''\n",
    "for p in glob(path + '*'):\n",
    "    S.append(SummaryReader(p, pivot=True))\n",
    "    r = S[-1].scalars['rollout/ep_rew_mean'].iloc[-1]\n",
    "    if r > max_r:\n",
    "        max_path = p\n",
    "\n",
    "best_agent = load_agent(p + '/run_1/agent')\n",
    "best_params = study.trials[int(max_path[-3:])].params"
   ]
  },
  {
   "cell_type": "code",
   "execution_count": null,
   "id": "10d423d0",
   "metadata": {
    "code_folding": [
     0
    ],
    "scrolled": true
   },
   "outputs": [],
   "source": [
    "# Fine tune\n",
    "env = get_env(scurve=False)\n",
    "apply_params(env, **best_params)\n",
    "agent = learn_rl(env, steps=100_000,\n",
    "                 n_steps=study.best_params['n_steps'],\n",
    "                 batch_size=study.best_params['batch_size'],\n",
    "                 n_epochs=study.best_params['n_epochs'],\n",
    "                 learning_rate=study.best_params['learning_rate'],\n",
    "                 tensorboard_log=env.name + '/tuning/' + study_name,\n",
    "                 seed=0,\n",
    "                 reuse_parameters_of=best_agent,\n",
    "                 log_env_params=('steps_u','scaling_factor'),\n",
    "                 policy_kwargs=dict(net_arch=[dict(pi=[128,128],\n",
    "                                                   vf=[128,128])])\n",
    "                )"
   ]
  },
  {
   "cell_type": "code",
   "execution_count": null,
   "id": "099e857e",
   "metadata": {},
   "outputs": [],
   "source": [
    "study, agent, params = get_study_agent_params(study_names[1])"
   ]
  },
  {
   "cell_type": "code",
   "execution_count": null,
   "id": "5f4f2bd4",
   "metadata": {},
   "outputs": [],
   "source": [
    "plt.figure()\n",
    "dfs  = [get_study(name).trials_dataframe() for name in study_names]\n",
    "df = pd.concat(dfs, ignore_index=True)\n",
    "\n",
    "df['f_RL'] = 1 / (0.01 * df['params_steps_u'])\n",
    "df.plot.hexbin('params_scaling_factor', 'f_RL', C='value',\n",
    "               gridsize=20, figsize=(4,3))\n",
    "# plt.xlabel()\n",
    "plt.ylabel('$f_{RL}$')"
   ]
  },
  {
   "cell_type": "markdown",
   "id": "2f63b31d",
   "metadata": {},
   "source": [
    "### RL vs PID"
   ]
  },
  {
   "cell_type": "code",
   "execution_count": null,
   "id": "89e36d05",
   "metadata": {
    "code_folding": []
   },
   "outputs": [],
   "source": [
    "# trajectory wth setpoints, compared against PID\n",
    "heading = '5@0'\n",
    "wp = np.asarray([[10,0,0], [10,10,0], [0,10,0], [0,0,0]])\n",
    "\n",
    "env_rl = get_env(scurve=False, disturbance_fn=make_disturbance_fn(heading))\n",
    "apply_params(env_rl, **best_params)\n",
    "\n",
    "env_pid = get_env(scurve=False, disturbance_fn=make_disturbance_fn(heading))\n",
    "apply_params_pid(env_pid.ctrl, **best_pid_params)\n",
    "\n",
    "env_pid_nominal = get_env(scurve=False, disturbance_fn=make_disturbance_fn(heading))\n",
    "apply_params_pid(env_pid_nominal.ctrl, **best_pid_params_nominal)\n",
    "\n",
    "\n",
    "logrl = run_trajectory(env_rl, wp, best_agent)\n",
    "logpid = run_trajectory(env_pid, wp, None)\n",
    "logpidn = run_trajectory(env_pid_nominal, wp, None)"
   ]
  },
  {
   "cell_type": "code",
   "execution_count": null,
   "id": "8c6fa87a",
   "metadata": {
    "code_folding": []
   },
   "outputs": [],
   "source": [
    "plt.figure(figsize=(5,5))\n",
    "plt.xlim(-5, 15)\n",
    "plt.ylim(-5, 15)\n",
    "step = 5\n",
    "\n",
    "# Cascaded PID only\n",
    "x0, x1 = logpidn.x[::step], logpidn.target.position[::step,0]\n",
    "y0, y1 = logpidn.y[::step], logpidn.target.position[::step,1]\n",
    "l, = plt.plot(logpidn.x,logpidn.y, label='PID-Nominal', ls=':')\n",
    "\n",
    "# PID-only without RL\n",
    "x0, x1 = logpid.x[::step], logpid.target.position[::step,0]\n",
    "y0, y1 = logpid.y[::step], logpid.target.position[::step,1]\n",
    "plt.plot(logpid.x,logpid.y, label='PID-only', c=l.get_c())\n",
    "\n",
    "# RL\n",
    "x0, x1 = logrl.x[::step], logrl.target.position[::step,0]\n",
    "y0, y1 = logrl.y[::step], logrl.target.position[::step,1]\n",
    "plt.plot(logrl.x,logrl.y, label='RL+PID')\n",
    "plt.scatter(logrl.target.position[::step,0], logrl.target.position[::step,1], c='k', zorder=100)\n",
    "# plt.quiver(x0, y0,\n",
    "#            x1-x0, y1-y0,\n",
    "#            headwidth=3, headlength=6,zorder=100, ls=':',\n",
    "#            scale_units='xy', angles='xy', scale=1, units='dots', width=1.5)\n",
    "\n",
    "wx, wy, dx, dy = get_wind_quiver(heading, plt.gca(), n=7)\n",
    "plt.quiver(wx, wy, dx, dy,\n",
    "           scale_units='xy', angles='xy', scale=1, units='dots', width=0.75)\n",
    "plt.scatter(wp[:,0], wp[:,1], marker='x', c='r', s=100)\n",
    "\n",
    "plt.gca().set_aspect('equal', 'box');\n",
    "plt.xlabel('x /m')\n",
    "plt.ylabel('y /m')\n",
    "plt.title(r'Wind: %sN from %s$\\degree$' % (*heading.split('@'),))\n",
    "plt.legend(loc='lower center', ncol=3);"
   ]
  },
  {
   "cell_type": "markdown",
   "id": "32ae1b4b",
   "metadata": {},
   "source": [
    "### Robustness"
   ]
  },
  {
   "cell_type": "code",
   "execution_count": null,
   "id": "a276ae6c",
   "metadata": {},
   "outputs": [],
   "source": [
    "# Different RL controllers under the same disturbance\n",
    "plt.figure(figsize=(5,5))\n",
    "heading = '5@0'\n",
    "wp = np.asarray([[10,0,0], [10,10,0], [0,10,0], [0,0,0]])\n",
    "step = 10\n",
    "\n",
    "for label, study_name in zip(labels[1:-1], study_names[1:-1]):\n",
    "    print(study_name)\n",
    "    study, best_agent, best_params = get_study_agent_params(study_name)\n",
    "    \n",
    "    env = get_env(scurve=False, disturbance_fn=make_disturbance_fn(heading))\n",
    "    apply_params(env, **study.best_params)\n",
    "    \n",
    "    log = run_trajectory(env, wp, best_agent)\n",
    "    x0, x1 = log.x[::step], log.target.position[::step,0]\n",
    "    y0, y1 = log.y[::step], log.target.position[::step,1]\n",
    "    plt.plot(log.x,log.y, label=label)\n",
    "    \n",
    "wx, wy, dx, dy = get_wind_quiver(heading, plt.gca(), n=5)\n",
    "plt.quiver(wx, wy, dx, dy,\n",
    "           scale_units='xy', angles='xy', scale=1, units='dots', width=0.75)\n",
    "plt.scatter(wp[:,0], wp[:,1], marker='x', c='r', s=100)\n",
    "\n",
    "plt.gca().set_aspect('equal', 'box');\n",
    "plt.xlabel('x /m')\n",
    "plt.ylabel('y /m')\n",
    "plt.title(r'Wind: %sN from %s$\\degree$' % (*heading.split('@'),))\n",
    "plt.legend();"
   ]
  },
  {
   "cell_type": "markdown",
   "id": "d754d4a8",
   "metadata": {
    "heading_collapsed": true
   },
   "source": [
    "### Relationship between conditions"
   ]
  },
  {
   "cell_type": "code",
   "execution_count": null,
   "id": "1da28a3a",
   "metadata": {
    "hidden": true
   },
   "outputs": [],
   "source": [
    "# Relationship between RL supervision to disturbances\n",
    "wp = np.asarray([[10,0,0], [10,10,0], [0,10,0], [0,0,0]])\n",
    "step = 10\n",
    "actions = []\n",
    "for heading, study_name in zip(headings, study_names):\n",
    "    study, best_agent, best_params = get_study_agent_params(study_name)\n",
    "    \n",
    "    best_params = study.best_params\n",
    "    env_rl = get_env(scurve=False, disturbance_fn=make_disturbance_fn(heading))\n",
    "    env_rl.reset()\n",
    "    apply_params(env_rl, **best_params)\n",
    "    state_samples = np.asarray(\n",
    "        [env_rl.observation_space.sample() for _ in range(1000)],\n",
    "        env_rl.vehicle.dtype\n",
    "    )\n",
    "    norm_actions = best_agent.predict(state_samples)[0]\n",
    "    actions.append(env_rl.unnormalize_action(norm_actions))"
   ]
  },
  {
   "cell_type": "code",
   "execution_count": null,
   "id": "4266281e",
   "metadata": {
    "hidden": true
   },
   "outputs": [],
   "source": [
    "# ...continued: Histograms of angles of actions\n",
    "def rotate_deg(arr: np.ndarray, by: float):\n",
    "    arr = arr.copy()\n",
    "    arr += by\n",
    "    arr[arr<-180] += 360\n",
    "    arr[arr>180] -= 360\n",
    "    return arr\n",
    "plt.figure(figsize=(6,3))\n",
    "angles = [np.asarray([np.arctan(y/x) * 180 / np.pi for x,y in a[:,:2]]) for a in actions]\n",
    "corrections = [np.asarray([-180 if x<0 else 0 for x in a[:,0]]) for a in actions]\n",
    "angles = [a+c for a,c in zip(angles, corrections)]\n",
    "for a in angles:\n",
    "    a[a<-180] = 360 + a[a<-180]\n",
    "    a[a>180] = a[a>180] - 360\n",
    "plt.hist(angles, histtype='step', density=True, label=labels, lw=2)\n",
    "plt.xlabel('Angle /$\\degree$ of supervisory action on x/y plane')\n",
    "plt.ylabel('Probability density')\n",
    "plt.legend(loc='lower center', ncol=3)"
   ]
  },
  {
   "cell_type": "code",
   "execution_count": null,
   "id": "3a9a3b0e",
   "metadata": {
    "hidden": true
   },
   "outputs": [],
   "source": [
    "# ...continued: Rotating angles and comparing histograms\n",
    "plt.figure(figsize=(6,3))\n",
    "angles_xformed = deepcopy(angles[:2])\n",
    "angles_xformed[0] = angles_xformed[0] - 90\n",
    "angles_xformed[1] = angles_xformed[1] + 90\n",
    "for a in angles_xformed[:2]:\n",
    "    a[a<-180] = 360 + a[a<-180]\n",
    "    a[a>180] = a[a>180] - 360\n",
    "for i, (a, ax) in enumerate(zip(angles, angles_xformed)):\n",
    "    *_, l = plt.hist(a, histtype='step', density=True, label=labels[i], lw=1)\n",
    "    plt.hist(ax, histtype='step', density=True, lw=2.5, ls=':', color=l[0].get_edgecolor())\n",
    "# plt.hist(angles, histtype='step', density=True, label=labels, lw=2)\n",
    "# plt.hist(angles_xformed, histtype='step', density=True, label=labels[:2], lw=2, ls=':')\n",
    "plt.xlabel('Angle /$\\degree$ of supervisory action on x/y plane')\n",
    "plt.ylabel('Probability density')\n",
    "plt.legend(loc='lower center', ncol=3)"
   ]
  },
  {
   "cell_type": "code",
   "execution_count": null,
   "id": "0c918a73",
   "metadata": {
    "hidden": true
   },
   "outputs": [],
   "source": [
    "# ... continued: Cosine similarity between shifted histograms\n",
    "plt.figure(figsize=(4,2))\n",
    "dist = []\n",
    "step, bins = 2, 20\n",
    "hist, *_ = np.histogram(angles[0], bins=bins, density=True)\n",
    "for i in range(-180, 180, step):\n",
    "    ar = rotate_deg(angles[1], i)\n",
    "    arh, *_ = np.histogram(ar, bins=bins, density=True)\n",
    "    dist.append(np.dot(arh, hist))\n",
    "plt.plot(range(-180, 180, step), dist, label=labels[0])\n",
    "\n",
    "dist = []\n",
    "hist, *_ = np.histogram(angles[1], bins=bins, density=True)\n",
    "for i in range(-180, 180, step):\n",
    "    ar = rotate_deg(angles[0], i)\n",
    "    arh, *_ = np.histogram(ar, bins=bins, density=True)\n",
    "    dist.append(np.dot(arh, hist))\n",
    "plt.plot(range(-180, 180, step), dist, label=labels[1])\n",
    "\n",
    "plt.ylabel('Cosine similarity')\n",
    "plt.yticks([])\n",
    "plt.xlabel('Angle shift in supervisory actions / $\\degree$')\n",
    "plt.legend(loc='lower center', ncol=2)"
   ]
  },
  {
   "cell_type": "code",
   "execution_count": null,
   "id": "496ad2f5",
   "metadata": {
    "hidden": true
   },
   "outputs": [],
   "source": [
    "def rot_matrix(ang: float):\n",
    "    ang = ang * np.pi / 180.\n",
    "    mat = np.asarray([\n",
    "        [np.cos(ang), -np.sin(ang), 0],\n",
    "        [np.sin(ang), np.cos(ang), 0],\n",
    "        [0, 0, 1]\n",
    "    ])\n",
    "    return mat.astype(np.float32)"
   ]
  },
  {
   "cell_type": "code",
   "execution_count": null,
   "id": "5752600c",
   "metadata": {
    "hidden": true
   },
   "outputs": [],
   "source": [
    "source_study_name = get_study(study_names[0])\n",
    "_, source_agent, source_params = get_study_agent_params(source_study_name)\n",
    "\n",
    "target_study_name = get_study(study_names[1])\n",
    "_, target_agent, target_params = get_study_agent_params(target_study_name)"
   ]
  },
  {
   "cell_type": "code",
   "execution_count": null,
   "id": "06a36527",
   "metadata": {
    "hidden": true
   },
   "outputs": [],
   "source": [
    "xform_agent = transform_rl_policy(source_agent, np.zeros((3,12)), rot_matrix(-90), copy=True)\n",
    "\n",
    "def _env_fn(own_params, target_params):\n",
    "    params = deepcopy(source_params)\n",
    "    env = get_env(scurve=False, disturbance_fn=make_disturbance_fn(target_heading))\n",
    "    apply_params(env, **own_params)\n",
    "    return env\n",
    "s, t, x = run_comparison(\n",
    "    env_fns = [lambda: _env_fn(sp, target_params) for sp in (source_params, target_params, source_params)],\n",
    "    agents = [source_agent, target_agent, xform_agent],\n",
    "    n=10\n",
    ")\n",
    "df = pd.DataFrame(dict(Source=s, Target=t, Transformed=x))\n",
    "df.plot.density(figsize=(6,3))\n",
    "plt.xlabel('Cumulative reward')"
   ]
  },
  {
   "cell_type": "code",
   "execution_count": null,
   "id": "94c39447",
   "metadata": {
    "hidden": true
   },
   "outputs": [],
   "source": [
    "plt.quiver(np.zeros(100), np.zeros(100), actions[1][:,0], actions[1][:,1], angles='xy', scale_units='xy', scale=1)\n",
    "plt.gca().set_xlim(-env_rl.action_range[0], env_rl.action_range[0])\n",
    "plt.gca().set_ylim(-env_rl.action_range[1], env_rl.action_range[1])"
   ]
  },
  {
   "cell_type": "markdown",
   "id": "4b7dd481",
   "metadata": {},
   "source": [
    "## Comparison"
   ]
  },
  {
   "cell_type": "markdown",
   "id": "58a76df8",
   "metadata": {
    "heading_collapsed": true
   },
   "source": [
    "#### Parameters"
   ]
  },
  {
   "cell_type": "code",
   "execution_count": null,
   "id": "fc025dab",
   "metadata": {
    "hidden": true
   },
   "outputs": [],
   "source": [
    "# Comparison of RL/PID parameters w/o wind\n",
    "pidstudy = get_study_pid('MultirotorTrajEnvPID')\n",
    "df_nominal = pidstudy.trials_dataframe().sort_values('value', ascending=False)\n",
    "df_nominal = df_nominal.reset_index(drop=True).filter(like='params_').iloc[:10]\n",
    "\n",
    "pidstudy = get_study_pid('MultirotorTrajEnvPIDWind5@90')\n",
    "df_dist = pidstudy.trials_dataframe().sort_values('value', ascending=False)\n",
    "df_dist = df_dist.reset_index(drop=True).filter(like='params_').iloc[:10]"
   ]
  },
  {
   "cell_type": "code",
   "execution_count": null,
   "id": "13d3075b",
   "metadata": {
    "hidden": true
   },
   "outputs": [],
   "source": [
    "df_agg = pd.concat({'Nominal': df_nominal.mean(), 'Wind':df_dist.mean()}, axis=1)\n",
    "df_agg.rename(index={k:k.replace('params_','') for k in df_agg.index.values}, inplace=True)\n",
    "df_agg['Nominal $\\sigma$ /%'] = df_nominal.std().values * 100 / df_agg['Nominal'].values\n",
    "df_agg['Wind $\\sigma$ /%'] = df_dist.std().values * 100 / df_agg['Wind'].values\n",
    "df_agg = df_agg.reindex(sorted(df_agg.columns), axis=1)\n",
    "df_agg['Change /%'] = (df_agg['Wind'] - df_agg['Nominal']) * 100. / df_agg['Nominal']\n",
    "df_agg['Notable'] = (df_agg['Change /%'].abs() > df_agg['Nominal $\\sigma$ /%'].abs()) & \\\n",
    "                    (df_agg['Change /%'].abs() > df_agg['Wind $\\sigma$ /%'].abs())\n",
    "df_agg.index = pd.MultiIndex.from_tuples([i.split('.') for i in df_agg.index], names=('Controller', 'Params'))\n",
    "df_agg"
   ]
  },
  {
   "cell_type": "code",
   "execution_count": null,
   "id": "69c41bef",
   "metadata": {
    "hidden": true
   },
   "outputs": [],
   "source": [
    "from IPython.display import display, Latex\n",
    "Latex(df_agg.to_latex(float_format='%.3f', longtable=False))"
   ]
  },
  {
   "cell_type": "markdown",
   "id": "65b45f57",
   "metadata": {
    "heading_collapsed": true
   },
   "source": [
    "#### Importances"
   ]
  },
  {
   "cell_type": "code",
   "execution_count": null,
   "id": "139a8a34",
   "metadata": {
    "hidden": true
   },
   "outputs": [],
   "source": [
    "df = None\n",
    "for study_name, study_name_pid in tqdm(zip(study_names, study_names_pid),\n",
    "        leave=False, total=len(study_names)):\n",
    "    study = get_study(study_name)\n",
    "    imp = optuna.importance.get_param_importances(study)\n",
    "    if df is None:\n",
    "        df = pd.DataFrame(\n",
    "            index=pd.Index(imp.keys(), name='Parameters'),\n",
    "            columns=pd.MultiIndex.from_product([('RL', 'PID'), headings])\n",
    "        )\n",
    "    df[('RL', study.user_attrs.get('wind', '0@0'))] = pd.Series(imp)\n",
    "    \n",
    "    study_pid = get_study_pid(study_name_pid)\n",
    "    imp_pid = optuna.importance.get_param_importances(study_pid)\n",
    "    imp_pid = {('pid-'+k):v for k,v in imp_pid.items()}\n",
    "    df[('PID', study_pid.user_attrs.get('wind', '0@0'))] = pd.Series(imp_pid)\n",
    "df"
   ]
  },
  {
   "cell_type": "code",
   "execution_count": null,
   "id": "1962c350",
   "metadata": {
    "hidden": true,
    "scrolled": true
   },
   "outputs": [],
   "source": [
    "%matplotlib inline\n",
    "df_ = df.sort_values(by=[('PID', '0@0')], ascending=False)\n",
    "plt.figure(figsize=(15,3))\n",
    "l, = plt.plot(df_[('RL','5@90')], label=labels[0])\n",
    "plt.plot(df_[('PID','5@90')], label='PID' + labels[0][2:], c=l.get_c(), ls=':')\n",
    "l, = plt.plot(df_[('RL','5@0')], label=labels[1])\n",
    "plt.plot(df_[('PID','5@0')], label='PID' + labels[1][2:], c=l.get_c(), ls=':')\n",
    "l, = plt.plot(df_[('RL','0@0')], label=labels[2])\n",
    "plt.plot(df_[('PID','0@0')], label='PID' + labels[2][2:], c=l.get_c(), ls=':')\n",
    "plt.legend(ncol=3)\n",
    "plt.xticks(ticks=range(len(df_)),\n",
    "           labels=params_to_labels(df_.index), rotation=25, ha='right');"
   ]
  },
  {
   "cell_type": "code",
   "execution_count": null,
   "id": "4bcb5c64",
   "metadata": {
    "hidden": true
   },
   "outputs": [],
   "source": [
    "df_[[('PID','0@0'), ('PID','5@90'), ('RL','0@0'), ('RL','5@90')]]"
   ]
  },
  {
   "cell_type": "markdown",
   "id": "6e81b613",
   "metadata": {
    "heading_collapsed": true
   },
   "source": [
    "#### Rewards"
   ]
  },
  {
   "cell_type": "code",
   "execution_count": null,
   "id": "689ca8aa",
   "metadata": {
    "hidden": true
   },
   "outputs": [],
   "source": [
    "# controllers on a single disturbance - density plot\n",
    "def _env_rl():\n",
    "    env = get_env(scurve=False,\n",
    "              disturbance_fn=make_disturbance_fn('5@90'))\n",
    "    apply_params(env, **best_params)\n",
    "    return env\n",
    "def _env_pid():\n",
    "    env = get_env(scurve=False,\n",
    "              disturbance_fn=make_disturbance_fn('5@90'))\n",
    "    apply_params_pid(env.ctrl, **best_pid_params)\n",
    "    return env\n",
    "r_agent, r_pid = run_comparison(\n",
    "    [_env_rl, _env_pid], (best_agent, None), n=30)\n",
    "\n",
    "df = pd.DataFrame(dict(RL=r_agent, PID=r_pid))\n",
    "df.plot.density(figsize=(6,3))\n",
    "plt.xlabel('Cumulative reward')"
   ]
  },
  {
   "cell_type": "markdown",
   "id": "3fe071f1",
   "metadata": {},
   "source": [
    "#### Robustness"
   ]
  },
  {
   "cell_type": "code",
   "execution_count": null,
   "id": "bf4d945a",
   "metadata": {},
   "outputs": [],
   "source": [
    "# controllers vs disturbances - polar plot\n",
    "angles_ = np.asarray(range(0, 360, 45))\n",
    "df = pd.DataFrame(index=pd.Index(angles_, name='Heading'),\n",
    "                  columns=pd.MultiIndex.from_product((('RL', 'PID'), labels[3:], ('Mean', 'Std'))))\n",
    "for label, heading, study_name, study_name_pid in \\\n",
    "        tqdm(zip(labels, headings, study_names, study_names_pid),\n",
    "        total=len(headings), leave=False):\n",
    "    \n",
    "    _, best_agent, best_params = get_study_agent_params(study_name)\n",
    "    _, best_pid_params = get_study_params_pid(study_name_pid)\n",
    "\n",
    "    for angle in tqdm(angles_, leave=False):\n",
    "        env = get_env(scurve=False, disturbance_fn=make_disturbance_fn('5@%.2f' % angle))\n",
    "        apply_params(env, **best_params)\n",
    "        r = []\n",
    "        for _ in range(10):\n",
    "            env.reset()\n",
    "            log = run_trajectory(env, wp, best_agent, reset_zero=False)\n",
    "            r.append(log.reward.sum())\n",
    "        df.loc[angle, ('RL', label[3:], 'Mean')] = np.mean(r)\n",
    "        df.loc[angle, ('RL', label[3:], 'Std')] = np.std(r)\n",
    "        \n",
    "        env = get_env(scurve=False, disturbance_fn=make_disturbance_fn('5@%.2f' % angle))\n",
    "        apply_params_pid(env.ctrl, **best_pid_params)\n",
    "        r = []\n",
    "        for _ in range(10):\n",
    "            env.reset()\n",
    "            log = run_trajectory(env, wp, None, reset_zero=False)\n",
    "            r.append(log.reward.sum())\n",
    "        df.loc[angle, ('PID', label[3:], 'Mean')] = np.mean(r)\n",
    "        df.loc[angle, ('PID', label[3:], 'Std')] = np.std(r)\n",
    "    \n",
    "\n",
    "from itertools import product\n",
    "df_ = df.copy()\n",
    "df_.loc[360] = df.loc[0]"
   ]
  },
  {
   "cell_type": "code",
   "execution_count": null,
   "id": "005ce3c9",
   "metadata": {},
   "outputs": [],
   "source": [
    "lines = []\n",
    "polys = []\n",
    "for idx in product(*df_.columns.levels[:2]):\n",
    "    l, = plt.polar(df_.index * np.pi / 180, df_[idx].Mean,\n",
    "                   ls=':' if idx[0]=='PID' else '-', label=' '.join(idx))\n",
    "    p = plt.fill_between(df_.index * np.pi / 180, df_[idx].Mean-df_[idx].Std,\n",
    "                         df_[idx].Mean+df_[idx].Std, alpha=0.15, color=l.get_color(),\n",
    "                         hatch='.' if idx[0]=='PID' else '-')\n",
    "    polys.append(p)\n",
    "    lines.append(l)\n",
    "for l1, l2, p1, p2 in zip(lines[:3], lines[3:], polys[:3], polys[3:]):\n",
    "    l2.set_color(l1.get_color())\n",
    "    p2.set_color(p1.get_facecolor())\n",
    "plt.legend(loc='lower center', ncol=3)"
   ]
  },
  {
   "cell_type": "code",
   "execution_count": null,
   "id": "6e286239",
   "metadata": {},
   "outputs": [],
   "source": [
    "lines = []\n",
    "polys = []\n",
    "kind = 'PID'\n",
    "for idx in product(*df_.columns.levels[1:2]):\n",
    "    l, = plt.polar(df_.index * np.pi / 180, df_[(kind, idx[0])].Mean,\n",
    "                   ls=':' if kind=='PID' else '-', label=' '.join(idx))\n",
    "    p = plt.fill_between(df_.index * np.pi / 180, df_[(kind, idx[0])].Mean-df_[(kind, idx[0])].Std,\n",
    "                         df_[(kind, idx[0])].Mean+df_[(kind, idx[0])].Std, alpha=0.15, color=l.get_color(),\n",
    "                         hatch='.' if kind=='PID' else '-')\n",
    "    polys.append(p)\n",
    "    lines.append(l)\n",
    "for l1, l2, p1, p2 in zip(lines[:3], lines[3:], polys[:3], polys[3:]):\n",
    "    l2.set_color(l1.get_color())\n",
    "    p2.set_color(p1.get_facecolor())\n",
    "plt.legend(loc='lower center', ncol=3)\n",
    "plt.title(kind)"
   ]
  },
  {
   "cell_type": "markdown",
   "id": "b1b329c7",
   "metadata": {},
   "source": [
    "#### Long Trajectory"
   ]
  },
  {
   "cell_type": "code",
   "execution_count": null,
   "id": "eb529159",
   "metadata": {
    "scrolled": true
   },
   "outputs": [],
   "source": [
    "study_name_pid, study_name = study_names_pid[1], study_names[1]\n",
    "\n",
    "_, best_agent, best_params = get_study_agent_params(study_name)\n",
    "_, best_pid_params = get_study_params_pid(study_name_pid)\n",
    "heading = '0@0'\n",
    "\n",
    "env = get_env(scurve=False, disturbance_fn=make_disturbance_fn('0@0'))\n",
    "apply_params(env, **best_params)\n",
    "log_rl = run_trajectory(env, nasa_wp[:4], best_agent)\n",
    "print(len(log_rl), log_rl.position[-1])\n",
    "env = get_env(scurve=False, disturbance_fn=make_disturbance_fn('5@0'))\n",
    "apply_params(env, **best_params)\n",
    "log_rl = run_trajectory(env, nasa_wp[4:], best_agent, log=log_rl, reset_zero=False)\n",
    "print(len(log_rl), log_rl.position[-1])\n",
    "\n",
    "env = get_env(scurve=False, disturbance_fn=make_disturbance_fn('0@0'))\n",
    "apply_params_pid(env.ctrl, **best_pid_params)\n",
    "log_pid = run_trajectory(env, nasa_wp[:4], None)\n",
    "env = get_env(scurve=False, disturbance_fn=make_disturbance_fn('5@0'))\n",
    "apply_params_pid(env.ctrl, **best_pid_params)\n",
    "log_pid = run_trajectory(env, nasa_wp[4:], None, log=log_pid, reset_zero=False)"
   ]
  },
  {
   "cell_type": "code",
   "execution_count": null,
   "id": "806ec213",
   "metadata": {},
   "outputs": [],
   "source": [
    "%matplotlib notebook\n",
    "fig = plt.figure()\n",
    "ax = fig.add_subplot(projection='3d')\n",
    "plt.plot(log_pid.x, log_pid.y, log_pid.z, label='PID', lw=0.75, ls='-')\n",
    "plt.plot(log_rl.x, log_rl.y, log_rl.z, label='RL', lw=0.75, ls='-.')\n",
    "plt.plot(nasa_wp[4,0],nasa_wp[4,1],nasa_wp[4,2], marker='x', c='b', lw=3, markersize=15)\n",
    "plt.plot(log_pid.position[-1,0],log_pid.position[-1,1],log_pid.position[-1,2], marker='x', c='r', lw=3, markersize=15)\n",
    "plt.gca().set_aspect('auto', 'box')\n",
    "if not heading.startswith('0'):\n",
    "    wx, wy, wz, dx, dy, dz = get_wind_quiver(heading, plt.gca(), n=5, dim=3)\n",
    "    ax = plt.gca()\n",
    "    ax.quiver(wx, wy, wz, 10*dx, 10*dy, dz, color='k', linewidth=0.75)\n",
    "plt.legend()\n",
    "plt.xlabel('x /m')\n",
    "plt.ylabel('y /m')\n",
    "ax.set_zlabel('z /m')\n",
    "ax.view_init(elev=30, azim=45)"
   ]
  },
  {
   "cell_type": "markdown",
   "id": "ace17960",
   "metadata": {},
   "source": [
    "#### Wind magnitude vs failure rates"
   ]
  },
  {
   "cell_type": "code",
   "execution_count": null,
   "id": "9450ae0e",
   "metadata": {},
   "outputs": [],
   "source": [
    "# RL\n",
    "study_name_pid, study_name = study_names_pid[2], study_names[2]\n",
    "\n",
    "_, best_agent, best_params = get_study_agent_params(study_name)\n",
    "_, best_pid_params = get_study_params_pid(study_name_pid)\n",
    "\n",
    "winds = np.arange(0, 12, 2)\n",
    "headings = np.arange(0, 360, 90)\n",
    "H = {}\n",
    "for h in tqdm(headings, leave=False):\n",
    "    R, S = [], []\n",
    "    for w in tqdm(winds, leave=False):\n",
    "        heading = '%d@%d' % (w,h)\n",
    "        env = get_env(scurve=False, disturbance_fn=make_disturbance_fn(heading))\n",
    "        apply_params(env, **best_params)\n",
    "        r = []\n",
    "        for _ in trange(5, leave=False):\n",
    "            env.reset()\n",
    "            log = run_trajectory(env, wp, best_agent, reset_zero=False)\n",
    "            r.append(log.reward.sum())\n",
    "        R.append(np.mean(r))\n",
    "        S.append(np.std(r))\n",
    "    H[h] = (R, S)"
   ]
  },
  {
   "cell_type": "code",
   "execution_count": null,
   "id": "7a40e886",
   "metadata": {
    "scrolled": true
   },
   "outputs": [],
   "source": [
    "# PID\n",
    "study_name_pid, study_name = study_names_pid[2], study_names[2]\n",
    "\n",
    "_, best_agent, best_params = get_study_agent_params(study_name)\n",
    "_, best_pid_params = get_study_params_pid(study_name_pid)\n",
    "\n",
    "winds = np.arange(0, 12, 2)\n",
    "headings = np.arange(0, 360, 90)\n",
    "Hpid = {}\n",
    "for h in tqdm(headings, leave=False):\n",
    "    R, S = [], []\n",
    "    for w in tqdm(winds, leave=False):\n",
    "        heading = '%d@%d' % (w,h)\n",
    "        env = get_env(scurve=False, disturbance_fn=make_disturbance_fn(heading))\n",
    "        apply_params_pid(env.ctrl, **best_pid_params)\n",
    "        r = []\n",
    "        for _ in trange(5, leave=False):\n",
    "            env.reset()\n",
    "            log = run_trajectory(env, wp, None, reset_zero=False)\n",
    "            r.append(log.reward.sum())\n",
    "        R.append(np.mean(r))\n",
    "        S.append(np.std(r))\n",
    "    Hpid[h] = (R, S)"
   ]
  },
  {
   "cell_type": "code",
   "execution_count": null,
   "id": "f527a5d9",
   "metadata": {},
   "outputs": [],
   "source": [
    "%matplotlib inline\n",
    "from matplotlib.lines import Line2D\n",
    "plt.figure(figsize=(6,3))\n",
    "for k in H.keys():\n",
    "    m, s = np.asarray(H[k][0]), np.asarray(H[k][1])\n",
    "    mpid, spid = np.asarray(Hpid[k][0]), np.asarray(Hpid[k][1])\n",
    "    l, = plt.plot(winds, m, label=('$%d\\degree$' % k))\n",
    "    plt.fill_between(winds, m+s, m-s, color=l.get_color(), alpha=0.30)\n",
    "    plt.plot(winds, mpid, ls=':', c=l.get_color())\n",
    "    plt.fill_between(winds, mpid+spid, mpid-spid, color=l.get_color(), alpha=0.15, hatch='.')\n",
    "plt.xlabel('Wind /N')\n",
    "plt.ylabel('Reward over trajectory')\n",
    "linep, liner = Line2D([0], [0], c='k', ls=':', label='PID'), Line2D([0], [0], c='k', ls='-', label='RL')\n",
    "legend = plt.legend(handles=[linep, liner], ncol=2, loc='upper right');\n",
    "plt.legend(ncol=4)\n",
    "plt.gca().add_artist(legend)"
   ]
  },
  {
   "cell_type": "code",
   "execution_count": null,
   "id": "2f2d1ed7",
   "metadata": {},
   "outputs": [],
   "source": [
    "headings = np.arange(0, 360, 90)\n",
    "top = pd.MultiIndex.from_product((('RL','PID'), [r'$%d\\degree$'%h for h in headings]))\n",
    "side = pd.Index(winds, name='Wind /N')\n",
    "df = pd.DataFrame(index=side, columns=top)\n",
    "df\n",
    "\n",
    "for i, w in enumerate(winds):\n",
    "    for k, h in enumerate(headings):\n",
    "        df.loc[w, ('RL', r'$%d\\degree$'%h)] = '$%.2f\\pm%.2f$' % (H[h][0][i]/1000, H[h][1][i]/1000)\n",
    "        df.loc[w, ('PID', r'$%d\\degree$'%h)] = '$%.2f\\pm%.2f$' % (Hpid[h][0][i]/1000, Hpid[h][1][i]/1000)\n",
    "df"
   ]
  },
  {
   "cell_type": "code",
   "execution_count": null,
   "id": "73db788a",
   "metadata": {},
   "outputs": [],
   "source": [
    "print(df.style.to_latex(\n",
    "    position='ht',\n",
    "    hrules=True,\n",
    "    caption='Tabulated results of performance degradation with increasing wind disturbance from different headings.'\n",
    "))"
   ]
  },
  {
   "cell_type": "code",
   "execution_count": null,
   "id": "49eed37f",
   "metadata": {},
   "outputs": [],
   "source": [
    "%matplotlib notebook\n",
    "hh, ww = np.meshgrid([*headings, 0], winds, indexing='ij')\n",
    "x = ww * np.cos(hh * np.pi / 180)\n",
    "y = ww * np.sin(hh * np.pi / 180)\n",
    "z_ = np.asarray([H[k][0] for k in H.keys()])\n",
    "z = np.vstack((z_, z_[0]))\n",
    "\n",
    "fig = plt.figure()\n",
    "ax = fig.add_subplot(projection='3d')\n",
    "ax.plot_surface(x, y, z, alpha=0.3)"
   ]
  }
 ],
 "metadata": {
  "kernelspec": {
   "display_name": "Python 3 (ipykernel)",
   "language": "python",
   "name": "python3"
  },
  "language_info": {
   "codemirror_mode": {
    "name": "ipython",
    "version": 3
   },
   "file_extension": ".py",
   "mimetype": "text/x-python",
   "name": "python",
   "nbconvert_exporter": "python",
   "pygments_lexer": "ipython3",
   "version": "3.9.16"
  }
 },
 "nbformat": 4,
 "nbformat_minor": 5
}
