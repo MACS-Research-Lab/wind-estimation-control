{
 "cells": [
  {
   "cell_type": "markdown",
   "id": "38e419f2-c4dc-435f-8218-732577a45803",
   "metadata": {},
   "source": [
    "# Wind Impact on Blending Agent Performance\n",
    "\n",
    "How robust is the RL architecture trained on to blend other RL policies to all wind?"
   ]
  },
  {
   "cell_type": "code",
   "execution_count": 1,
   "id": "1edcd168-276a-4926-8039-ebc03390ee43",
   "metadata": {},
   "outputs": [],
   "source": [
    "import matplotlib.pyplot as plt\n",
    "import numpy as np\n",
    "import pandas as pd\n",
    "from tqdm import tqdm\n",
    "\n",
    "from utilities import get_agent\n",
    "from environments import OctorotorEnvSelector\n",
    "from systems.pid_agent import PIDAgent\n",
    "from multirotor.helpers import DataLog"
   ]
  },
  {
   "cell_type": "code",
   "execution_count": 2,
   "id": "b8bd04f1-74e7-4eaf-a8bc-c5f414948a24",
   "metadata": {},
   "outputs": [
    {
     "name": "stderr",
     "output_type": "stream",
     "text": [
      "[I 2023-09-13 15:21:28,981] Using an existing study with name 'allwind' instead of creating a new one.\n"
     ]
    }
   ],
   "source": [
    "study, best_agent, best_params = get_agent('allwind')\n",
    "\n",
    "best_params['bounding_rect_length']=200\n",
    "best_params['steps_u']=50"
   ]
  },
  {
   "cell_type": "code",
   "execution_count": 12,
   "id": "7582ffaa-d1fd-4923-920c-0c046c235991",
   "metadata": {},
   "outputs": [
    {
     "data": {
      "text/plain": [
       "{'scaling_factor': 5,\n",
       " 'window_distance': 10,\n",
       " 'policy_layers': 3,\n",
       " 'policy_size': 128,\n",
       " 'learning_rate': 0.0005557590377310718,\n",
       " 'n_epochs': 4,\n",
       " 'n_steps': 10400,\n",
       " 'batch_size': 64,\n",
       " 'training_interactions': 200000,\n",
       " 'bounding_rect_length': 200}"
      ]
     },
     "execution_count": 12,
     "metadata": {},
     "output_type": "execute_result"
    }
   ],
   "source": [
    "best_params"
   ]
  },
  {
   "cell_type": "code",
   "execution_count": 3,
   "id": "b7c8e6e1-5bca-4dd2-999c-3d7006979e7f",
   "metadata": {
    "editable": true,
    "slideshow": {
     "slide_type": ""
    },
    "tags": []
   },
   "outputs": [],
   "source": [
    "env_selector = OctorotorEnvSelector()\n",
    "square_wpts = np.array([[100,0,0], [100,100,0], [0,100,0], [0,0,0]])"
   ]
  },
  {
   "cell_type": "code",
   "execution_count": 4,
   "id": "a0d9847f-79fe-4c7a-889f-5733a30cc5b9",
   "metadata": {},
   "outputs": [],
   "source": [
    "def get_tte(initial_pos: tuple, waypoints: np.ndarray, x: np.ndarray, y:np.ndarray, z:np.ndarray) -> np.ndarray:\n",
    "        \"\"\"\n",
    "        Calculates the trajectory tracking error. \n",
    "        The distance between the current point and the vector between previous and next wp. Uses ||v1 x v2|| / ||v1||.\n",
    "\n",
    "        Parameters\n",
    "        ----------\n",
    "        initial_pos : tuple  \n",
    "            the initial position of the UAV.\n",
    "        waypoints : np.ndarray \n",
    "            the reference positions at each point in time.\n",
    "        x : np.ndarray \n",
    "            the x positions of the UAV.\n",
    "        y : np.ndarray \n",
    "            the y positions of the UAV.\n",
    "        z : np.ndarray\n",
    "            the z positions of the UAV.\n",
    "\n",
    "        Returns\n",
    "        -------\n",
    "        np.ndarray \n",
    "            the trajectory tracking error at each point in time.\n",
    "        \"\"\"\n",
    "        ttes = []\n",
    "        prev = initial_pos\n",
    "        for i, waypoint in enumerate(waypoints):\n",
    "            if i > 0 and not np.array_equal(waypoints[i-1], waypoints[i]):\n",
    "                prev = waypoints[i-1]\n",
    "\n",
    "            v1 = waypoint - prev\n",
    "            v2 = np.array([x[i],y[i],z[i]]) - prev\n",
    "            tte = np.linalg.norm(np.cross(v1, v2)) / (np.linalg.norm(v1) + 1e-6)\n",
    "            ttes.append(tte)\n",
    "                \n",
    "        return np.array(ttes)"
   ]
  },
  {
   "cell_type": "code",
   "execution_count": 5,
   "id": "a4ac0dd5-49ad-44d5-9a0a-c12cf75121c1",
   "metadata": {},
   "outputs": [],
   "source": [
    "def toc(tte: np.ndarray):\n",
    "    corridor = 5\n",
    "    return best_params['steps_u'] * len(tte[tte > corridor]) / 100"
   ]
  },
  {
   "cell_type": "code",
   "execution_count": 6,
   "id": "81bce838-92c0-49a5-91d4-fa8032876474",
   "metadata": {},
   "outputs": [],
   "source": [
    "def completed_mission(waypoints: np.ndarray, x: np.ndarray, y: np.ndarray, z: np.ndarray, radius: float = 0.65):\n",
    "        for waypoint in waypoints:\n",
    "            reached_waypoint = False\n",
    "\n",
    "            for position in zip(x,y,z):\n",
    "                dist = np.linalg.norm(waypoint - position)\n",
    "\n",
    "                if dist <= radius:\n",
    "                    reached_waypoint = True\n",
    "                    break\n",
    "\n",
    "            if not reached_waypoint:\n",
    "                return False\n",
    "            \n",
    "        return True"
   ]
  },
  {
   "cell_type": "code",
   "execution_count": 7,
   "id": "b22b1d5f-5f9e-4969-a678-ec6a62417c15",
   "metadata": {},
   "outputs": [],
   "source": [
    "def run_trajectory(env_selector, wind_ranges: np.ndarray, agent, params):\n",
    "    env = env_selector.get_env(\"sliding\", params, wind_ranges, square_wpts)\n",
    "    done = False\n",
    "    state = np.array(env.reset(), dtype=np.float32)\n",
    "    log = DataLog(env.base_env.vehicle, env.base_env.ctrl,\n",
    "                      other_vars=('reward',))\n",
    "    while not done:\n",
    "        action = agent.predict(state, deterministic=True)[0]\n",
    "        state, reward, done, info = env.step(action)\n",
    "        state = np.array(state, dtype=np.float32)\n",
    "        log.log(reward=reward)\n",
    "\n",
    "    log.done_logging()\n",
    "    return log, info"
   ]
  },
  {
   "cell_type": "code",
   "execution_count": 8,
   "id": "590c0c39-fe2a-4747-b716-0e9a508271c6",
   "metadata": {},
   "outputs": [],
   "source": [
    "wind_range_dict = {\n",
    "    'zero': [(0,0), (0,0), (0,0)],\n",
    "    'n5': [(0,0), (5,5), (0,0)],\n",
    "    'n7': [(0,0), (7,7), (0,0)],\n",
    "    'n10': [(0,0), (10,10), (0,0)],\n",
    "    's5': [(0,0), (-5,-5), (0,0)],\n",
    "    's7': [(0,0), (-7,-7), (0,0)],\n",
    "    's10': [(0,0), (-10,-10), (0,0)],\n",
    "    'e5': [(5,5), (0,0), (0,0)],\n",
    "    'e7': [(7,7), (0,0), (0,0)],\n",
    "    'e10': [(10,10), (0,0), (0,0)],\n",
    "    'w5': [(-5,-5), (0,0), (0,0)],\n",
    "    'w7': [(-7,-7), (0,0), (0,0)],\n",
    "    'w10': [(-10,-10), (0,0), (0,0)],\n",
    "    'nw5': [(-3.53553391,-3.53553391), (3.53553391,3.53553391), (0,0)],\n",
    "    'nw7': [(-4.94974747,-4.94974747), (4.94974747,4.94974747), (0,0)],\n",
    "    'nw10': [(-7.07106781,-7.07106781), (7.07106781,7.07106781), (0,0)],\n",
    "    'sw5': [(-3.53553391,-3.53553391), (-3.53553391,-3.53553391), (0,0)],\n",
    "    'sw7': [(-4.94974747,-4.94974747), (-4.94974747,-4.94974747), (0,0)],\n",
    "    'sw10': [(-7.07106781,-7.07106781), (-7.07106781,-7.07106781), (0,0)],\n",
    "    'ne5': [(3.53553391,3.53553391), (3.53553391,3.53553391), (0,0)],\n",
    "    'ne7': [(4.94974747,4.94974747), (4.94974747,4.94974747), (0,0)],\n",
    "    'ne10': [(7.07106781,7.07106781), (7.07106781,7.07106781), (0,0)],\n",
    "    'se5': [(3.53553391,3.53553391), (-3.53553391,-3.53553391), (0,0)],\n",
    "    'se7': [(4.94974747,4.94974747), (-4.94974747,-4.94974747), (0,0)],\n",
    "    'se10': [(7.07106781,7.07106781), (-7.07106781,-7.07106781), (0,0)],\n",
    "}"
   ]
  },
  {
   "cell_type": "code",
   "execution_count": 9,
   "id": "621e7b9b-fec7-4d1e-b13a-ae0958de15cd",
   "metadata": {},
   "outputs": [],
   "source": [
    "wind_results = pd.DataFrame(columns=['Wind', 'Total TTE', 'Mean TTE', 'Completed Mission', 'Reward', 'Time Outside Corridor'])"
   ]
  },
  {
   "cell_type": "code",
   "execution_count": 10,
   "id": "3e454d27-e982-4dd4-8287-fa03b58eb7fd",
   "metadata": {},
   "outputs": [],
   "source": [
    "def run_wind_sweep(results, wind_dict, agent, params):\n",
    "    for wind in tqdm(wind_dict.keys()):\n",
    "        log, info = run_trajectory(env_selector, wind_dict[wind], agent, params)\n",
    "        traj_err = get_tte(np.array([0,0,0]), log.target.position, log.x, log.y, log.z)\n",
    "        new_result = {\n",
    "            'Wind': wind,\n",
    "            'Mean TTE': np.mean(traj_err),\n",
    "            'Total TTE': np.sum(traj_err),\n",
    "            'Completed Mission': completed_mission(square_wpts, log.x, log.y, log.z, radius=5),\n",
    "            'Reward': np.sum(log.reward),\n",
    "            'Time Outside Corridor': toc(traj_err)\n",
    "        }\n",
    "        results = pd.concat([results, pd.DataFrame([new_result])], ignore_index=True)\n",
    "\n",
    "    return results"
   ]
  },
  {
   "cell_type": "code",
   "execution_count": 11,
   "id": "ab0bd35d-0c29-4ca0-83e4-1750cc418a4e",
   "metadata": {},
   "outputs": [
    {
     "name": "stderr",
     "output_type": "stream",
     "text": [
      "  0%|                                                                                                                                                                                        | 0/25 [00:00<?, ?it/s]\n"
     ]
    },
    {
     "ename": "KeyError",
     "evalue": "'steps_u'",
     "output_type": "error",
     "traceback": [
      "\u001b[0;31m---------------------------------------------------------------------------\u001b[0m",
      "\u001b[0;31mKeyError\u001b[0m                                  Traceback (most recent call last)",
      "Cell \u001b[0;32mIn[11], line 1\u001b[0m\n\u001b[0;32m----> 1\u001b[0m wind_results \u001b[38;5;241m=\u001b[39m \u001b[43mrun_wind_sweep\u001b[49m\u001b[43m(\u001b[49m\u001b[43mwind_results\u001b[49m\u001b[43m,\u001b[49m\u001b[43m \u001b[49m\u001b[43mwind_range_dict\u001b[49m\u001b[43m,\u001b[49m\u001b[43m \u001b[49m\u001b[43mbest_agent\u001b[49m\u001b[43m,\u001b[49m\u001b[43m \u001b[49m\u001b[43mbest_params\u001b[49m\u001b[43m)\u001b[49m\n",
      "Cell \u001b[0;32mIn[10], line 3\u001b[0m, in \u001b[0;36mrun_wind_sweep\u001b[0;34m(results, wind_dict, agent, params)\u001b[0m\n\u001b[1;32m      1\u001b[0m \u001b[38;5;28;01mdef\u001b[39;00m \u001b[38;5;21mrun_wind_sweep\u001b[39m(results, wind_dict, agent, params):\n\u001b[1;32m      2\u001b[0m     \u001b[38;5;28;01mfor\u001b[39;00m wind \u001b[38;5;129;01min\u001b[39;00m tqdm(wind_dict\u001b[38;5;241m.\u001b[39mkeys()):\n\u001b[0;32m----> 3\u001b[0m         log, info \u001b[38;5;241m=\u001b[39m \u001b[43mrun_trajectory\u001b[49m\u001b[43m(\u001b[49m\u001b[43menv_selector\u001b[49m\u001b[43m,\u001b[49m\u001b[43m \u001b[49m\u001b[43mwind_dict\u001b[49m\u001b[43m[\u001b[49m\u001b[43mwind\u001b[49m\u001b[43m]\u001b[49m\u001b[43m,\u001b[49m\u001b[43m \u001b[49m\u001b[43magent\u001b[49m\u001b[43m,\u001b[49m\u001b[43m \u001b[49m\u001b[43mparams\u001b[49m\u001b[43m)\u001b[49m\n\u001b[1;32m      4\u001b[0m         traj_err \u001b[38;5;241m=\u001b[39m get_tte(np\u001b[38;5;241m.\u001b[39marray([\u001b[38;5;241m0\u001b[39m,\u001b[38;5;241m0\u001b[39m,\u001b[38;5;241m0\u001b[39m]), log\u001b[38;5;241m.\u001b[39mtarget\u001b[38;5;241m.\u001b[39mposition, log\u001b[38;5;241m.\u001b[39mx, log\u001b[38;5;241m.\u001b[39my, log\u001b[38;5;241m.\u001b[39mz)\n\u001b[1;32m      5\u001b[0m         new_result \u001b[38;5;241m=\u001b[39m {\n\u001b[1;32m      6\u001b[0m             \u001b[38;5;124m'\u001b[39m\u001b[38;5;124mWind\u001b[39m\u001b[38;5;124m'\u001b[39m: wind,\n\u001b[1;32m      7\u001b[0m             \u001b[38;5;124m'\u001b[39m\u001b[38;5;124mMean TTE\u001b[39m\u001b[38;5;124m'\u001b[39m: np\u001b[38;5;241m.\u001b[39mmean(traj_err),\n\u001b[0;32m   (...)\u001b[0m\n\u001b[1;32m     11\u001b[0m             \u001b[38;5;124m'\u001b[39m\u001b[38;5;124mTime Outside Corridor\u001b[39m\u001b[38;5;124m'\u001b[39m: toc(traj_err)\n\u001b[1;32m     12\u001b[0m         }\n",
      "Cell \u001b[0;32mIn[7], line 2\u001b[0m, in \u001b[0;36mrun_trajectory\u001b[0;34m(env_selector, wind_ranges, agent, params)\u001b[0m\n\u001b[1;32m      1\u001b[0m \u001b[38;5;28;01mdef\u001b[39;00m \u001b[38;5;21mrun_trajectory\u001b[39m(env_selector, wind_ranges: np\u001b[38;5;241m.\u001b[39mndarray, agent, params):\n\u001b[0;32m----> 2\u001b[0m     env \u001b[38;5;241m=\u001b[39m \u001b[43menv_selector\u001b[49m\u001b[38;5;241;43m.\u001b[39;49m\u001b[43mget_env\u001b[49m\u001b[43m(\u001b[49m\u001b[38;5;124;43m\"\u001b[39;49m\u001b[38;5;124;43msliding\u001b[39;49m\u001b[38;5;124;43m\"\u001b[39;49m\u001b[43m,\u001b[49m\u001b[43m \u001b[49m\u001b[43mparams\u001b[49m\u001b[43m,\u001b[49m\u001b[43m \u001b[49m\u001b[43mwind_ranges\u001b[49m\u001b[43m,\u001b[49m\u001b[43m \u001b[49m\u001b[43msquare_wpts\u001b[49m\u001b[43m)\u001b[49m\n\u001b[1;32m      3\u001b[0m     done \u001b[38;5;241m=\u001b[39m \u001b[38;5;28;01mFalse\u001b[39;00m\n\u001b[1;32m      4\u001b[0m     state \u001b[38;5;241m=\u001b[39m np\u001b[38;5;241m.\u001b[39marray(env\u001b[38;5;241m.\u001b[39mreset(), dtype\u001b[38;5;241m=\u001b[39mnp\u001b[38;5;241m.\u001b[39mfloat32)\n",
      "File \u001b[0;32m~/projects/supervisory-control/src/environments.py:42\u001b[0m, in \u001b[0;36mOctorotorEnvSelector.get_env\u001b[0;34m(self, env_name, params, wind_range, waypts)\u001b[0m\n\u001b[1;32m     33\u001b[0m base_env_class, long_env_class \u001b[38;5;241m=\u001b[39m \u001b[38;5;28mself\u001b[39m\u001b[38;5;241m.\u001b[39menvs[env_name]\n\u001b[1;32m     35\u001b[0m env_kwargs \u001b[38;5;241m=\u001b[39m \u001b[38;5;28mdict\u001b[39m(\n\u001b[1;32m     36\u001b[0m     safety_radius\u001b[38;5;241m=\u001b[39m\u001b[38;5;241m5\u001b[39m, \n\u001b[1;32m     37\u001b[0m     seed\u001b[38;5;241m=\u001b[39m\u001b[38;5;241m0\u001b[39m,\n\u001b[1;32m     38\u001b[0m     get_controller_fn\u001b[38;5;241m=\u001b[39m\u001b[38;5;28;01mlambda\u001b[39;00m m: get_established_controller(m),\n\u001b[1;32m     39\u001b[0m     vp \u001b[38;5;241m=\u001b[39m VP,\n\u001b[1;32m     40\u001b[0m )\n\u001b[0;32m---> 42\u001b[0m env_kwargs[\u001b[38;5;124m'\u001b[39m\u001b[38;5;124msteps_u\u001b[39m\u001b[38;5;124m'\u001b[39m] \u001b[38;5;241m=\u001b[39m \u001b[43mparams\u001b[49m\u001b[43m[\u001b[49m\u001b[38;5;124;43m'\u001b[39;49m\u001b[38;5;124;43msteps_u\u001b[39;49m\u001b[38;5;124;43m'\u001b[39;49m\u001b[43m]\u001b[49m\n\u001b[1;32m     43\u001b[0m env_kwargs[\u001b[38;5;124m'\u001b[39m\u001b[38;5;124mscaling_factor\u001b[39m\u001b[38;5;124m'\u001b[39m] \u001b[38;5;241m=\u001b[39m params[\u001b[38;5;124m'\u001b[39m\u001b[38;5;124mscaling_factor\u001b[39m\u001b[38;5;124m'\u001b[39m]\n\u001b[1;32m     45\u001b[0m base_params \u001b[38;5;241m=\u001b[39m setup_base_params(wind_range, \u001b[38;5;241m*\u001b[39m\u001b[38;5;241m*\u001b[39menv_kwargs)\n",
      "\u001b[0;31mKeyError\u001b[0m: 'steps_u'"
     ]
    }
   ],
   "source": [
    "wind_results = run_wind_sweep(wind_results, wind_range_dict, best_agent, best_params)"
   ]
  },
  {
   "cell_type": "code",
   "execution_count": null,
   "id": "b968877e-abae-4830-8e14-ee7b56049138",
   "metadata": {},
   "outputs": [],
   "source": [
    "wind_results.to_csv('./data/all_wind.csv')"
   ]
  },
  {
   "cell_type": "code",
   "execution_count": null,
   "id": "93a621fe-aca0-45e7-af83-d142072d28d3",
   "metadata": {},
   "outputs": [],
   "source": [
    "wind_results = pd.read_csv('./data/all_wind.csv') # or read cardinal_wind.csv for the Cardinal High agent"
   ]
  },
  {
   "cell_type": "code",
   "execution_count": null,
   "id": "67f8afef-ed63-4e8b-8a14-bb4e70d7c03d",
   "metadata": {},
   "outputs": [],
   "source": [
    "wind_results"
   ]
  }
 ],
 "metadata": {
  "kernelspec": {
   "display_name": "Python 3 (ipykernel)",
   "language": "python",
   "name": "python3"
  },
  "language_info": {
   "codemirror_mode": {
    "name": "ipython",
    "version": 3
   },
   "file_extension": ".py",
   "mimetype": "text/x-python",
   "name": "python",
   "nbconvert_exporter": "python",
   "pygments_lexer": "ipython3",
   "version": "3.9.17"
  }
 },
 "nbformat": 4,
 "nbformat_minor": 5
}
