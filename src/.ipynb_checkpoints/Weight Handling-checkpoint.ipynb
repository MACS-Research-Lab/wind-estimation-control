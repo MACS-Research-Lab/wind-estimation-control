{
 "cells": [
  {
   "cell_type": "markdown",
   "id": "0cc4c10d-8423-4d62-800f-7108f57ea619",
   "metadata": {},
   "source": [
    "# How much weight can the Tarot T18 handle without crashing?\n",
    "\n",
    "I will give it a simple task of flying a square trajectory 30m in the air."
   ]
  },
  {
   "cell_type": "code",
   "execution_count": 10,
   "id": "b687b356-972c-4028-8995-0e17e4194a3c",
   "metadata": {},
   "outputs": [],
   "source": [
    "import matplotlib.pyplot as plt\n",
    "import numpy as np\n",
    "import pandas as pd\n",
    "from tqdm import tqdm\n",
    "\n",
    "from utilities import get_agent\n",
    "from environments import OctorotorEnvSelector\n",
    "from systems.pid_agent import PIDAgent\n",
    "from multirotor.helpers import DataLog"
   ]
  },
  {
   "cell_type": "code",
   "execution_count": 11,
   "id": "a039f861-6fb6-4891-8e2c-19e0cb52e240",
   "metadata": {},
   "outputs": [],
   "source": [
    "pid_agent = PIDAgent()\n",
    "\n",
    "pid_params = {'steps_u':50, 'scaling_factor':0, 'window_distance':10}\n",
    "env_selector = OctorotorEnvSelector()\n",
    "square_wpts = np.array([[100,0,30], [100,100,30], [0,100,30], [0,0,30]])"
   ]
  },
  {
   "cell_type": "code",
   "execution_count": 12,
   "id": "dfc8cd29-2310-4ab5-b619-04042b2b3d20",
   "metadata": {},
   "outputs": [],
   "source": [
    "def run_trajectory(env_selector, wind_ranges: np.ndarray, agent, params, mass):\n",
    "    env = env_selector.get_env(\"sliding\", params, wind_ranges, square_wpts, start_alt=30)\n",
    "    env.base_env.vehicle.params.mass = mass\n",
    "    done = False\n",
    "    state = np.array(env.reset(), dtype=np.float32)\n",
    "    log = DataLog(env.base_env.vehicle, env.base_env.ctrl,\n",
    "                      other_vars=('reward',))\n",
    "    while not done:\n",
    "        action = agent.predict(state, deterministic=True)[0]\n",
    "        state, reward, done, info = env.step(action)\n",
    "        state = np.array(state, dtype=np.float32)\n",
    "        log.log(reward=reward)\n",
    "\n",
    "    log.done_logging()\n",
    "    return log, info"
   ]
  },
  {
   "cell_type": "code",
   "execution_count": 15,
   "id": "0f89667b-21e7-49e5-8f43-8251143d4c7a",
   "metadata": {},
   "outputs": [],
   "source": [
    "def sweep_mass(env_selector, agent, params):\n",
    "    masses = [x*2 for x in range(1,26)] # 2-50 kg mass\n",
    "    \n",
    "    for mass in tqdm(masses):\n",
    "        log, info = run_trajectory(env_selector, [(0,0),(0,0),(0,0)], agent, params, mass)\n",
    "        if not info.get('reached'):\n",
    "            print(f\"Failed at {mass} kg\")\n",
    "            print(info)\n",
    "            return log\n",
    "\n",
    "    print(f\"Can handle {masses[0]} to {masses[-1]} kg\")\n",
    "    return None"
   ]
  },
  {
   "cell_type": "code",
   "execution_count": 16,
   "id": "4eaa64b9-5805-494e-89aa-272431304136",
   "metadata": {},
   "outputs": [
    {
     "name": "stderr",
     "output_type": "stream",
     "text": [
      " 72%|███████████████████████████████████████████████████████████████████████████████████████████████████████████████████████████▊                                                | 18/25 [01:22<00:32,  4.60s/it]"
     ]
    },
    {
     "name": "stdout",
     "output_type": "stream",
     "text": [
      "Failed at 38 kg\n",
      "{'u': array([100.     , 218.62863,  30.     ,   0.     ,   0.     ,   0.     ],\n",
      "      dtype=float32), 'dxdt': array([-1.2875e+01,  4.8052e+01, -9.0110e+00, -1.9000e+00,  4.8770e+00,\n",
      "        4.2360e+00, -3.9000e-02, -6.0000e-03,  1.0000e-03, -0.0000e+00,\n",
      "        0.0000e+00,  0.0000e+00,  0.0000e+00,  0.0000e+00,  0.0000e+00],\n",
      "      dtype=float32), 'reached': False, 'outofbounds': True, 'outoftime': False, 'tipped': False, 'crashed': True}\n"
     ]
    },
    {
     "name": "stderr",
     "output_type": "stream",
     "text": [
      "\n"
     ]
    }
   ],
   "source": [
    "failure_log = sweep_mass(env_selector, pid_agent, pid_params)"
   ]
  }
 ],
 "metadata": {
  "kernelspec": {
   "display_name": "Python 3 (ipykernel)",
   "language": "python",
   "name": "python3"
  },
  "language_info": {
   "codemirror_mode": {
    "name": "ipython",
    "version": 3
   },
   "file_extension": ".py",
   "mimetype": "text/x-python",
   "name": "python",
   "nbconvert_exporter": "python",
   "pygments_lexer": "ipython3",
   "version": "3.9.17"
  }
 },
 "nbformat": 4,
 "nbformat_minor": 5
}
