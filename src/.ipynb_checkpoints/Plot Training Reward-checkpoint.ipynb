{
 "cells": [
  {
   "cell_type": "markdown",
   "id": "f6a92761-0988-4cb8-b978-1e8c4680a171",
   "metadata": {},
   "source": [
    "# Plot Training Reward\n",
    "\n",
    "This notebook retrains our agent using the 'best' hyperparameters found through the search. Its purpose is to show how the reward changes over the course of training."
   ]
  },
  {
   "cell_type": "code",
   "execution_count": 1,
   "id": "efb57a46-8327-40f5-a22b-bea334263b8b",
   "metadata": {},
   "outputs": [],
   "source": [
    "from systems.long_multirotor import LongTrajEnv\n",
    "\n",
    "import notebook_setup\n",
    "import matplotlib.pyplot as plt\n",
    "import numpy as np\n",
    "from tqdm.autonotebook import tqdm, trange\n",
    "import optuna\n",
    "from stable_baselines3.common.callbacks import BaseCallback\n",
    "\n",
    "from rl import learn_rl, transform_rl_policy, PPO, load_agent\n",
    "from multirotor.simulation import Multirotor\n",
    "from multirotor.helpers import DataLog\n",
    "from multirotor.visualize import plot_datalog\n",
    "from multirotor.controller import Controller\n",
    "from multirotor.trajectories import Trajectory, GuidedTrajectory\n",
    "from multirotor.controller.scurves import SCurveController\n",
    "from systems.multirotor import MultirotorTrajEnv, VP\n",
    "from multirotor.controller import (\n",
    "    AltController, AltRateController,\n",
    "    PosController, AttController,\n",
    "    VelController, RateController,\n",
    "    Controller\n",
    ")\n",
    "from scripts.opt_pidcontroller import (\n",
    "    get_controller, make_disturbance_fn,\n",
    "    apply_params as apply_params_pid, get_study as get_study_pid\n",
    ")\n",
    "from scripts.opt_multirotorenv import apply_params, get_study, get_established_controller\n",
    "import pickle"
   ]
  },
  {
   "cell_type": "code",
   "execution_count": 2,
   "id": "fe413291-2e61-438c-8331-da67c2242780",
   "metadata": {},
   "outputs": [],
   "source": [
    "log_root_path = './tensorboard/MultirotorTrajEnv/optstudy/%s/'\n",
    "def get_study_agent_params(name):\n",
    "    study = get_study(name)\n",
    "    best_trial = study.best_trial.number\n",
    "    best_agent = load_agent((log_root_path + '%03d/run_1/agent') % (name, best_trial)) #best_trial\n",
    "    best_params = study.best_params\n",
    "    return study, best_agent, best_params"
   ]
  },
  {
   "cell_type": "code",
   "execution_count": 3,
   "id": "521e9c69-281c-48e1-bb30-a3b4391a5282",
   "metadata": {},
   "outputs": [
    {
     "name": "stderr",
     "output_type": "stream",
     "text": [
      "[I 2023-08-13 00:24:14,449] Using an existing study with name 'n@randomNewRewardv2' instead of creating a new one.\n"
     ]
    }
   ],
   "source": [
    "study, best_agent, best_params = get_study_agent_params('n@randomCardinalv2') #n@10v5 best so far"
   ]
  },
  {
   "cell_type": "code",
   "execution_count": 4,
   "id": "67024651-0e2e-420e-bc4d-910d9bf8cf3d",
   "metadata": {},
   "outputs": [
    {
     "data": {
      "text/plain": [
       "{'bounding_rect_length': 26,\n",
       " 'steps_u': 1,\n",
       " 'scaling_factor': 0.8500000000000001,\n",
       " 'learning_rate': 1.948017019787816e-05,\n",
       " 'n_epochs': 1,\n",
       " 'n_steps': 180096,\n",
       " 'batch_size': 64,\n",
       " 'training_interactions': 150000}"
      ]
     },
     "execution_count": 4,
     "metadata": {},
     "output_type": "execute_result"
    }
   ],
   "source": [
    "best_params"
   ]
  },
  {
   "cell_type": "code",
   "execution_count": 5,
   "id": "6f4926ab-008c-47ed-8101-bba087c9de7f",
   "metadata": {},
   "outputs": [],
   "source": [
    "def get_established_controller(m: Multirotor):\n",
    "    ctrl = get_controller(m, scurve=False)\n",
    "\n",
    "    with open('/home/courseac/projects/transfer_similarity/src/params/manual_pid.pkl', 'rb') as f: #TODO: make relative\n",
    "        optimal_params = pickle.load(f)\n",
    "\n",
    "    optimal_params['ctrl_z']['k_p'] = np.array([0.4])\n",
    "    optimal_params['ctrl_z']['k_i'] = np.array([0.0])\n",
    "    optimal_params['ctrl_z']['k_d'] = np.array([0.0])\n",
    "    optimal_params['ctrl_p']['max_velocity'] = 15\n",
    "\n",
    "    optimal_params['ctrl_a']['k_p'] = np.array([1.5, 2, 2])\n",
    "    optimal_params['ctrl_a']['k_i'] = np.array([0.5,0,0])\n",
    "    optimal_params['ctrl_a']['k_d'] = np.array([0.05,0,0])\n",
    "    optimal_params['ctrl_r']['k_p'] = np.array([10, 10, 10])\n",
    "    optimal_params['ctrl_r']['k_i'] = np.array([0,0,0])\n",
    "    optimal_params['ctrl_r']['k_d'] = np.array([0.5,0,0])\n",
    "\n",
    "    z_params = optimal_params['ctrl_z']\n",
    "    optimal_params['ctrl_vz']['k_p'] = 25\n",
    "    vz_params = optimal_params['ctrl_vz']\n",
    "\n",
    "    ctrl.set_params(**optimal_params)\n",
    "    ctrl.ctrl_z.set_params(**z_params)\n",
    "    ctrl.ctrl_vz.set_params(**vz_params)\n",
    "    return ctrl"
   ]
  },
  {
   "cell_type": "code",
   "execution_count": 6,
   "id": "bb7255a9-fb21-4f6d-98af-6a1ca6599904",
   "metadata": {},
   "outputs": [],
   "source": [
    "def get_env(wind_ranges, scurve=False, **kwargs):  \n",
    "    kw = dict(\n",
    "        safety_radius=kwargs['safety_radius'],\n",
    "        vp=VP,get_controller_fn=lambda m: get_established_controller(m),\n",
    "        steps_u=kwargs['steps_u'],\n",
    "        scaling_factor=kwargs['scaling_factor'],\n",
    "        wind_ranges=wind_ranges,\n",
    "        proximity=2,\n",
    "        seed=kwargs['seed'])\n",
    "    return MultirotorTrajEnv(**kw)"
   ]
  },
  {
   "cell_type": "code",
   "execution_count": 7,
   "id": "e3725b8e-1ebc-4a06-94d9-a88ed622183e",
   "metadata": {},
   "outputs": [],
   "source": [
    "def get_long_env(best_params, wind_range, always_modify_wind):\n",
    "    env_kwargs = dict(\n",
    "        safety_corridor=5,\n",
    "        safety_radius=5,\n",
    "        seed=0,\n",
    "        get_controller_fn=lambda m: get_established_controller(m, args),\n",
    "        vp = VP,\n",
    "    )\n",
    "\n",
    "    env_kwargs['steps_u'] = best_params['steps_u']\n",
    "    env_kwargs['scaling_factor'] = best_params['scaling_factor']\n",
    "\n",
    "    square_np = np.array([[100,0,0], [100,100,0], [0,100,0], [0,0,0]])\n",
    "    square_traj = Trajectory(None, points=square_np, resolution=best_params['bounding_rect_length'])\n",
    "    square_wpts = square_traj.generate_trajectory(curr_pos=np.array([0,0,0]))\n",
    "\n",
    "    env = LongTrajEnv(\n",
    "        waypoints = square_wpts,\n",
    "        base_env = get_env(wind_ranges = wind_range , **env_kwargs),\n",
    "        initial_waypoints = square_np,\n",
    "        randomize_direction=True,\n",
    "        always_modify_wind=always_modify_wind,\n",
    "        random_cardinal_wind=False\n",
    "    )\n",
    "\n",
    "    return env"
   ]
  },
  {
   "cell_type": "code",
   "execution_count": 8,
   "id": "3dfa11cb-0a9b-4526-a075-ee64753e3e9e",
   "metadata": {},
   "outputs": [],
   "source": [
    "learn_kwargs = dict(\n",
    "            n_steps = best_params['n_steps'],\n",
    "            learning_rate = best_params['learning_rate'],\n",
    "            n_epochs = best_params['n_epochs'],\n",
    "            batch_size = best_params['batch_size'],\n",
    "            policy_kwargs=dict(squash_output=False,\n",
    "                                net_arch=[dict(pi=[128,128], vf=[128,128])])\n",
    "        )"
   ]
  },
  {
   "cell_type": "code",
   "execution_count": 9,
   "id": "31415b18-2d27-4e5d-8a83-b9d49a4a0c74",
   "metadata": {},
   "outputs": [],
   "source": [
    "env = get_long_env(best_params, [(0,0),(0,10),(0,0)], always_modify_wind=False)"
   ]
  },
  {
   "cell_type": "code",
   "execution_count": 10,
   "id": "bbe64445-d973-40cb-90c3-002999e30d1b",
   "metadata": {},
   "outputs": [
    {
     "data": {
      "application/vnd.jupyter.widget-view+json": {
       "model_id": "a20ea509397845f580856b65782e83f8",
       "version_major": 2,
       "version_minor": 0
      },
      "text/plain": [
       "Output()"
      ]
     },
     "metadata": {},
     "output_type": "display_data"
    },
    {
     "data": {
      "text/html": [
       "<pre style=\"white-space:pre;overflow-x:auto;line-height:normal;font-family:Menlo,'DejaVu Sans Mono',consolas,'Courier New',monospace\"></pre>\n"
      ],
      "text/plain": []
     },
     "metadata": {},
     "output_type": "display_data"
    },
    {
     "data": {
      "text/html": [
       "<pre style=\"white-space:pre;overflow-x:auto;line-height:normal;font-family:Menlo,'DejaVu Sans Mono',consolas,'Courier New',monospace\">\n",
       "</pre>\n"
      ],
      "text/plain": [
       "\n"
      ]
     },
     "metadata": {},
     "output_type": "display_data"
    },
    {
     "data": {
      "application/vnd.jupyter.widget-view+json": {
       "model_id": "51d2271e5b874496817399a83f78f684",
       "version_major": 2,
       "version_minor": 0
      },
      "text/plain": [
       "Output()"
      ]
     },
     "metadata": {},
     "output_type": "display_data"
    },
    {
     "data": {
      "text/html": [
       "<pre style=\"white-space:pre;overflow-x:auto;line-height:normal;font-family:Menlo,'DejaVu Sans Mono',consolas,'Courier New',monospace\"></pre>\n"
      ],
      "text/plain": []
     },
     "metadata": {},
     "output_type": "display_data"
    },
    {
     "data": {
      "text/html": [
       "<pre style=\"white-space:pre;overflow-x:auto;line-height:normal;font-family:Menlo,'DejaVu Sans Mono',consolas,'Courier New',monospace\">\n",
       "</pre>\n"
      ],
      "text/plain": [
       "\n"
      ]
     },
     "metadata": {},
     "output_type": "display_data"
    },
    {
     "data": {
      "application/vnd.jupyter.widget-view+json": {
       "model_id": "eb4c4fb02f51417ea7a20144d14f55ef",
       "version_major": 2,
       "version_minor": 0
      },
      "text/plain": [
       "Output()"
      ]
     },
     "metadata": {},
     "output_type": "display_data"
    },
    {
     "data": {
      "text/html": [
       "<pre style=\"white-space:pre;overflow-x:auto;line-height:normal;font-family:Menlo,'DejaVu Sans Mono',consolas,'Courier New',monospace\"></pre>\n"
      ],
      "text/plain": []
     },
     "metadata": {},
     "output_type": "display_data"
    },
    {
     "data": {
      "text/html": [
       "<pre style=\"white-space:pre;overflow-x:auto;line-height:normal;font-family:Menlo,'DejaVu Sans Mono',consolas,'Courier New',monospace\">\n",
       "</pre>\n"
      ],
      "text/plain": [
       "\n"
      ]
     },
     "metadata": {},
     "output_type": "display_data"
    },
    {
     "data": {
      "application/vnd.jupyter.widget-view+json": {
       "model_id": "c9da25bbbe804a55b1e2248f8e559942",
       "version_major": 2,
       "version_minor": 0
      },
      "text/plain": [
       "Output()"
      ]
     },
     "metadata": {},
     "output_type": "display_data"
    },
    {
     "data": {
      "text/html": [
       "<pre style=\"white-space:pre;overflow-x:auto;line-height:normal;font-family:Menlo,'DejaVu Sans Mono',consolas,'Courier New',monospace\"></pre>\n"
      ],
      "text/plain": []
     },
     "metadata": {},
     "output_type": "display_data"
    },
    {
     "data": {
      "text/html": [
       "<pre style=\"white-space:pre;overflow-x:auto;line-height:normal;font-family:Menlo,'DejaVu Sans Mono',consolas,'Courier New',monospace\">\n",
       "</pre>\n"
      ],
      "text/plain": [
       "\n"
      ]
     },
     "metadata": {},
     "output_type": "display_data"
    },
    {
     "data": {
      "application/vnd.jupyter.widget-view+json": {
       "model_id": "d63a6f8c39d04968b41ea5124adf4e19",
       "version_major": 2,
       "version_minor": 0
      },
      "text/plain": [
       "Output()"
      ]
     },
     "metadata": {},
     "output_type": "display_data"
    },
    {
     "data": {
      "text/html": [
       "<pre style=\"white-space:pre;overflow-x:auto;line-height:normal;font-family:Menlo,'DejaVu Sans Mono',consolas,'Courier New',monospace\"></pre>\n"
      ],
      "text/plain": []
     },
     "metadata": {},
     "output_type": "display_data"
    },
    {
     "data": {
      "text/html": [
       "<pre style=\"white-space:pre;overflow-x:auto;line-height:normal;font-family:Menlo,'DejaVu Sans Mono',consolas,'Courier New',monospace\">\n",
       "</pre>\n"
      ],
      "text/plain": [
       "\n"
      ]
     },
     "metadata": {},
     "output_type": "display_data"
    }
   ],
   "source": [
    "for i in range(5):\n",
    "    agent = learn_rl(env, steps=best_params['steps'], tensorboard_log='./logs/reward_logging/n@cardinal', seed=i, progress_bar=True, **learn_kwargs)"
   ]
  },
  {
   "cell_type": "code",
   "execution_count": 1,
   "id": "f97433d2-e8b5-4e0e-b989-f05be19acbc7",
   "metadata": {},
   "outputs": [],
   "source": [
    "def convert_tb_data(root_dir, sort_by=None):\n",
    "    \"\"\"Convert local TensorBoard data into Pandas DataFrame.\n",
    "    \n",
    "    Function takes the root directory path and recursively parses\n",
    "    all events data.    \n",
    "    If the `sort_by` value is provided then it will use that column\n",
    "    to sort values; typically `wall_time` or `step`.\n",
    "    \n",
    "    *Note* that the whole data is converted into a DataFrame.\n",
    "    Depending on the data size this might take a while. If it takes\n",
    "    too long then narrow it to some sub-directories.\n",
    "    \n",
    "    Paramters:\n",
    "        root_dir: (str) path to root dir with tensorboard data.\n",
    "        sort_by: (optional str) column name to sort by.\n",
    "    \n",
    "    Returns:\n",
    "        pandas.DataFrame with [wall_time, name, step, value] columns.\n",
    "    \n",
    "    \"\"\"\n",
    "    import os\n",
    "    import pandas as pd\n",
    "    from tensorflow.python.summary.summary_iterator import summary_iterator\n",
    "\n",
    "    def convert_tfevent(filepath):\n",
    "        return pd.DataFrame([\n",
    "            parse_tfevent(e) for e in summary_iterator(filepath) if len(e.summary.value)\n",
    "        ])\n",
    "\n",
    "    def parse_tfevent(tfevent):\n",
    "        return dict(\n",
    "            wall_time=tfevent.wall_time,\n",
    "            name=tfevent.summary.value[0].tag,\n",
    "            step=tfevent.step,\n",
    "            value=float(tfevent.summary.value[0].simple_value),\n",
    "        )\n",
    "    \n",
    "    columns_order = ['wall_time', 'name', 'step', 'value']\n",
    "    \n",
    "    out = []\n",
    "    for (root, _, filenames) in os.walk(root_dir):\n",
    "        for filename in filenames:\n",
    "            if \"events.out.tfevents\" not in filename:\n",
    "                continue\n",
    "            file_full_path = os.path.join(root, filename)\n",
    "            out.append(convert_tfevent(file_full_path))\n",
    "\n",
    "    # Concatenate (and sort) all partial individual dataframes\n",
    "    all_df = pd.concat(out)[columns_order]\n",
    "    if sort_by is not None:\n",
    "        all_df = all_df.sort_values(sort_by)\n",
    "        \n",
    "    return all_df.reset_index(drop=True)\n"
   ]
  },
  {
   "cell_type": "code",
   "execution_count": 2,
   "id": "662402c1-7311-4883-9700-0e9d80cb7dc7",
   "metadata": {},
   "outputs": [
    {
     "name": "stderr",
     "output_type": "stream",
     "text": [
      "2023-08-13 01:07:57.788748: I tensorflow/tsl/cuda/cudart_stub.cc:28] Could not find cuda drivers on your machine, GPU will not be used.\n",
      "2023-08-13 01:07:57.823944: I tensorflow/tsl/cuda/cudart_stub.cc:28] Could not find cuda drivers on your machine, GPU will not be used.\n",
      "2023-08-13 01:07:57.824566: I tensorflow/core/platform/cpu_feature_guard.cc:182] This TensorFlow binary is optimized to use available CPU instructions in performance-critical operations.\n",
      "To enable the following instructions: AVX2 AVX512F FMA, in other operations, rebuild TensorFlow with the appropriate compiler flags.\n",
      "2023-08-13 01:07:58.465127: W tensorflow/compiler/tf2tensorrt/utils/py_utils.cc:38] TF-TRT Warning: Could not find TensorRT\n"
     ]
    },
    {
     "name": "stdout",
     "output_type": "stream",
     "text": [
      "WARNING:tensorflow:From /home/courseac/miniconda3/envs/xfer/lib/python3.9/site-packages/tensorflow/python/summary/summary_iterator.py:27: tf_record_iterator (from tensorflow.python.lib.io.tf_record) is deprecated and will be removed in a future version.\n",
      "Instructions for updating:\n",
      "Use eager execution and: \n",
      "`tf.data.TFRecordDataset(path)`\n"
     ]
    }
   ],
   "source": [
    "dir_path = \"/home/courseac/projects/transfer_similarity/src/tensorboard/MultirotorTrajEnv/optstudy/n@randomCardinalv2\"\n",
    "df = convert_tb_data(f\"{dir_path}\")"
   ]
  },
  {
   "cell_type": "code",
   "execution_count": 14,
   "id": "f6ccdafd-c966-4044-9b07-2a9d7499f6b0",
   "metadata": {},
   "outputs": [],
   "source": [
    "import matplotlib.pyplot as plt\n",
    "import seaborn as sns"
   ]
  },
  {
   "cell_type": "code",
   "execution_count": 7,
   "id": "a9a66ccf-01ba-4a37-a44a-49ec03581226",
   "metadata": {},
   "outputs": [
    {
     "data": {
      "text/html": [
       "<div>\n",
       "<style scoped>\n",
       "    .dataframe tbody tr th:only-of-type {\n",
       "        vertical-align: middle;\n",
       "    }\n",
       "\n",
       "    .dataframe tbody tr th {\n",
       "        vertical-align: top;\n",
       "    }\n",
       "\n",
       "    .dataframe thead th {\n",
       "        text-align: right;\n",
       "    }\n",
       "</style>\n",
       "<table border=\"1\" class=\"dataframe\">\n",
       "  <thead>\n",
       "    <tr style=\"text-align: right;\">\n",
       "      <th></th>\n",
       "      <th>wall_time</th>\n",
       "      <th>name</th>\n",
       "      <th>step</th>\n",
       "      <th>value</th>\n",
       "    </tr>\n",
       "  </thead>\n",
       "  <tbody>\n",
       "    <tr>\n",
       "      <th>0</th>\n",
       "      <td>1.691899e+09</td>\n",
       "      <td>_hparams_/experiment</td>\n",
       "      <td>0</td>\n",
       "      <td>0.000000e+00</td>\n",
       "    </tr>\n",
       "    <tr>\n",
       "      <th>1</th>\n",
       "      <td>1.691899e+09</td>\n",
       "      <td>_hparams_/session_start_info</td>\n",
       "      <td>0</td>\n",
       "      <td>0.000000e+00</td>\n",
       "    </tr>\n",
       "    <tr>\n",
       "      <th>2</th>\n",
       "      <td>1.691899e+09</td>\n",
       "      <td>_hparams_/session_end_info</td>\n",
       "      <td>0</td>\n",
       "      <td>0.000000e+00</td>\n",
       "    </tr>\n",
       "    <tr>\n",
       "      <th>3</th>\n",
       "      <td>1.691899e+09</td>\n",
       "      <td>time/fps</td>\n",
       "      <td>144</td>\n",
       "      <td>7.900000e+01</td>\n",
       "    </tr>\n",
       "    <tr>\n",
       "      <th>4</th>\n",
       "      <td>1.691899e+09</td>\n",
       "      <td>rollout/ep_len_mean</td>\n",
       "      <td>288</td>\n",
       "      <td>2.120000e+02</td>\n",
       "    </tr>\n",
       "    <tr>\n",
       "      <th>...</th>\n",
       "      <td>...</td>\n",
       "      <td>...</td>\n",
       "      <td>...</td>\n",
       "      <td>...</td>\n",
       "    </tr>\n",
       "    <tr>\n",
       "      <th>813485</th>\n",
       "      <td>1.691898e+09</td>\n",
       "      <td>train/learning_rate</td>\n",
       "      <td>640</td>\n",
       "      <td>1.289917e-08</td>\n",
       "    </tr>\n",
       "    <tr>\n",
       "      <th>813486</th>\n",
       "      <td>1.691898e+09</td>\n",
       "      <td>train/loss</td>\n",
       "      <td>640</td>\n",
       "      <td>6.595628e+03</td>\n",
       "    </tr>\n",
       "    <tr>\n",
       "      <th>813487</th>\n",
       "      <td>1.691898e+09</td>\n",
       "      <td>train/policy_gradient_loss</td>\n",
       "      <td>640</td>\n",
       "      <td>9.313226e-08</td>\n",
       "    </tr>\n",
       "    <tr>\n",
       "      <th>813488</th>\n",
       "      <td>1.691898e+09</td>\n",
       "      <td>train/std</td>\n",
       "      <td>640</td>\n",
       "      <td>1.000000e+00</td>\n",
       "    </tr>\n",
       "    <tr>\n",
       "      <th>813489</th>\n",
       "      <td>1.691898e+09</td>\n",
       "      <td>train/value_loss</td>\n",
       "      <td>640</td>\n",
       "      <td>1.319126e+04</td>\n",
       "    </tr>\n",
       "  </tbody>\n",
       "</table>\n",
       "<p>813490 rows × 4 columns</p>\n",
       "</div>"
      ],
      "text/plain": [
       "           wall_time                          name  step         value\n",
       "0       1.691899e+09          _hparams_/experiment     0  0.000000e+00\n",
       "1       1.691899e+09  _hparams_/session_start_info     0  0.000000e+00\n",
       "2       1.691899e+09    _hparams_/session_end_info     0  0.000000e+00\n",
       "3       1.691899e+09                      time/fps   144  7.900000e+01\n",
       "4       1.691899e+09           rollout/ep_len_mean   288  2.120000e+02\n",
       "...              ...                           ...   ...           ...\n",
       "813485  1.691898e+09           train/learning_rate   640  1.289917e-08\n",
       "813486  1.691898e+09                    train/loss   640  6.595628e+03\n",
       "813487  1.691898e+09    train/policy_gradient_loss   640  9.313226e-08\n",
       "813488  1.691898e+09                     train/std   640  1.000000e+00\n",
       "813489  1.691898e+09              train/value_loss   640  1.319126e+04\n",
       "\n",
       "[813490 rows x 4 columns]"
      ]
     },
     "execution_count": 7,
     "metadata": {},
     "output_type": "execute_result"
    }
   ],
   "source": [
    "df"
   ]
  },
  {
   "cell_type": "code",
   "execution_count": 9,
   "id": "b3cf1734-4f2a-4d5f-9ccf-8a6111d10e23",
   "metadata": {},
   "outputs": [],
   "source": [
    "rewards = df[df['name']=='rollout/ep_rew_mean']"
   ]
  },
  {
   "cell_type": "code",
   "execution_count": 30,
   "id": "529ba028-d151-47d6-8979-80d0ace66b32",
   "metadata": {},
   "outputs": [],
   "source": [
    "rewards.reset_index(inplace=True)"
   ]
  },
  {
   "cell_type": "code",
   "execution_count": 31,
   "id": "22d2f037-56fa-4f7c-8d65-79f6a17f2389",
   "metadata": {},
   "outputs": [
    {
     "data": {
      "text/html": [
       "<div>\n",
       "<style scoped>\n",
       "    .dataframe tbody tr th:only-of-type {\n",
       "        vertical-align: middle;\n",
       "    }\n",
       "\n",
       "    .dataframe tbody tr th {\n",
       "        vertical-align: top;\n",
       "    }\n",
       "\n",
       "    .dataframe thead th {\n",
       "        text-align: right;\n",
       "    }\n",
       "</style>\n",
       "<table border=\"1\" class=\"dataframe\">\n",
       "  <thead>\n",
       "    <tr style=\"text-align: right;\">\n",
       "      <th></th>\n",
       "      <th>index</th>\n",
       "      <th>wall_time</th>\n",
       "      <th>name</th>\n",
       "      <th>step</th>\n",
       "      <th>value</th>\n",
       "    </tr>\n",
       "  </thead>\n",
       "  <tbody>\n",
       "    <tr>\n",
       "      <th>0</th>\n",
       "      <td>5</td>\n",
       "      <td>1.691899e+09</td>\n",
       "      <td>rollout/ep_rew_mean</td>\n",
       "      <td>288</td>\n",
       "      <td>-3572.000000</td>\n",
       "    </tr>\n",
       "    <tr>\n",
       "      <th>1</th>\n",
       "      <td>18</td>\n",
       "      <td>1.691899e+09</td>\n",
       "      <td>rollout/ep_rew_mean</td>\n",
       "      <td>432</td>\n",
       "      <td>-2955.000000</td>\n",
       "    </tr>\n",
       "    <tr>\n",
       "      <th>2</th>\n",
       "      <td>31</td>\n",
       "      <td>1.691899e+09</td>\n",
       "      <td>rollout/ep_rew_mean</td>\n",
       "      <td>576</td>\n",
       "      <td>-2955.000000</td>\n",
       "    </tr>\n",
       "    <tr>\n",
       "      <th>3</th>\n",
       "      <td>44</td>\n",
       "      <td>1.691899e+09</td>\n",
       "      <td>rollout/ep_rew_mean</td>\n",
       "      <td>720</td>\n",
       "      <td>-3222.000000</td>\n",
       "    </tr>\n",
       "    <tr>\n",
       "      <th>4</th>\n",
       "      <td>57</td>\n",
       "      <td>1.691899e+09</td>\n",
       "      <td>rollout/ep_rew_mean</td>\n",
       "      <td>864</td>\n",
       "      <td>-3095.500000</td>\n",
       "    </tr>\n",
       "    <tr>\n",
       "      <th>...</th>\n",
       "      <td>...</td>\n",
       "      <td>...</td>\n",
       "      <td>...</td>\n",
       "      <td>...</td>\n",
       "      <td>...</td>\n",
       "    </tr>\n",
       "    <tr>\n",
       "      <th>62479</th>\n",
       "      <td>813213</td>\n",
       "      <td>1.691906e+09</td>\n",
       "      <td>rollout/ep_rew_mean</td>\n",
       "      <td>49152</td>\n",
       "      <td>-2951.520020</td>\n",
       "    </tr>\n",
       "    <tr>\n",
       "      <th>62480</th>\n",
       "      <td>813226</td>\n",
       "      <td>1.691906e+09</td>\n",
       "      <td>rollout/ep_rew_mean</td>\n",
       "      <td>49408</td>\n",
       "      <td>-2918.080078</td>\n",
       "    </tr>\n",
       "    <tr>\n",
       "      <th>62481</th>\n",
       "      <td>813239</td>\n",
       "      <td>1.691906e+09</td>\n",
       "      <td>rollout/ep_rew_mean</td>\n",
       "      <td>49664</td>\n",
       "      <td>-2863.949951</td>\n",
       "    </tr>\n",
       "    <tr>\n",
       "      <th>62482</th>\n",
       "      <td>813252</td>\n",
       "      <td>1.691906e+09</td>\n",
       "      <td>rollout/ep_rew_mean</td>\n",
       "      <td>49920</td>\n",
       "      <td>-2857.610107</td>\n",
       "    </tr>\n",
       "    <tr>\n",
       "      <th>62483</th>\n",
       "      <td>813265</td>\n",
       "      <td>1.691906e+09</td>\n",
       "      <td>rollout/ep_rew_mean</td>\n",
       "      <td>50176</td>\n",
       "      <td>-2870.060059</td>\n",
       "    </tr>\n",
       "  </tbody>\n",
       "</table>\n",
       "<p>62484 rows × 5 columns</p>\n",
       "</div>"
      ],
      "text/plain": [
       "        index     wall_time                 name   step        value\n",
       "0           5  1.691899e+09  rollout/ep_rew_mean    288 -3572.000000\n",
       "1          18  1.691899e+09  rollout/ep_rew_mean    432 -2955.000000\n",
       "2          31  1.691899e+09  rollout/ep_rew_mean    576 -2955.000000\n",
       "3          44  1.691899e+09  rollout/ep_rew_mean    720 -3222.000000\n",
       "4          57  1.691899e+09  rollout/ep_rew_mean    864 -3095.500000\n",
       "...       ...           ...                  ...    ...          ...\n",
       "62479  813213  1.691906e+09  rollout/ep_rew_mean  49152 -2951.520020\n",
       "62480  813226  1.691906e+09  rollout/ep_rew_mean  49408 -2918.080078\n",
       "62481  813239  1.691906e+09  rollout/ep_rew_mean  49664 -2863.949951\n",
       "62482  813252  1.691906e+09  rollout/ep_rew_mean  49920 -2857.610107\n",
       "62483  813265  1.691906e+09  rollout/ep_rew_mean  50176 -2870.060059\n",
       "\n",
       "[62484 rows x 5 columns]"
      ]
     },
     "execution_count": 31,
     "metadata": {},
     "output_type": "execute_result"
    }
   ],
   "source": [
    "rewards"
   ]
  },
  {
   "cell_type": "code",
   "execution_count": 35,
   "id": "af15a5b0-e866-41ed-adda-86f6eccfdd8d",
   "metadata": {},
   "outputs": [
    {
     "data": {
      "text/plain": [
       "(0.0, 20000.0)"
      ]
     },
     "execution_count": 35,
     "metadata": {},
     "output_type": "execute_result"
    },
    {
     "data": {
      "image/png": "[encoded data removed]",
      "text/plain": [
       "<Figure size 640x480 with 1 Axes>"
      ]
     },
     "metadata": {},
     "output_type": "display_data"
    }
   ],
   "source": [
    "plt.scatter(rewards['step'], rewards['value'], alpha=0.5, s=2)\n",
    "plt.xlim(0, 20000)"
   ]
  },
  {
   "cell_type": "code",
   "execution_count": 28,
   "id": "91595f89-19a4-43be-aee7-70bd7d5a3b10",
   "metadata": {},
   "outputs": [
    {
     "name": "stderr",
     "output_type": "stream",
     "text": [
      "/tmp/ipykernel_26548/2612426358.py:2: PerformanceWarning: The following operation may generate 11865565140 cells in the resulting pandas object.\n",
      "  df_wide = df.pivot(columns='step', values='value')\n"
     ]
    },
    {
     "ename": "KeyboardInterrupt",
     "evalue": "",
     "output_type": "error",
     "traceback": [
      "\u001b[0;31m---------------------------------------------------------------------------\u001b[0m",
      "\u001b[0;31mKeyboardInterrupt\u001b[0m                         Traceback (most recent call last)",
      "Cell \u001b[0;32mIn[28], line 2\u001b[0m\n\u001b[1;32m      1\u001b[0m \u001b[38;5;66;03m# Pivot the data\u001b[39;00m\n\u001b[0;32m----> 2\u001b[0m df_wide \u001b[38;5;241m=\u001b[39m \u001b[43mdf\u001b[49m\u001b[38;5;241;43m.\u001b[39;49m\u001b[43mpivot\u001b[49m\u001b[43m(\u001b[49m\u001b[43mcolumns\u001b[49m\u001b[38;5;241;43m=\u001b[39;49m\u001b[38;5;124;43m'\u001b[39;49m\u001b[38;5;124;43mstep\u001b[39;49m\u001b[38;5;124;43m'\u001b[39;49m\u001b[43m,\u001b[49m\u001b[43m \u001b[49m\u001b[43mvalues\u001b[49m\u001b[38;5;241;43m=\u001b[39;49m\u001b[38;5;124;43m'\u001b[39;49m\u001b[38;5;124;43mvalue\u001b[39;49m\u001b[38;5;124;43m'\u001b[39;49m\u001b[43m)\u001b[49m\n",
      "File \u001b[0;32m~/miniconda3/envs/xfer/lib/python3.9/site-packages/pandas/core/frame.py:8414\u001b[0m, in \u001b[0;36mDataFrame.pivot\u001b[0;34m(self, columns, index, values)\u001b[0m\n\u001b[1;32m   8409\u001b[0m \u001b[38;5;129m@Substitution\u001b[39m(\u001b[38;5;124m\"\u001b[39m\u001b[38;5;124m\"\u001b[39m)\n\u001b[1;32m   8410\u001b[0m \u001b[38;5;129m@Appender\u001b[39m(_shared_docs[\u001b[38;5;124m\"\u001b[39m\u001b[38;5;124mpivot\u001b[39m\u001b[38;5;124m\"\u001b[39m])\n\u001b[1;32m   8411\u001b[0m \u001b[38;5;28;01mdef\u001b[39;00m \u001b[38;5;21mpivot\u001b[39m(\u001b[38;5;28mself\u001b[39m, \u001b[38;5;241m*\u001b[39m, columns, index\u001b[38;5;241m=\u001b[39mlib\u001b[38;5;241m.\u001b[39mNoDefault, values\u001b[38;5;241m=\u001b[39mlib\u001b[38;5;241m.\u001b[39mNoDefault) \u001b[38;5;241m-\u001b[39m\u001b[38;5;241m>\u001b[39m DataFrame:\n\u001b[1;32m   8412\u001b[0m     \u001b[38;5;28;01mfrom\u001b[39;00m \u001b[38;5;21;01mpandas\u001b[39;00m\u001b[38;5;21;01m.\u001b[39;00m\u001b[38;5;21;01mcore\u001b[39;00m\u001b[38;5;21;01m.\u001b[39;00m\u001b[38;5;21;01mreshape\u001b[39;00m\u001b[38;5;21;01m.\u001b[39;00m\u001b[38;5;21;01mpivot\u001b[39;00m \u001b[38;5;28;01mimport\u001b[39;00m pivot\n\u001b[0;32m-> 8414\u001b[0m     \u001b[38;5;28;01mreturn\u001b[39;00m \u001b[43mpivot\u001b[49m\u001b[43m(\u001b[49m\u001b[38;5;28;43mself\u001b[39;49m\u001b[43m,\u001b[49m\u001b[43m \u001b[49m\u001b[43mindex\u001b[49m\u001b[38;5;241;43m=\u001b[39;49m\u001b[43mindex\u001b[49m\u001b[43m,\u001b[49m\u001b[43m \u001b[49m\u001b[43mcolumns\u001b[49m\u001b[38;5;241;43m=\u001b[39;49m\u001b[43mcolumns\u001b[49m\u001b[43m,\u001b[49m\u001b[43m \u001b[49m\u001b[43mvalues\u001b[49m\u001b[38;5;241;43m=\u001b[39;49m\u001b[43mvalues\u001b[49m\u001b[43m)\u001b[49m\n",
      "File \u001b[0;32m~/miniconda3/envs/xfer/lib/python3.9/site-packages/pandas/core/reshape/pivot.py:557\u001b[0m, in \u001b[0;36mpivot\u001b[0;34m(data, columns, index, values)\u001b[0m\n\u001b[1;32m    553\u001b[0m         indexed \u001b[38;5;241m=\u001b[39m data\u001b[38;5;241m.\u001b[39m_constructor_sliced(data[values]\u001b[38;5;241m.\u001b[39m_values, index\u001b[38;5;241m=\u001b[39mmultiindex)\n\u001b[1;32m    554\u001b[0m \u001b[38;5;66;03m# error: Argument 1 to \"unstack\" of \"DataFrame\" has incompatible type \"Union\u001b[39;00m\n\u001b[1;32m    555\u001b[0m \u001b[38;5;66;03m# [List[Any], ExtensionArray, ndarray[Any, Any], Index, Series]\"; expected\u001b[39;00m\n\u001b[1;32m    556\u001b[0m \u001b[38;5;66;03m# \"Hashable\"\u001b[39;00m\n\u001b[0;32m--> 557\u001b[0m result \u001b[38;5;241m=\u001b[39m \u001b[43mindexed\u001b[49m\u001b[38;5;241;43m.\u001b[39;49m\u001b[43munstack\u001b[49m\u001b[43m(\u001b[49m\u001b[43mcolumns_listlike\u001b[49m\u001b[43m)\u001b[49m  \u001b[38;5;66;03m# type: ignore[arg-type]\u001b[39;00m\n\u001b[1;32m    558\u001b[0m result\u001b[38;5;241m.\u001b[39mindex\u001b[38;5;241m.\u001b[39mnames \u001b[38;5;241m=\u001b[39m [\n\u001b[1;32m    559\u001b[0m     name \u001b[38;5;28;01mif\u001b[39;00m name \u001b[38;5;129;01mis\u001b[39;00m \u001b[38;5;129;01mnot\u001b[39;00m lib\u001b[38;5;241m.\u001b[39mNoDefault \u001b[38;5;28;01melse\u001b[39;00m \u001b[38;5;28;01mNone\u001b[39;00m \u001b[38;5;28;01mfor\u001b[39;00m name \u001b[38;5;129;01min\u001b[39;00m result\u001b[38;5;241m.\u001b[39mindex\u001b[38;5;241m.\u001b[39mnames\n\u001b[1;32m    560\u001b[0m ]\n\u001b[1;32m    562\u001b[0m \u001b[38;5;28;01mreturn\u001b[39;00m result\n",
      "File \u001b[0;32m~/miniconda3/envs/xfer/lib/python3.9/site-packages/pandas/core/series.py:4313\u001b[0m, in \u001b[0;36mSeries.unstack\u001b[0;34m(self, level, fill_value)\u001b[0m\n\u001b[1;32m   4270\u001b[0m \u001b[38;5;250m\u001b[39m\u001b[38;5;124;03m\"\"\"\u001b[39;00m\n\u001b[1;32m   4271\u001b[0m \u001b[38;5;124;03mUnstack, also known as pivot, Series with MultiIndex to produce DataFrame.\u001b[39;00m\n\u001b[1;32m   4272\u001b[0m \n\u001b[0;32m   (...)\u001b[0m\n\u001b[1;32m   4309\u001b[0m \u001b[38;5;124;03mb    2    4\u001b[39;00m\n\u001b[1;32m   4310\u001b[0m \u001b[38;5;124;03m\"\"\"\u001b[39;00m\n\u001b[1;32m   4311\u001b[0m \u001b[38;5;28;01mfrom\u001b[39;00m \u001b[38;5;21;01mpandas\u001b[39;00m\u001b[38;5;21;01m.\u001b[39;00m\u001b[38;5;21;01mcore\u001b[39;00m\u001b[38;5;21;01m.\u001b[39;00m\u001b[38;5;21;01mreshape\u001b[39;00m\u001b[38;5;21;01m.\u001b[39;00m\u001b[38;5;21;01mreshape\u001b[39;00m \u001b[38;5;28;01mimport\u001b[39;00m unstack\n\u001b[0;32m-> 4313\u001b[0m \u001b[38;5;28;01mreturn\u001b[39;00m \u001b[43munstack\u001b[49m\u001b[43m(\u001b[49m\u001b[38;5;28;43mself\u001b[39;49m\u001b[43m,\u001b[49m\u001b[43m \u001b[49m\u001b[43mlevel\u001b[49m\u001b[43m,\u001b[49m\u001b[43m \u001b[49m\u001b[43mfill_value\u001b[49m\u001b[43m)\u001b[49m\n",
      "File \u001b[0;32m~/miniconda3/envs/xfer/lib/python3.9/site-packages/pandas/core/reshape/reshape.py:488\u001b[0m, in \u001b[0;36munstack\u001b[0;34m(obj, level, fill_value)\u001b[0m\n\u001b[1;32m    486\u001b[0m \u001b[38;5;28;01mif\u001b[39;00m is_1d_only_ea_dtype(obj\u001b[38;5;241m.\u001b[39mdtype):\n\u001b[1;32m    487\u001b[0m     \u001b[38;5;28;01mreturn\u001b[39;00m _unstack_extension_series(obj, level, fill_value)\n\u001b[0;32m--> 488\u001b[0m unstacker \u001b[38;5;241m=\u001b[39m \u001b[43m_Unstacker\u001b[49m\u001b[43m(\u001b[49m\n\u001b[1;32m    489\u001b[0m \u001b[43m    \u001b[49m\u001b[43mobj\u001b[49m\u001b[38;5;241;43m.\u001b[39;49m\u001b[43mindex\u001b[49m\u001b[43m,\u001b[49m\u001b[43m \u001b[49m\u001b[43mlevel\u001b[49m\u001b[38;5;241;43m=\u001b[39;49m\u001b[43mlevel\u001b[49m\u001b[43m,\u001b[49m\u001b[43m \u001b[49m\u001b[43mconstructor\u001b[49m\u001b[38;5;241;43m=\u001b[39;49m\u001b[43mobj\u001b[49m\u001b[38;5;241;43m.\u001b[39;49m\u001b[43m_constructor_expanddim\u001b[49m\n\u001b[1;32m    490\u001b[0m \u001b[43m\u001b[49m\u001b[43m)\u001b[49m\n\u001b[1;32m    491\u001b[0m \u001b[38;5;28;01mreturn\u001b[39;00m unstacker\u001b[38;5;241m.\u001b[39mget_result(\n\u001b[1;32m    492\u001b[0m     obj\u001b[38;5;241m.\u001b[39m_values, value_columns\u001b[38;5;241m=\u001b[39m\u001b[38;5;28;01mNone\u001b[39;00m, fill_value\u001b[38;5;241m=\u001b[39mfill_value\n\u001b[1;32m    493\u001b[0m )\n",
      "File \u001b[0;32m~/miniconda3/envs/xfer/lib/python3.9/site-packages/pandas/core/reshape/reshape.py:136\u001b[0m, in \u001b[0;36m_Unstacker.__init__\u001b[0;34m(self, index, level, constructor)\u001b[0m\n\u001b[1;32m    128\u001b[0m \u001b[38;5;28;01mif\u001b[39;00m num_cells \u001b[38;5;241m>\u001b[39m np\u001b[38;5;241m.\u001b[39miinfo(np\u001b[38;5;241m.\u001b[39mint32)\u001b[38;5;241m.\u001b[39mmax:\n\u001b[1;32m    129\u001b[0m     warnings\u001b[38;5;241m.\u001b[39mwarn(\n\u001b[1;32m    130\u001b[0m         \u001b[38;5;124mf\u001b[39m\u001b[38;5;124m\"\u001b[39m\u001b[38;5;124mThe following operation may generate \u001b[39m\u001b[38;5;132;01m{\u001b[39;00mnum_cells\u001b[38;5;132;01m}\u001b[39;00m\u001b[38;5;124m cells \u001b[39m\u001b[38;5;124m\"\u001b[39m\n\u001b[1;32m    131\u001b[0m         \u001b[38;5;124mf\u001b[39m\u001b[38;5;124m\"\u001b[39m\u001b[38;5;124min the resulting pandas object.\u001b[39m\u001b[38;5;124m\"\u001b[39m,\n\u001b[1;32m    132\u001b[0m         PerformanceWarning,\n\u001b[1;32m    133\u001b[0m         stacklevel\u001b[38;5;241m=\u001b[39mfind_stack_level(),\n\u001b[1;32m    134\u001b[0m     )\n\u001b[0;32m--> 136\u001b[0m \u001b[38;5;28;43mself\u001b[39;49m\u001b[38;5;241;43m.\u001b[39;49m\u001b[43m_make_selectors\u001b[49m\u001b[43m(\u001b[49m\u001b[43m)\u001b[49m\n",
      "File \u001b[0;32m~/miniconda3/envs/xfer/lib/python3.9/site-packages/pandas/core/reshape/reshape.py:187\u001b[0m, in \u001b[0;36m_Unstacker._make_selectors\u001b[0;34m(self)\u001b[0m\n\u001b[1;32m    184\u001b[0m mask \u001b[38;5;241m=\u001b[39m np\u001b[38;5;241m.\u001b[39mzeros(np\u001b[38;5;241m.\u001b[39mprod(\u001b[38;5;28mself\u001b[39m\u001b[38;5;241m.\u001b[39mfull_shape), dtype\u001b[38;5;241m=\u001b[39m\u001b[38;5;28mbool\u001b[39m)\n\u001b[1;32m    185\u001b[0m mask\u001b[38;5;241m.\u001b[39mput(selector, \u001b[38;5;28;01mTrue\u001b[39;00m)\n\u001b[0;32m--> 187\u001b[0m \u001b[38;5;28;01mif\u001b[39;00m \u001b[43mmask\u001b[49m\u001b[38;5;241;43m.\u001b[39;49m\u001b[43msum\u001b[49m\u001b[43m(\u001b[49m\u001b[43m)\u001b[49m \u001b[38;5;241m<\u001b[39m \u001b[38;5;28mlen\u001b[39m(\u001b[38;5;28mself\u001b[39m\u001b[38;5;241m.\u001b[39mindex):\n\u001b[1;32m    188\u001b[0m     \u001b[38;5;28;01mraise\u001b[39;00m \u001b[38;5;167;01mValueError\u001b[39;00m(\u001b[38;5;124m\"\u001b[39m\u001b[38;5;124mIndex contains duplicate entries, cannot reshape\u001b[39m\u001b[38;5;124m\"\u001b[39m)\n\u001b[1;32m    190\u001b[0m \u001b[38;5;28mself\u001b[39m\u001b[38;5;241m.\u001b[39mgroup_index \u001b[38;5;241m=\u001b[39m comp_index\n",
      "File \u001b[0;32m~/miniconda3/envs/xfer/lib/python3.9/site-packages/numpy/core/_methods.py:49\u001b[0m, in \u001b[0;36m_sum\u001b[0;34m(a, axis, dtype, out, keepdims, initial, where)\u001b[0m\n\u001b[1;32m     47\u001b[0m \u001b[38;5;28;01mdef\u001b[39;00m \u001b[38;5;21m_sum\u001b[39m(a, axis\u001b[38;5;241m=\u001b[39m\u001b[38;5;28;01mNone\u001b[39;00m, dtype\u001b[38;5;241m=\u001b[39m\u001b[38;5;28;01mNone\u001b[39;00m, out\u001b[38;5;241m=\u001b[39m\u001b[38;5;28;01mNone\u001b[39;00m, keepdims\u001b[38;5;241m=\u001b[39m\u001b[38;5;28;01mFalse\u001b[39;00m,\n\u001b[1;32m     48\u001b[0m          initial\u001b[38;5;241m=\u001b[39m_NoValue, where\u001b[38;5;241m=\u001b[39m\u001b[38;5;28;01mTrue\u001b[39;00m):\n\u001b[0;32m---> 49\u001b[0m     \u001b[38;5;28;01mreturn\u001b[39;00m \u001b[43mumr_sum\u001b[49m\u001b[43m(\u001b[49m\u001b[43ma\u001b[49m\u001b[43m,\u001b[49m\u001b[43m \u001b[49m\u001b[43maxis\u001b[49m\u001b[43m,\u001b[49m\u001b[43m \u001b[49m\u001b[43mdtype\u001b[49m\u001b[43m,\u001b[49m\u001b[43m \u001b[49m\u001b[43mout\u001b[49m\u001b[43m,\u001b[49m\u001b[43m \u001b[49m\u001b[43mkeepdims\u001b[49m\u001b[43m,\u001b[49m\u001b[43m \u001b[49m\u001b[43minitial\u001b[49m\u001b[43m,\u001b[49m\u001b[43m \u001b[49m\u001b[43mwhere\u001b[49m\u001b[43m)\u001b[49m\n",
      "\u001b[0;31mKeyboardInterrupt\u001b[0m: "
     ]
    }
   ],
   "source": [
    "# Pivot the data\n",
    "df_wide = df.pivot(columns='step', values='value')"
   ]
  }
 ],
 "metadata": {
  "kernelspec": {
   "display_name": "Python 3 (ipykernel)",
   "language": "python",
   "name": "python3"
  },
  "language_info": {
   "codemirror_mode": {
    "name": "ipython",
    "version": 3
   },
   "file_extension": ".py",
   "mimetype": "text/x-python",
   "name": "python",
   "nbconvert_exporter": "python",
   "pygments_lexer": "ipython3",
   "version": "3.9.16"
  }
 },
 "nbformat": 4,
 "nbformat_minor": 5
}
