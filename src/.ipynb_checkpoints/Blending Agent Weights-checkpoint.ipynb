{
 "cells": [
  {
   "cell_type": "markdown",
   "id": "38e419f2-c4dc-435f-8218-732577a45803",
   "metadata": {},
   "source": [
    "# Wind Impact on Blending Agent Performance\n",
    "\n",
    "How robust is the RL architecture trained on to blend other RL policies to all wind?"
   ]
  },
  {
   "cell_type": "code",
   "execution_count": 12,
   "id": "1edcd168-276a-4926-8039-ebc03390ee43",
   "metadata": {},
   "outputs": [],
   "source": [
    "import matplotlib.pyplot as plt\n",
    "import numpy as np\n",
    "import pandas as pd\n",
    "from tqdm import tqdm\n",
    "\n",
    "from utilities import get_agent\n",
    "from environments import OctorotorEnvSelector\n",
    "from systems.pid_agent import PIDAgent\n",
    "from multirotor.helpers import DataLog\n",
    "from systems.long_blending import softmax"
   ]
  },
  {
   "cell_type": "code",
   "execution_count": 13,
   "id": "b8bd04f1-74e7-4eaf-a8bc-c5f414948a24",
   "metadata": {},
   "outputs": [
    {
     "name": "stderr",
     "output_type": "stream",
     "text": [
      "[I 2023-09-13 18:32:22,398] Using an existing study with name 'blending@softmax' instead of creating a new one.\n"
     ]
    }
   ],
   "source": [
    "study, best_agent, best_params = get_agent('blending@softmax@scaled', filepath='BlendingEnv')\n",
    "\n",
    "best_params['steps_u']=50\n",
    "best_params['scaling_factor']=5\n",
    "best_params['bounding_rect_length']=200\n",
    "best_params['window_distance']=10"
   ]
  },
  {
   "cell_type": "code",
   "execution_count": 14,
   "id": "b7c8e6e1-5bca-4dd2-999c-3d7006979e7f",
   "metadata": {
    "editable": true,
    "slideshow": {
     "slide_type": ""
    },
    "tags": []
   },
   "outputs": [],
   "source": [
    "env_selector = OctorotorEnvSelector()\n",
    "square_wpts = np.array([[100,0,0], [100,100,0], [0,100,0], [0,0,0]])"
   ]
  },
  {
   "cell_type": "code",
   "execution_count": 15,
   "id": "b22b1d5f-5f9e-4969-a678-ec6a62417c15",
   "metadata": {},
   "outputs": [],
   "source": [
    "def run_trajectory(env_selector, wind_ranges: np.ndarray, agent, params):\n",
    "    env = env_selector.get_env(\"blending\", params, wind_ranges, square_wpts)\n",
    "    done = False\n",
    "    state = np.array(env.reset(), dtype=np.float32)\n",
    "    log = DataLog(env.base_env.vehicle, env.base_env.ctrl,\n",
    "                      other_vars=('reward',))\n",
    "    weights = []\n",
    "    while not done:\n",
    "        action = agent.predict(state, deterministic=True)[0]\n",
    "        state, reward, done, info = env.step(action)\n",
    "        weights.append(softmax(action*5))\n",
    "        \n",
    "        state = np.array(state, dtype=np.float32)\n",
    "        log.log(reward=reward)\n",
    "\n",
    "    log.done_logging()\n",
    "    return log, info, np.mean(weights, axis=0), np.std(weights, axis=0)"
   ]
  },
  {
   "cell_type": "code",
   "execution_count": 16,
   "id": "621e7b9b-fec7-4d1e-b13a-ae0958de15cd",
   "metadata": {},
   "outputs": [],
   "source": [
    "average_weights = pd.DataFrame(columns=['Wind Speed', 'PID', 'PID Std', 'Mid', 'Mid Std', 'High', 'High Std'])"
   ]
  },
  {
   "cell_type": "code",
   "execution_count": 17,
   "id": "3e454d27-e982-4dd4-8287-fa03b58eb7fd",
   "metadata": {},
   "outputs": [],
   "source": [
    "def run_wind_sweep(results, agent, params):\n",
    "    for i in tqdm(range(10)):\n",
    "        log, info, avg_weights, std_weights = run_trajectory(env_selector,[(0,0),(-(i+1),-(i+1)),(0,0)], agent, params)\n",
    "        new_result = {\n",
    "            'Wind Speed': i+1,\n",
    "            'PID': avg_weights[0],\n",
    "            'PID Std': std_weights[0],\n",
    "            'Mid': avg_weights[1],\n",
    "            'Mid Std': std_weights[1],\n",
    "            'High': avg_weights[2],\n",
    "            'High Std': std_weights[2],\n",
    "        }\n",
    "        results = pd.concat([results, pd.DataFrame([new_result])], ignore_index=True)\n",
    "\n",
    "    return results"
   ]
  },
  {
   "cell_type": "code",
   "execution_count": 18,
   "id": "ab0bd35d-0c29-4ca0-83e4-1750cc418a4e",
   "metadata": {},
   "outputs": [
    {
     "name": "stderr",
     "output_type": "stream",
     "text": [
      "  0%|                                                                                                                                                                                        | 0/10 [00:00<?, ?it/s][I 2023-09-13 18:32:22,512] Using an existing study with name 'highwind' instead of creating a new one.\n",
      "[I 2023-09-13 18:32:22,587] Using an existing study with name 'midwind' instead of creating a new one.\n",
      " 10%|█████████████████▌                                                                                                                                                              | 1/10 [00:05<00:47,  5.25s/it][I 2023-09-13 18:32:27,758] Using an existing study with name 'highwind' instead of creating a new one.\n",
      "[I 2023-09-13 18:32:27,828] Using an existing study with name 'midwind' instead of creating a new one.\n",
      " 20%|███████████████████████████████████▏                                                                                                                                            | 2/10 [00:10<00:43,  5.38s/it][I 2023-09-13 18:32:33,233] Using an existing study with name 'highwind' instead of creating a new one.\n",
      "[I 2023-09-13 18:32:33,299] Using an existing study with name 'midwind' instead of creating a new one.\n",
      " 30%|████████████████████████████████████████████████████▊                                                                                                                           | 3/10 [00:16<00:37,  5.36s/it][I 2023-09-13 18:32:38,557] Using an existing study with name 'highwind' instead of creating a new one.\n",
      "[I 2023-09-13 18:32:38,627] Using an existing study with name 'midwind' instead of creating a new one.\n",
      " 40%|██████████████████████████████████████████████████████████████████████▍                                                                                                         | 4/10 [00:21<00:33,  5.53s/it][I 2023-09-13 18:32:44,363] Using an existing study with name 'highwind' instead of creating a new one.\n",
      "[I 2023-09-13 18:32:44,454] Using an existing study with name 'midwind' instead of creating a new one.\n",
      " 50%|████████████████████████████████████████████████████████████████████████████████████████                                                                                        | 5/10 [00:27<00:27,  5.53s/it][I 2023-09-13 18:32:49,899] Using an existing study with name 'highwind' instead of creating a new one.\n",
      "[I 2023-09-13 18:32:49,970] Using an existing study with name 'midwind' instead of creating a new one.\n",
      " 60%|█████████████████████████████████████████████████████████████████████████████████████████████████████████▌                                                                      | 6/10 [00:32<00:22,  5.54s/it][I 2023-09-13 18:32:55,441] Using an existing study with name 'highwind' instead of creating a new one.\n",
      "[I 2023-09-13 18:32:55,503] Using an existing study with name 'midwind' instead of creating a new one.\n",
      " 70%|███████████████████████████████████████████████████████████████████████████████████████████████████████████████████████████▏                                                    | 7/10 [00:38<00:16,  5.53s/it][I 2023-09-13 18:33:00,955] Using an existing study with name 'highwind' instead of creating a new one.\n",
      "[I 2023-09-13 18:33:01,278] Using an existing study with name 'midwind' instead of creating a new one.\n",
      " 80%|████████████████████████████████████████████████████████████████████████████████████████████████████████████████████████████████████████████▊                                   | 8/10 [00:44<00:11,  5.67s/it][I 2023-09-13 18:33:06,931] Using an existing study with name 'highwind' instead of creating a new one.\n",
      "[I 2023-09-13 18:33:07,028] Using an existing study with name 'midwind' instead of creating a new one.\n",
      " 90%|██████████████████████████████████████████████████████████████████████████████████████████████████████████████████████████████████████████████████████████████▍                 | 9/10 [00:50<00:05,  5.84s/it][I 2023-09-13 18:33:13,145] Using an existing study with name 'highwind' instead of creating a new one.\n",
      "[I 2023-09-13 18:33:13,215] Using an existing study with name 'midwind' instead of creating a new one.\n",
      "100%|███████████████████████████████████████████████████████████████████████████████████████████████████████████████████████████████████████████████████████████████████████████████| 10/10 [00:56<00:00,  5.68s/it]\n"
     ]
    }
   ],
   "source": [
    "average_weights = run_wind_sweep(average_weights, best_agent, best_params)"
   ]
  },
  {
   "cell_type": "code",
   "execution_count": 19,
   "id": "b968877e-abae-4830-8e14-ee7b56049138",
   "metadata": {},
   "outputs": [],
   "source": [
    "average_weights.to_csv('./data/weights_scaled.csv')"
   ]
  },
  {
   "cell_type": "code",
   "execution_count": 20,
   "id": "93a621fe-aca0-45e7-af83-d142072d28d3",
   "metadata": {},
   "outputs": [],
   "source": [
    "average_weights = pd.read_csv('./data/weights_scaled.csv') # or read cardinal_wind.csv for the Cardinal High agent"
   ]
  },
  {
   "cell_type": "code",
   "execution_count": 21,
   "id": "67f8afef-ed63-4e8b-8a14-bb4e70d7c03d",
   "metadata": {},
   "outputs": [
    {
     "data": {
      "text/html": [
       "<div>\n",
       "<style scoped>\n",
       "    .dataframe tbody tr th:only-of-type {\n",
       "        vertical-align: middle;\n",
       "    }\n",
       "\n",
       "    .dataframe tbody tr th {\n",
       "        vertical-align: top;\n",
       "    }\n",
       "\n",
       "    .dataframe thead th {\n",
       "        text-align: right;\n",
       "    }\n",
       "</style>\n",
       "<table border=\"1\" class=\"dataframe\">\n",
       "  <thead>\n",
       "    <tr style=\"text-align: right;\">\n",
       "      <th></th>\n",
       "      <th>Unnamed: 0</th>\n",
       "      <th>Wind Speed</th>\n",
       "      <th>PID</th>\n",
       "      <th>PID Std</th>\n",
       "      <th>Mid</th>\n",
       "      <th>Mid Std</th>\n",
       "      <th>High</th>\n",
       "      <th>High Std</th>\n",
       "    </tr>\n",
       "  </thead>\n",
       "  <tbody>\n",
       "    <tr>\n",
       "      <th>0</th>\n",
       "      <td>0</td>\n",
       "      <td>1</td>\n",
       "      <td>0.183137</td>\n",
       "      <td>0.035536</td>\n",
       "      <td>0.424571</td>\n",
       "      <td>0.087738</td>\n",
       "      <td>0.392293</td>\n",
       "      <td>0.067826</td>\n",
       "    </tr>\n",
       "    <tr>\n",
       "      <th>1</th>\n",
       "      <td>1</td>\n",
       "      <td>2</td>\n",
       "      <td>0.185152</td>\n",
       "      <td>0.034742</td>\n",
       "      <td>0.422358</td>\n",
       "      <td>0.087180</td>\n",
       "      <td>0.392490</td>\n",
       "      <td>0.067684</td>\n",
       "    </tr>\n",
       "    <tr>\n",
       "      <th>2</th>\n",
       "      <td>2</td>\n",
       "      <td>3</td>\n",
       "      <td>0.188748</td>\n",
       "      <td>0.036029</td>\n",
       "      <td>0.419232</td>\n",
       "      <td>0.088106</td>\n",
       "      <td>0.392020</td>\n",
       "      <td>0.067201</td>\n",
       "    </tr>\n",
       "    <tr>\n",
       "      <th>3</th>\n",
       "      <td>3</td>\n",
       "      <td>4</td>\n",
       "      <td>0.193649</td>\n",
       "      <td>0.036022</td>\n",
       "      <td>0.415522</td>\n",
       "      <td>0.086506</td>\n",
       "      <td>0.390829</td>\n",
       "      <td>0.065538</td>\n",
       "    </tr>\n",
       "    <tr>\n",
       "      <th>4</th>\n",
       "      <td>4</td>\n",
       "      <td>5</td>\n",
       "      <td>0.199938</td>\n",
       "      <td>0.036304</td>\n",
       "      <td>0.409802</td>\n",
       "      <td>0.085994</td>\n",
       "      <td>0.390260</td>\n",
       "      <td>0.064917</td>\n",
       "    </tr>\n",
       "    <tr>\n",
       "      <th>5</th>\n",
       "      <td>5</td>\n",
       "      <td>6</td>\n",
       "      <td>0.208087</td>\n",
       "      <td>0.036573</td>\n",
       "      <td>0.403108</td>\n",
       "      <td>0.082129</td>\n",
       "      <td>0.388805</td>\n",
       "      <td>0.061150</td>\n",
       "    </tr>\n",
       "    <tr>\n",
       "      <th>6</th>\n",
       "      <td>6</td>\n",
       "      <td>7</td>\n",
       "      <td>0.217850</td>\n",
       "      <td>0.036817</td>\n",
       "      <td>0.394582</td>\n",
       "      <td>0.080995</td>\n",
       "      <td>0.387568</td>\n",
       "      <td>0.060353</td>\n",
       "    </tr>\n",
       "    <tr>\n",
       "      <th>7</th>\n",
       "      <td>7</td>\n",
       "      <td>8</td>\n",
       "      <td>0.229079</td>\n",
       "      <td>0.037362</td>\n",
       "      <td>0.385509</td>\n",
       "      <td>0.079753</td>\n",
       "      <td>0.385412</td>\n",
       "      <td>0.058821</td>\n",
       "    </tr>\n",
       "    <tr>\n",
       "      <th>8</th>\n",
       "      <td>8</td>\n",
       "      <td>9</td>\n",
       "      <td>0.242089</td>\n",
       "      <td>0.037076</td>\n",
       "      <td>0.374390</td>\n",
       "      <td>0.077184</td>\n",
       "      <td>0.383521</td>\n",
       "      <td>0.057112</td>\n",
       "    </tr>\n",
       "    <tr>\n",
       "      <th>9</th>\n",
       "      <td>9</td>\n",
       "      <td>10</td>\n",
       "      <td>0.255419</td>\n",
       "      <td>0.037162</td>\n",
       "      <td>0.364617</td>\n",
       "      <td>0.071569</td>\n",
       "      <td>0.379964</td>\n",
       "      <td>0.053137</td>\n",
       "    </tr>\n",
       "  </tbody>\n",
       "</table>\n",
       "</div>"
      ],
      "text/plain": [
       "   Unnamed: 0  Wind Speed       PID   PID Std       Mid   Mid Std      High  \\\n",
       "0           0           1  0.183137  0.035536  0.424571  0.087738  0.392293   \n",
       "1           1           2  0.185152  0.034742  0.422358  0.087180  0.392490   \n",
       "2           2           3  0.188748  0.036029  0.419232  0.088106  0.392020   \n",
       "3           3           4  0.193649  0.036022  0.415522  0.086506  0.390829   \n",
       "4           4           5  0.199938  0.036304  0.409802  0.085994  0.390260   \n",
       "5           5           6  0.208087  0.036573  0.403108  0.082129  0.388805   \n",
       "6           6           7  0.217850  0.036817  0.394582  0.080995  0.387568   \n",
       "7           7           8  0.229079  0.037362  0.385509  0.079753  0.385412   \n",
       "8           8           9  0.242089  0.037076  0.374390  0.077184  0.383521   \n",
       "9           9          10  0.255419  0.037162  0.364617  0.071569  0.379964   \n",
       "\n",
       "   High Std  \n",
       "0  0.067826  \n",
       "1  0.067684  \n",
       "2  0.067201  \n",
       "3  0.065538  \n",
       "4  0.064917  \n",
       "5  0.061150  \n",
       "6  0.060353  \n",
       "7  0.058821  \n",
       "8  0.057112  \n",
       "9  0.053137  "
      ]
     },
     "execution_count": 21,
     "metadata": {},
     "output_type": "execute_result"
    }
   ],
   "source": [
    "average_weights"
   ]
  },
  {
   "cell_type": "code",
   "execution_count": 22,
   "id": "c8985c75-6716-4cb5-be1d-e8721b1e3398",
   "metadata": {},
   "outputs": [
    {
     "data": {
      "text/plain": [
       "array([0.18213798, 0.18213798, 0.63572403])"
      ]
     },
     "execution_count": 22,
     "metadata": {},
     "output_type": "execute_result"
    }
   ],
   "source": [
    "softmax((np.array([0,0,0.25]))*5)"
   ]
  }
 ],
 "metadata": {
  "kernelspec": {
   "display_name": "Python 3 (ipykernel)",
   "language": "python",
   "name": "python3"
  },
  "language_info": {
   "codemirror_mode": {
    "name": "ipython",
    "version": 3
   },
   "file_extension": ".py",
   "mimetype": "text/x-python",
   "name": "python",
   "nbconvert_exporter": "python",
   "pygments_lexer": "ipython3",
   "version": "3.9.17"
  }
 },
 "nbformat": 4,
 "nbformat_minor": 5
}
